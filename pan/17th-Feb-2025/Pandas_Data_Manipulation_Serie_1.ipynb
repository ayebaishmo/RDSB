{
  "cells": [
    {
      "cell_type": "markdown",
      "metadata": {
        "id": "sY5GRYLESZ4f"
      },
      "source": [
        "# Intro to Pandas DataFrames\n",
        "In the last chapter, we introduced the concept of a Python package/module. This lesson introduces the Pandas package and the DataFrame object, which you will use extensively as a data scientist.\n",
        "\n",
        "**Learning Objectives**\n",
        "1. Outline the benefits of progressing from a Python List to a NumPy array to a Pandas dataframe\n",
        "2. Create a dataframe using a dictionary\n",
        "3. Identify the 3 components of a dataframe\n",
        "4. Set the index of a dataframe"
      ]
    },
    {
      "cell_type": "markdown",
      "metadata": {
        "id": "qTpCycNESfQO"
      },
      "source": [
        "**Bake Sale Mini Project**\n",
        "Often in your work as a data scientist, you will be loading outside datasets into your Python environment. Today, however, we will create a simple data set for a mini-project analyzing the results of a bake sale.\n",
        "\n",
        "Let's suppose the \"Teens for Tech\" club has asked you to help them analyze data from their ongoing week-long bake sale.\n",
        "\n",
        "* They are planning on selling the following baked goods over 5 school days.\n",
        "   * brownie: $2.25\n",
        "\n",
        "   * cookie: $1.25\n",
        "\n",
        "   * cake: $9.50\n",
        "\n",
        "   * cupcake: $3.50\n",
        "\n",
        "* They were hoping to raise $1000\n",
        "\n",
        "**Starting with Lists - Names & Prices**\n",
        "\n",
        "Let's start by first creating lists with the names and prices of each of the baked goods.\n",
        "\n",
        "* Declare a variable, namesthat is a list containing the names of the baked goods they plan to sell.\n",
        "* Print or display the names list."
      ]
    },
    {
      "cell_type": "code",
      "execution_count": 1,
      "metadata": {
        "colab": {
          "base_uri": "https://localhost:8080/"
        },
        "id": "fPWIc2N9TOEC",
        "outputId": "8e5b4f6c-82cd-41f0-efd6-5e63980156f1"
      },
      "outputs": [
        {
          "data": {
            "text/plain": [
              "['brownie', 'cookie', 'cake', 'cupcake']"
            ]
          },
          "execution_count": 1,
          "metadata": {},
          "output_type": "execute_result"
        }
      ],
      "source": [
        "# Create list of bake sale names\n",
        "names_list = ['brownie','cookie','cake', 'cupcake']\n",
        "names_list"
      ]
    },
    {
      "cell_type": "markdown",
      "metadata": {
        "id": "eoU-e7yQTSoX"
      },
      "source": [
        "* Declare a second variable, **prices** which is a list containing the prices of each good (as integers).\n",
        "Make sure that you have the names and prices in the same order (if the brownie is first in your names list, then its price should be the first value in your prices list).\n",
        "* Print or display the prices list."
      ]
    },
    {
      "cell_type": "code",
      "execution_count": 2,
      "metadata": {
        "colab": {
          "base_uri": "https://localhost:8080/"
        },
        "id": "RwSZrbNkU0px",
        "outputId": "1b5852ce-d821-43d5-d017-1cb2d4cecb2b"
      },
      "outputs": [
        {
          "data": {
            "text/plain": [
              "[2.25, 1.25, 9.5, 3.5]"
            ]
          },
          "execution_count": 2,
          "metadata": {},
          "output_type": "execute_result"
        }
      ],
      "source": [
        "# Create a list of prices\n",
        "prices_list = [2.25,1.25,9.5, 3.5]\n",
        "prices_list"
      ]
    },
    {
      "cell_type": "markdown",
      "metadata": {
        "id": "CaYrZUTjTpEn"
      },
      "source": [
        "**Bakes Sale Results Day 1**\n",
        "The club has provided us with the quantities of each baked good sold on the first day of their bake sale:\n",
        "\n",
        "So far, the club has sold:\n",
        "\n",
        "* 17 brownies\n",
        "* 40 cookies\n",
        "* 1 cake\n",
        "* and 10 cupcakes"
      ]
    },
    {
      "cell_type": "markdown",
      "metadata": {
        "id": "pCQYAm70T-Ya"
      },
      "source": [
        "Declare a new list with these values called *quantities_sold_list* and print the *quantities_sold_list*."
      ]
    },
    {
      "cell_type": "code",
      "execution_count": 3,
      "metadata": {
        "colab": {
          "base_uri": "https://localhost:8080/"
        },
        "id": "DIjDhXtwUHs6",
        "outputId": "fd2b4999-3140-4967-a50b-272623721b42"
      },
      "outputs": [
        {
          "name": "stdout",
          "output_type": "stream",
          "text": [
            "[17, 40, 1, 10]\n"
          ]
        }
      ],
      "source": [
        "# Define a list with the quantity sold\n",
        "quantities_sold_list = [17, 40, 1, 10]\n",
        "print(quantities_sold_list)"
      ]
    },
    {
      "cell_type": "markdown",
      "metadata": {
        "id": "kF9B_-PbUSZ5"
      },
      "source": [
        "You should now have:\n",
        "\n",
        "* a list called names_list that contains 'brownie', 'cookie', 'cake', 'cupcake'\n",
        "* a list called prices_list that contains [2.25, 1.25, 9.5, 3.5]\n",
        "* a list called quantities_sold_list that contains [17, 40, 1, 10]\n",
        "\n",
        "The club has asked us to calculate their sales/revenue thus far. We need to calculate the total money collected from each of the baked goods so far.\n",
        "\n",
        "* To do so, we simply need to multiply each Price by the corresponding Quantity Sold.\n",
        "* Let's try to use our original lists to calculate the total sales."
      ]
    },
    {
      "cell_type": "code",
      "execution_count": 4,
      "metadata": {
        "colab": {
          "base_uri": "https://localhost:8080/",
          "height": 156
        },
        "id": "KBAfQeUkUg-v",
        "outputId": "b9d12e36-fff5-44b9-b0d1-bc52bfe5fbcf"
      },
      "outputs": [
        {
          "name": "stdout",
          "output_type": "stream",
          "text": [
            "[38.25, 50.0, 9.5, 35.0]\n"
          ]
        }
      ],
      "source": [
        "# Try multiplying two lists\n",
        "# prices_list * quantities_sold_list\n",
        "\n",
        "result = []\n",
        "\n",
        "for i in range(len(prices_list)):\n",
        "    result.append(prices_list[i] * quantities_sold_list[i])\n",
        "\n",
        "print(result)\n"
      ]
    },
    {
      "cell_type": "markdown",
      "metadata": {
        "id": "RWjerjkMVEiy"
      },
      "source": [
        "we get an error that reveals a critical weakness of lists: Lists cannot handle calculations.\n",
        "\n",
        "Data scientists need to perform many calculations! How can we accomplish this with Python?\n",
        "\n",
        "* One answer is to loop through the lists and slice out the price and quantity for the current baked good. Then we would have to multiply the result for each product and append each result to a new list. While this approach may work with our small dataset, this approach would become more costly as the size of our data increases, which we will demonstrate shortly.\n",
        "* A better answer is to use NumPy's special datatype: the ndarray"
      ]
    },
    {
      "cell_type": "markdown",
      "metadata": {
        "id": "cqg08MkCVqwl"
      },
      "source": [
        "**NumPy Arrays**\n",
        "\n",
        "Since NumPy is intended to perform linear algebra with Python, it includes a new custom class/data type: a NumPy ndarray.\n",
        "\n",
        "“Ndarray” stands for “N-Dimensional Array.\" That is to say, it is an array that can have any number of dimensions. As Data Scientists, we will generally be working with 1-dimensional and 2-dimensional data, but some more advanced applications will use data stored in higher dimensions. We will often refer to ndarrays simply as \"arrays.\""
      ]
    },
    {
      "cell_type": "markdown",
      "metadata": {
        "id": "gutCJxjaV1HJ"
      },
      "source": [
        "**Creating a NumPy Array**\n",
        "\n",
        "You can use the function np.array() to change a Python collection into a NumPy array. Remember to import the NumPy package first!\n",
        "Here we will convert the prices list to a NumPy array."
      ]
    },
    {
      "cell_type": "code",
      "execution_count": 5,
      "metadata": {
        "colab": {
          "base_uri": "https://localhost:8080/"
        },
        "id": "K7Qv0HyjV8P2",
        "outputId": "e023680d-2755-4ef2-e3bd-889e4a35d227"
      },
      "outputs": [
        {
          "data": {
            "text/plain": [
              "array([2.25, 1.25, 9.5 , 3.5 ])"
            ]
          },
          "execution_count": 5,
          "metadata": {},
          "output_type": "execute_result"
        }
      ],
      "source": [
        "# import numpy\n",
        "import numpy as np\n",
        "# make a numpy array from the prices list\n",
        "prices_array = np.array(prices_list)\n",
        "prices_array"
      ]
    },
    {
      "cell_type": "markdown",
      "metadata": {
        "id": "pJ7_PfekWAxs"
      },
      "source": [
        "Next, we will convert the quantities_sold_list to a NumPy array."
      ]
    },
    {
      "cell_type": "code",
      "execution_count": 6,
      "metadata": {
        "colab": {
          "base_uri": "https://localhost:8080/"
        },
        "id": "Hk-M10uJTOus",
        "outputId": "af94ca3c-294a-4431-c203-0b39b30f153b"
      },
      "outputs": [
        {
          "data": {
            "text/plain": [
              "array([17, 40,  1, 10])"
            ]
          },
          "execution_count": 6,
          "metadata": {},
          "output_type": "execute_result"
        }
      ],
      "source": [
        "# make a numpy array from the quantities sold list\n",
        "quantities_sold_array = np.array(quantities_sold_list)\n",
        "quantities_sold_array"
      ]
    },
    {
      "cell_type": "markdown",
      "metadata": {
        "id": "chuTwA-yWLy2"
      },
      "source": [
        "**Arrays vs. Lists**\n",
        "\n",
        "Arrays and Lists are very similar in the information they contain and how to access that information.\n",
        "Arrays, however, are more complex and efficient. They have additional functionality and properties.\n",
        "\n",
        "* Let's review some key differences between Python lists and NumPy arrays.\n",
        "\n",
        "**Number of Elements / Size**\n",
        "\n",
        "Both Lists and Arrays have lengths (len), but only arrays have a shape. First, we check the length of the prices list."
      ]
    },
    {
      "cell_type": "code",
      "execution_count": 7,
      "metadata": {
        "colab": {
          "base_uri": "https://localhost:8080/"
        },
        "id": "VjqiJ0qaWHxq",
        "outputId": "fa061f66-79f0-48f3-96a7-88e2fe23147d"
      },
      "outputs": [
        {
          "name": "stdout",
          "output_type": "stream",
          "text": [
            "4\n",
            "4\n"
          ]
        }
      ],
      "source": [
        "# Find the length of the prices list and the prices array\n",
        "print(len(prices_list))\n",
        "print(len(prices_array))"
      ]
    },
    {
      "cell_type": "markdown",
      "metadata": {
        "id": "TaRnaN_cWoTA"
      },
      "source": [
        "Unlike lists, arrays can be more than one dimension. Thus arrays have a shape, while lists do not.\n",
        "\n",
        "Here we attempt to check the shape of the prices list"
      ]
    },
    {
      "cell_type": "code",
      "execution_count": 8,
      "metadata": {
        "colab": {
          "base_uri": "https://localhost:8080/"
        },
        "id": "DKrvUdumWbk5",
        "outputId": "84675d3c-aaaf-412b-bc0a-47fddbb0270c"
      },
      "outputs": [
        {
          "data": {
            "text/plain": [
              "(4,)"
            ]
          },
          "execution_count": 8,
          "metadata": {},
          "output_type": "execute_result"
        }
      ],
      "source": [
        "# Attempt to check the shape of a list\n",
        "#prices_list.shape  #you should get an error, lists don't have a shape\n",
        "\n",
        "# Check the shape of the prices array\n",
        "prices_array.shape"
      ]
    },
    {
      "cell_type": "markdown",
      "metadata": {
        "id": "Ri9gSK5gXFnQ"
      },
      "source": [
        "Note: a 1-dimensional array will have a shape that looks like a tuple with the length and just a comma as we see in the output above.\n",
        "\n",
        "**Elementwise Calculations**\n",
        "For our Bake Sale, we need to calculate the Price * Quantity Sold for each item.\n",
        "\n",
        "* We need to multiply each element/index from the prices array\n",
        "and the corresponding element from the quantities sold array.\n",
        "\n",
        "We can do this without a loop thanks to NumPy's ability to perform **element-wise calculations**.\n",
        "\n",
        "NumPy arrays will automatically perform operations element-wise, as long as there is the same number of elements in each array."
      ]
    },
    {
      "cell_type": "code",
      "execution_count": 9,
      "metadata": {
        "colab": {
          "base_uri": "https://localhost:8080/"
        },
        "id": "l7kRYQdHXdiB",
        "outputId": "16859a8c-d72f-4710-b651-af4800e5c2eb"
      },
      "outputs": [
        {
          "data": {
            "text/plain": [
              "array([38.25, 50.  ,  9.5 , 35.  ])"
            ]
          },
          "execution_count": 9,
          "metadata": {},
          "output_type": "execute_result"
        }
      ],
      "source": [
        "# Arrays perform operations elementwise\n",
        "prices_array * quantities_sold_array"
      ]
    },
    {
      "cell_type": "markdown",
      "metadata": {
        "id": "VPy2H4N1Xjx8"
      },
      "source": [
        "Sure! This is a convenient way to obtain the revenue totals for each treat sold at the bake sale!"
      ]
    },
    {
      "cell_type": "markdown",
      "metadata": {
        "id": "NBqK3SvhYYJv"
      },
      "source": [
        "**Real-World Data is Tabular**\n",
        "\n",
        "NumPy arrays are the backbone of many of the data science tools we will be using in this program. Arrays are an improvement over lists, but they still suffer from one downside of lists: there are no labels or text associated with our data. Once we start tracking more than a few pieces of information, arrays become inadequate.\n",
        "\n",
        "\n",
        "For example, most real-world data comes in the form of a spreadsheet with rows and columns. If we were tracking our baked goods sales in a spreadsheet, we might have something like this:\n",
        "![image.png](data:image/png;base64,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)\n",
        "\n",
        "We need a way to work with data from spreadsheets and to maintain our column names and other text labels efficiently. Pandas provides us with the solution in the form of a Pandas DataFrame."
      ]
    },
    {
      "cell_type": "markdown",
      "metadata": {
        "id": "OHdjbUlbZLDu"
      },
      "source": [
        "**Intro to Pandas**\n",
        "\n",
        "Pandas is a Python package that you will become intimately familiar with as a Data Scientist. Pandas is built with NumPy and leverages the efficiency and speed of NumPy arrays combined with better visualization of our data. Pandas will be our primary tool for loading and working with data in Python going forward.\n",
        "\n",
        "Let's return to our bake sale data, but with Pandas. First, import pandas using its standard alias (pd)."
      ]
    },
    {
      "cell_type": "code",
      "execution_count": 10,
      "metadata": {
        "id": "krEYPu2FXeMf"
      },
      "outputs": [],
      "source": [
        "import pandas as pd"
      ]
    },
    {
      "cell_type": "markdown",
      "metadata": {
        "id": "ycrQZb8nZYR8"
      },
      "source": [
        "**Panda's New Data Types**\n",
        "\n",
        "Pandas has 2 main types of collections that we will be working with: Series and DataFrames.\n",
        "\n",
        "* Series are used for 1-dimensional data.\n",
        "* DataFrames are used for 2-dimensional data.\n",
        "(Note that \"DataFrame\" is also commonly written in text with lowercase letters as \"dataframe.\" We will use both interchangeably in the text. In code, however, you must use capital letters.)\n",
        "\n",
        "We will usually be working with 2-dimensional data, so let's dive into DataFrames first."
      ]
    },
    {
      "cell_type": "markdown",
      "metadata": {
        "id": "n0ZtowGYanMD"
      },
      "source": [
        "**Creating a DataFrame**\n",
        "\n",
        "There are several different ways that we can create a dataframe.\n",
        "\n",
        "Since we already have lists that contain the data we want in our dataframe, the easiest way to create the dataframe is to make a temporary dictionary with the column names we want to use as the keys and the list of data as the values."
      ]
    },
    {
      "cell_type": "code",
      "execution_count": 62,
      "metadata": {
        "id": "ebSeD3mhZUNx"
      },
      "outputs": [],
      "source": [
        "# Make a dataframe from a dictionary\n",
        "df = pd.DataFrame({'Name':names_list,\n",
        "                   'Price':prices_list,\n",
        "                   \"Quantity Sold\": quantities_sold_list})\n"
      ]
    },
    {
      "cell_type": "code",
      "execution_count": 63,
      "metadata": {},
      "outputs": [
        {
          "data": {
            "text/plain": [
              "{'Name': ['brownie', 'cookie', 'cake', 'cupcake'],\n",
              " 'Price': [2.25, 1.25, 9.5, 3.5],\n",
              " 'quantities_sold_day1': [17, 40, 1, 10]}"
            ]
          },
          "execution_count": 63,
          "metadata": {},
          "output_type": "execute_result"
        }
      ],
      "source": [
        "bakers_dictionary = {'Name': names_list,\n",
        "                     'Price': prices_list,\n",
        "                     'quantities_sold_day1': quantities_sold_list\n",
        "                     }\n",
        "bakers_dictionary"
      ]
    },
    {
      "cell_type": "code",
      "execution_count": 64,
      "metadata": {
        "id": "J167dVsfRT6i"
      },
      "outputs": [
        {
          "data": {
            "text/html": [
              "<div>\n",
              "<style scoped>\n",
              "    .dataframe tbody tr th:only-of-type {\n",
              "        vertical-align: middle;\n",
              "    }\n",
              "\n",
              "    .dataframe tbody tr th {\n",
              "        vertical-align: top;\n",
              "    }\n",
              "\n",
              "    .dataframe thead th {\n",
              "        text-align: right;\n",
              "    }\n",
              "</style>\n",
              "<table border=\"1\" class=\"dataframe\">\n",
              "  <thead>\n",
              "    <tr style=\"text-align: right;\">\n",
              "      <th></th>\n",
              "      <th>longitude</th>\n",
              "      <th>latitude</th>\n",
              "      <th>housing_median_age</th>\n",
              "      <th>total_rooms</th>\n",
              "      <th>total_bedrooms</th>\n",
              "      <th>population</th>\n",
              "      <th>households</th>\n",
              "      <th>median_income</th>\n",
              "      <th>median_house_value</th>\n",
              "    </tr>\n",
              "  </thead>\n",
              "  <tbody>\n",
              "    <tr>\n",
              "      <th>0</th>\n",
              "      <td>-114.31</td>\n",
              "      <td>34.19</td>\n",
              "      <td>15.0</td>\n",
              "      <td>5612.0</td>\n",
              "      <td>1283.0</td>\n",
              "      <td>1015.0</td>\n",
              "      <td>472.0</td>\n",
              "      <td>1.4936</td>\n",
              "      <td>66900.0</td>\n",
              "    </tr>\n",
              "    <tr>\n",
              "      <th>1</th>\n",
              "      <td>-114.47</td>\n",
              "      <td>34.40</td>\n",
              "      <td>19.0</td>\n",
              "      <td>7650.0</td>\n",
              "      <td>1901.0</td>\n",
              "      <td>1129.0</td>\n",
              "      <td>463.0</td>\n",
              "      <td>1.8200</td>\n",
              "      <td>80100.0</td>\n",
              "    </tr>\n",
              "    <tr>\n",
              "      <th>2</th>\n",
              "      <td>-114.56</td>\n",
              "      <td>33.69</td>\n",
              "      <td>17.0</td>\n",
              "      <td>720.0</td>\n",
              "      <td>174.0</td>\n",
              "      <td>333.0</td>\n",
              "      <td>117.0</td>\n",
              "      <td>1.6509</td>\n",
              "      <td>85700.0</td>\n",
              "    </tr>\n",
              "    <tr>\n",
              "      <th>3</th>\n",
              "      <td>-114.57</td>\n",
              "      <td>33.64</td>\n",
              "      <td>14.0</td>\n",
              "      <td>1501.0</td>\n",
              "      <td>337.0</td>\n",
              "      <td>515.0</td>\n",
              "      <td>226.0</td>\n",
              "      <td>3.1917</td>\n",
              "      <td>73400.0</td>\n",
              "    </tr>\n",
              "    <tr>\n",
              "      <th>4</th>\n",
              "      <td>-114.57</td>\n",
              "      <td>33.57</td>\n",
              "      <td>20.0</td>\n",
              "      <td>1454.0</td>\n",
              "      <td>326.0</td>\n",
              "      <td>624.0</td>\n",
              "      <td>262.0</td>\n",
              "      <td>1.9250</td>\n",
              "      <td>65500.0</td>\n",
              "    </tr>\n",
              "    <tr>\n",
              "      <th>...</th>\n",
              "      <td>...</td>\n",
              "      <td>...</td>\n",
              "      <td>...</td>\n",
              "      <td>...</td>\n",
              "      <td>...</td>\n",
              "      <td>...</td>\n",
              "      <td>...</td>\n",
              "      <td>...</td>\n",
              "      <td>...</td>\n",
              "    </tr>\n",
              "    <tr>\n",
              "      <th>16995</th>\n",
              "      <td>-124.26</td>\n",
              "      <td>40.58</td>\n",
              "      <td>52.0</td>\n",
              "      <td>2217.0</td>\n",
              "      <td>394.0</td>\n",
              "      <td>907.0</td>\n",
              "      <td>369.0</td>\n",
              "      <td>2.3571</td>\n",
              "      <td>111400.0</td>\n",
              "    </tr>\n",
              "    <tr>\n",
              "      <th>16996</th>\n",
              "      <td>-124.27</td>\n",
              "      <td>40.69</td>\n",
              "      <td>36.0</td>\n",
              "      <td>2349.0</td>\n",
              "      <td>528.0</td>\n",
              "      <td>1194.0</td>\n",
              "      <td>465.0</td>\n",
              "      <td>2.5179</td>\n",
              "      <td>79000.0</td>\n",
              "    </tr>\n",
              "    <tr>\n",
              "      <th>16997</th>\n",
              "      <td>-124.30</td>\n",
              "      <td>41.84</td>\n",
              "      <td>17.0</td>\n",
              "      <td>2677.0</td>\n",
              "      <td>531.0</td>\n",
              "      <td>1244.0</td>\n",
              "      <td>456.0</td>\n",
              "      <td>3.0313</td>\n",
              "      <td>103600.0</td>\n",
              "    </tr>\n",
              "    <tr>\n",
              "      <th>16998</th>\n",
              "      <td>-124.30</td>\n",
              "      <td>41.80</td>\n",
              "      <td>19.0</td>\n",
              "      <td>2672.0</td>\n",
              "      <td>552.0</td>\n",
              "      <td>1298.0</td>\n",
              "      <td>478.0</td>\n",
              "      <td>1.9797</td>\n",
              "      <td>85800.0</td>\n",
              "    </tr>\n",
              "    <tr>\n",
              "      <th>16999</th>\n",
              "      <td>-124.35</td>\n",
              "      <td>40.54</td>\n",
              "      <td>52.0</td>\n",
              "      <td>1820.0</td>\n",
              "      <td>300.0</td>\n",
              "      <td>806.0</td>\n",
              "      <td>270.0</td>\n",
              "      <td>3.0147</td>\n",
              "      <td>94600.0</td>\n",
              "    </tr>\n",
              "  </tbody>\n",
              "</table>\n",
              "<p>17000 rows × 9 columns</p>\n",
              "</div>"
            ],
            "text/plain": [
              "       longitude  latitude  housing_median_age  total_rooms  total_bedrooms  \\\n",
              "0        -114.31     34.19                15.0       5612.0          1283.0   \n",
              "1        -114.47     34.40                19.0       7650.0          1901.0   \n",
              "2        -114.56     33.69                17.0        720.0           174.0   \n",
              "3        -114.57     33.64                14.0       1501.0           337.0   \n",
              "4        -114.57     33.57                20.0       1454.0           326.0   \n",
              "...          ...       ...                 ...          ...             ...   \n",
              "16995    -124.26     40.58                52.0       2217.0           394.0   \n",
              "16996    -124.27     40.69                36.0       2349.0           528.0   \n",
              "16997    -124.30     41.84                17.0       2677.0           531.0   \n",
              "16998    -124.30     41.80                19.0       2672.0           552.0   \n",
              "16999    -124.35     40.54                52.0       1820.0           300.0   \n",
              "\n",
              "       population  households  median_income  median_house_value  \n",
              "0          1015.0       472.0         1.4936             66900.0  \n",
              "1          1129.0       463.0         1.8200             80100.0  \n",
              "2           333.0       117.0         1.6509             85700.0  \n",
              "3           515.0       226.0         3.1917             73400.0  \n",
              "4           624.0       262.0         1.9250             65500.0  \n",
              "...           ...         ...            ...                 ...  \n",
              "16995       907.0       369.0         2.3571            111400.0  \n",
              "16996      1194.0       465.0         2.5179             79000.0  \n",
              "16997      1244.0       456.0         3.0313            103600.0  \n",
              "16998      1298.0       478.0         1.9797             85800.0  \n",
              "16999       806.0       270.0         3.0147             94600.0  \n",
              "\n",
              "[17000 rows x 9 columns]"
            ]
          },
          "execution_count": 64,
          "metadata": {},
          "output_type": "execute_result"
        }
      ],
      "source": [
        "# #load data from external envt\n",
        "pd.read_csv(\"C:/Users/ISHMO_CT/Desktop/projects/RDSB/data/california_housing_train/california_housing_train.csv\")"
      ]
    },
    {
      "cell_type": "markdown",
      "metadata": {
        "id": "i_8aY6oAazq8"
      },
      "source": [
        "You can see how nicely organized and labeled the DataFrame is! Notice that it resembles the structure of a spreadsheet.\n",
        "\n",
        "It is a good idea to verify the data type when learning new code. Here you will confirm that this is indeed a DataFrame:"
      ]
    },
    {
      "cell_type": "code",
      "execution_count": 65,
      "metadata": {
        "colab": {
          "base_uri": "https://localhost:8080/",
          "height": 203
        },
        "id": "TjK7dOPvauf6",
        "outputId": "17060978-4850-4889-9fe2-63c479506977"
      },
      "outputs": [
        {
          "data": {
            "text/plain": [
              "pandas.core.frame.DataFrame"
            ]
          },
          "execution_count": 65,
          "metadata": {},
          "output_type": "execute_result"
        }
      ],
      "source": [
        "# Verify the data type\n",
        "type(df)"
      ]
    },
    {
      "cell_type": "markdown",
      "metadata": {
        "id": "0WA1JjMnbNp5"
      },
      "source": [
        "**Anatomy of a DataFrame**\n",
        "The DataFrame is comprised of 3 primary components:\n",
        "\n",
        "* the column names in bold font in the top row.\n",
        "* the original raw data values are stored in the grid in the center.\n",
        "* an index for each row in bold on the left.\n",
        "\n",
        "We can access these 3 components as attributes for our DataFrame.\n",
        "\n",
        "An **attribute** is a variable that is stored within another object. We access attributes using dot notation, similar to how we use a function stored inside a package. We do not use parenthesis when accessing an attribute.\n",
        "\n",
        "You can access the three primary components of a dataframe individually using the following code:"
      ]
    },
    {
      "cell_type": "code",
      "execution_count": 66,
      "metadata": {
        "colab": {
          "base_uri": "https://localhost:8080/"
        },
        "id": "eVMS4XgobEPF",
        "outputId": "20e18416-cf2a-4059-8b8d-e97f1b4f274d"
      },
      "outputs": [
        {
          "data": {
            "text/plain": [
              "Index(['Name', 'Price', 'Quantity Sold'], dtype='object')"
            ]
          },
          "execution_count": 66,
          "metadata": {},
          "output_type": "execute_result"
        }
      ],
      "source": [
        "# a special list with the names of each column\n",
        "df.columns"
      ]
    },
    {
      "cell_type": "code",
      "execution_count": 67,
      "metadata": {
        "colab": {
          "base_uri": "https://localhost:8080/"
        },
        "id": "_fu00ezIbhvH",
        "outputId": "5fcc49a7-68c5-4f57-a52b-879bbabe5652"
      },
      "outputs": [
        {
          "data": {
            "text/plain": [
              "array([['brownie', 2.25, 17],\n",
              "       ['cookie', 1.25, 40],\n",
              "       ['cake', 9.5, 1],\n",
              "       ['cupcake', 3.5, 10]], dtype=object)"
            ]
          },
          "execution_count": 67,
          "metadata": {},
          "output_type": "execute_result"
        }
      ],
      "source": [
        "# the raw data in a numpy array\n",
        "df.values"
      ]
    },
    {
      "cell_type": "code",
      "execution_count": 68,
      "metadata": {
        "colab": {
          "base_uri": "https://localhost:8080/"
        },
        "id": "Q1DhFkMZbiV2",
        "outputId": "9ea2d979-c93d-4797-d99d-0a71613dfe88"
      },
      "outputs": [
        {
          "data": {
            "text/plain": [
              "RangeIndex(start=0, stop=4, step=1)"
            ]
          },
          "execution_count": 68,
          "metadata": {},
          "output_type": "execute_result"
        }
      ],
      "source": [
        "# a special list with the row names (index)\n",
        "df.index"
      ]
    },
    {
      "cell_type": "markdown",
      "metadata": {
        "id": "t3EGKeKkbtdb"
      },
      "source": [
        "We can set one of our columns as the index if we have an alternative column with a unique value for each row. We have such a column, the Name. Let's set the index of our DataFrame to be the Names instead of just non-descriptive integers.\n",
        "\n",
        "**Setting the Index**\n",
        "\n",
        "The code below will allow us to preview what setting the index will look like, but does not make the change permanent."
      ]
    },
    {
      "cell_type": "code",
      "execution_count": 69,
      "metadata": {
        "colab": {
          "base_uri": "https://localhost:8080/",
          "height": 206
        },
        "id": "-n7Js1N0bmNK",
        "outputId": "e7e44e59-2f70-4ad8-bcf2-3b2a8899955f"
      },
      "outputs": [
        {
          "data": {
            "text/html": [
              "<div>\n",
              "<style scoped>\n",
              "    .dataframe tbody tr th:only-of-type {\n",
              "        vertical-align: middle;\n",
              "    }\n",
              "\n",
              "    .dataframe tbody tr th {\n",
              "        vertical-align: top;\n",
              "    }\n",
              "\n",
              "    .dataframe thead th {\n",
              "        text-align: right;\n",
              "    }\n",
              "</style>\n",
              "<table border=\"1\" class=\"dataframe\">\n",
              "  <thead>\n",
              "    <tr style=\"text-align: right;\">\n",
              "      <th></th>\n",
              "      <th>Price</th>\n",
              "      <th>Quantity Sold</th>\n",
              "    </tr>\n",
              "    <tr>\n",
              "      <th>Name</th>\n",
              "      <th></th>\n",
              "      <th></th>\n",
              "    </tr>\n",
              "  </thead>\n",
              "  <tbody>\n",
              "    <tr>\n",
              "      <th>brownie</th>\n",
              "      <td>2.25</td>\n",
              "      <td>17</td>\n",
              "    </tr>\n",
              "    <tr>\n",
              "      <th>cookie</th>\n",
              "      <td>1.25</td>\n",
              "      <td>40</td>\n",
              "    </tr>\n",
              "    <tr>\n",
              "      <th>cake</th>\n",
              "      <td>9.50</td>\n",
              "      <td>1</td>\n",
              "    </tr>\n",
              "    <tr>\n",
              "      <th>cupcake</th>\n",
              "      <td>3.50</td>\n",
              "      <td>10</td>\n",
              "    </tr>\n",
              "  </tbody>\n",
              "</table>\n",
              "</div>"
            ],
            "text/plain": [
              "         Price  Quantity Sold\n",
              "Name                         \n",
              "brownie   2.25             17\n",
              "cookie    1.25             40\n",
              "cake      9.50              1\n",
              "cupcake   3.50             10"
            ]
          },
          "execution_count": 69,
          "metadata": {},
          "output_type": "execute_result"
        }
      ],
      "source": [
        "# Run the set index command using the \"Name\"\n",
        "df.set_index(\"Name\")"
      ]
    },
    {
      "cell_type": "markdown",
      "metadata": {
        "id": "41saKmu-b3_P"
      },
      "source": [
        "Notice that our original integer column has been replaced with the Name. The Name column now appears in bold.\n",
        "\n",
        "If we check our .index again, however, we verify that this change was only temporary and was not saved."
      ]
    },
    {
      "cell_type": "code",
      "execution_count": 70,
      "metadata": {
        "colab": {
          "base_uri": "https://localhost:8080/"
        },
        "id": "e74T5T6RbyTE",
        "outputId": "a4f65ba3-c57c-4913-8bdc-1a96eb2ce15e"
      },
      "outputs": [
        {
          "data": {
            "text/plain": [
              "RangeIndex(start=0, stop=4, step=1)"
            ]
          },
          "execution_count": 70,
          "metadata": {},
          "output_type": "execute_result"
        }
      ],
      "source": [
        "# Check the index\n",
        "df.index"
      ]
    },
    {
      "cell_type": "code",
      "execution_count": 71,
      "metadata": {
        "colab": {
          "base_uri": "https://localhost:8080/",
          "height": 175
        },
        "id": "qo3gsiDfUKUo",
        "outputId": "4729fe6b-a275-418c-c8cb-289671a8e950"
      },
      "outputs": [
        {
          "data": {
            "text/html": [
              "<div>\n",
              "<style scoped>\n",
              "    .dataframe tbody tr th:only-of-type {\n",
              "        vertical-align: middle;\n",
              "    }\n",
              "\n",
              "    .dataframe tbody tr th {\n",
              "        vertical-align: top;\n",
              "    }\n",
              "\n",
              "    .dataframe thead th {\n",
              "        text-align: right;\n",
              "    }\n",
              "</style>\n",
              "<table border=\"1\" class=\"dataframe\">\n",
              "  <thead>\n",
              "    <tr style=\"text-align: right;\">\n",
              "      <th></th>\n",
              "      <th>Name</th>\n",
              "      <th>Price</th>\n",
              "      <th>Quantity Sold</th>\n",
              "    </tr>\n",
              "  </thead>\n",
              "  <tbody>\n",
              "    <tr>\n",
              "      <th>0</th>\n",
              "      <td>brownie</td>\n",
              "      <td>2.25</td>\n",
              "      <td>17</td>\n",
              "    </tr>\n",
              "    <tr>\n",
              "      <th>1</th>\n",
              "      <td>cookie</td>\n",
              "      <td>1.25</td>\n",
              "      <td>40</td>\n",
              "    </tr>\n",
              "    <tr>\n",
              "      <th>2</th>\n",
              "      <td>cake</td>\n",
              "      <td>9.50</td>\n",
              "      <td>1</td>\n",
              "    </tr>\n",
              "    <tr>\n",
              "      <th>3</th>\n",
              "      <td>cupcake</td>\n",
              "      <td>3.50</td>\n",
              "      <td>10</td>\n",
              "    </tr>\n",
              "  </tbody>\n",
              "</table>\n",
              "</div>"
            ],
            "text/plain": [
              "      Name  Price  Quantity Sold\n",
              "0  brownie   2.25             17\n",
              "1   cookie   1.25             40\n",
              "2     cake   9.50              1\n",
              "3  cupcake   3.50             10"
            ]
          },
          "execution_count": 71,
          "metadata": {},
          "output_type": "execute_result"
        }
      ],
      "source": [
        "df"
      ]
    },
    {
      "cell_type": "markdown",
      "metadata": {
        "id": "9nLBbhYFcG-S"
      },
      "source": [
        "We can get a preview of what things will look like without saving them by following the method above. However, if we want to save the change, the best way is to overwrite the existing dataframe by using \"df =\" before the rest of the code."
      ]
    },
    {
      "cell_type": "code",
      "execution_count": 72,
      "metadata": {
        "id": "MuobkuZqb8Sx"
      },
      "outputs": [],
      "source": [
        "# Overwrite the original variable\n",
        "df = df.set_index(\"Name\")"
      ]
    },
    {
      "cell_type": "markdown",
      "metadata": {
        "id": "_RB4W-y0cMp5"
      },
      "source": [
        "Now if we check the index, we will see the change has been made permanent:"
      ]
    },
    {
      "cell_type": "code",
      "execution_count": 73,
      "metadata": {
        "colab": {
          "base_uri": "https://localhost:8080/"
        },
        "id": "opLa2gGHcJMz",
        "outputId": "1986bf0f-408a-4076-a609-bb8ad0f0ddd6"
      },
      "outputs": [
        {
          "data": {
            "text/plain": [
              "Index(['brownie', 'cookie', 'cake', 'cupcake'], dtype='object', name='Name')"
            ]
          },
          "execution_count": 73,
          "metadata": {},
          "output_type": "execute_result"
        }
      ],
      "source": [
        "# Check the index after overwriting the variable\n",
        "df.index"
      ]
    },
    {
      "cell_type": "code",
      "execution_count": 74,
      "metadata": {
        "colab": {
          "base_uri": "https://localhost:8080/",
          "height": 206
        },
        "id": "De2IuxSBUWrR",
        "outputId": "9aa58f1f-76b2-4456-8fa5-d045cf7af946"
      },
      "outputs": [
        {
          "data": {
            "text/html": [
              "<div>\n",
              "<style scoped>\n",
              "    .dataframe tbody tr th:only-of-type {\n",
              "        vertical-align: middle;\n",
              "    }\n",
              "\n",
              "    .dataframe tbody tr th {\n",
              "        vertical-align: top;\n",
              "    }\n",
              "\n",
              "    .dataframe thead th {\n",
              "        text-align: right;\n",
              "    }\n",
              "</style>\n",
              "<table border=\"1\" class=\"dataframe\">\n",
              "  <thead>\n",
              "    <tr style=\"text-align: right;\">\n",
              "      <th></th>\n",
              "      <th>Price</th>\n",
              "      <th>Quantity Sold</th>\n",
              "    </tr>\n",
              "    <tr>\n",
              "      <th>Name</th>\n",
              "      <th></th>\n",
              "      <th></th>\n",
              "    </tr>\n",
              "  </thead>\n",
              "  <tbody>\n",
              "    <tr>\n",
              "      <th>brownie</th>\n",
              "      <td>2.25</td>\n",
              "      <td>17</td>\n",
              "    </tr>\n",
              "    <tr>\n",
              "      <th>cookie</th>\n",
              "      <td>1.25</td>\n",
              "      <td>40</td>\n",
              "    </tr>\n",
              "    <tr>\n",
              "      <th>cake</th>\n",
              "      <td>9.50</td>\n",
              "      <td>1</td>\n",
              "    </tr>\n",
              "    <tr>\n",
              "      <th>cupcake</th>\n",
              "      <td>3.50</td>\n",
              "      <td>10</td>\n",
              "    </tr>\n",
              "  </tbody>\n",
              "</table>\n",
              "</div>"
            ],
            "text/plain": [
              "         Price  Quantity Sold\n",
              "Name                         \n",
              "brownie   2.25             17\n",
              "cookie    1.25             40\n",
              "cake      9.50              1\n",
              "cupcake   3.50             10"
            ]
          },
          "execution_count": 74,
          "metadata": {},
          "output_type": "execute_result"
        }
      ],
      "source": [
        "df"
      ]
    },
    {
      "cell_type": "markdown",
      "metadata": {
        "id": "e5uVJmWEcatt"
      },
      "source": [
        "Great, now our dataframe has been updated."
      ]
    },
    {
      "cell_type": "code",
      "execution_count": 75,
      "metadata": {
        "colab": {
          "base_uri": "https://localhost:8080/",
          "height": 206
        },
        "id": "ihzf5u77cPUm",
        "outputId": "433ba089-95b8-4c30-cdca-dbab944e2ae0"
      },
      "outputs": [
        {
          "data": {
            "text/html": [
              "<div>\n",
              "<style scoped>\n",
              "    .dataframe tbody tr th:only-of-type {\n",
              "        vertical-align: middle;\n",
              "    }\n",
              "\n",
              "    .dataframe tbody tr th {\n",
              "        vertical-align: top;\n",
              "    }\n",
              "\n",
              "    .dataframe thead th {\n",
              "        text-align: right;\n",
              "    }\n",
              "</style>\n",
              "<table border=\"1\" class=\"dataframe\">\n",
              "  <thead>\n",
              "    <tr style=\"text-align: right;\">\n",
              "      <th></th>\n",
              "      <th>Price</th>\n",
              "      <th>Quantity Sold</th>\n",
              "    </tr>\n",
              "    <tr>\n",
              "      <th>Name</th>\n",
              "      <th></th>\n",
              "      <th></th>\n",
              "    </tr>\n",
              "  </thead>\n",
              "  <tbody>\n",
              "    <tr>\n",
              "      <th>brownie</th>\n",
              "      <td>2.25</td>\n",
              "      <td>17</td>\n",
              "    </tr>\n",
              "    <tr>\n",
              "      <th>cookie</th>\n",
              "      <td>1.25</td>\n",
              "      <td>40</td>\n",
              "    </tr>\n",
              "    <tr>\n",
              "      <th>cake</th>\n",
              "      <td>9.50</td>\n",
              "      <td>1</td>\n",
              "    </tr>\n",
              "    <tr>\n",
              "      <th>cupcake</th>\n",
              "      <td>3.50</td>\n",
              "      <td>10</td>\n",
              "    </tr>\n",
              "  </tbody>\n",
              "</table>\n",
              "</div>"
            ],
            "text/plain": [
              "         Price  Quantity Sold\n",
              "Name                         \n",
              "brownie   2.25             17\n",
              "cookie    1.25             40\n",
              "cake      9.50              1\n",
              "cupcake   3.50             10"
            ]
          },
          "execution_count": 75,
          "metadata": {},
          "output_type": "execute_result"
        }
      ],
      "source": [
        "# display dataframe with new index\n",
        "df"
      ]
    },
    {
      "cell_type": "markdown",
      "metadata": {
        "id": "zxAxHm1KckBa"
      },
      "source": [
        "Note, alternative approach that uses the \"in place = True\" argument instead of overwriting the variable as shown:"
      ]
    },
    {
      "cell_type": "code",
      "execution_count": 76,
      "metadata": {
        "id": "B5LT6geLct6I"
      },
      "outputs": [],
      "source": [
        "#df.set_index(\"Name\", inplace=True)"
      ]
    },
    {
      "cell_type": "markdown",
      "metadata": {
        "id": "-LS85isKdDd8"
      },
      "source": [
        "**Summary**\n",
        "\n",
        "This lesson included data from a bake sale to demonstrate the progression from Python lists, to NumPy arrays, to Pandas DataFrames. NumPy arrays allow for 2-dimensional data and elementwise calculations, but lack labels. Pandas dataframes provide us with the functionality of NumPy and also provide a familiar view of data that is similar to a spreadsheet. Dataframes have labeled columns and indexed rows. We can provide meaningful labels to our index if each row of our data has a unique value. We will continue to work in Pandas throughout the program.\n",
        "\n"
      ]
    },
    {
      "cell_type": "markdown",
      "metadata": {
        "id": "hySYAlU-dMP4"
      },
      "source": [
        "# Working With Data Frames\n",
        "\n",
        "**Learning objectives**\n",
        "\n",
        "* Working with DataFrames\n",
        "* Slice columns from a dataframe\n",
        "* Differentiate between a series and a dataframe\n",
        "* Perform elementwise calculations\n",
        "* Combine a series and a dataframe\n",
        "* Add new columns to a dataframe"
      ]
    },
    {
      "cell_type": "markdown",
      "metadata": {
        "id": "4iswJgCbecFV"
      },
      "source": [
        "**Key Terms**\n",
        "* Slice\n",
        "* Series\n",
        "* Concatenate"
      ]
    },
    {
      "cell_type": "markdown",
      "metadata": {
        "id": "RK7dB_Btejix"
      },
      "source": [
        "**Slicing Columns Using Brackets**\n",
        "\n",
        "We will often want to access just certain parts of our dataset. \"Slicing\" is the process of selecting a subset of the data based on a label or position. Slicing can refer to selecting row(s) and/or columns(s). In this lesson, we will demonstrate slicing columns.\n",
        "\n",
        "With square brackets, you can select one or more columns. Single square brackets will return a Pandas Series, while double square brackets will return a Pandas dataframe.\n",
        "\n",
        "**Single brackets return a Series**\n",
        "The code below will select the \"Price\" column from the dataframe and will return a Series."
      ]
    },
    {
      "cell_type": "code",
      "execution_count": 77,
      "metadata": {
        "colab": {
          "base_uri": "https://localhost:8080/"
        },
        "id": "-bNSSHb2cdLj",
        "outputId": "e01e4bfa-5308-46bb-f0eb-6dd2b4c8f541"
      },
      "outputs": [
        {
          "data": {
            "text/plain": [
              "Name\n",
              "brownie    2.25\n",
              "cookie     1.25\n",
              "cake       9.50\n",
              "cupcake    3.50\n",
              "Name: Price, dtype: float64"
            ]
          },
          "execution_count": 77,
          "metadata": {},
          "output_type": "execute_result"
        }
      ],
      "source": [
        "# select one column usig single square brackets\n",
        "df['Price']"
      ]
    },
    {
      "cell_type": "markdown",
      "metadata": {
        "id": "mUU8t7cNexin"
      },
      "source": [
        "We can save the sliced information as a new variable:"
      ]
    },
    {
      "cell_type": "code",
      "execution_count": 78,
      "metadata": {
        "colab": {
          "base_uri": "https://localhost:8080/"
        },
        "id": "OS8VrKNFew7U",
        "outputId": "72e8f4f1-19c0-4348-ae3b-9e69fd950728"
      },
      "outputs": [
        {
          "data": {
            "text/plain": [
              "Name\n",
              "brownie    2.25\n",
              "cookie     1.25\n",
              "cake       9.50\n",
              "cupcake    3.50\n",
              "Name: Price, dtype: float64"
            ]
          },
          "execution_count": 78,
          "metadata": {},
          "output_type": "execute_result"
        }
      ],
      "source": [
        "# save the column as a new variable\n",
        "sliced = df['Price']\n",
        "sliced"
      ]
    },
    {
      "cell_type": "markdown",
      "metadata": {
        "id": "nPR4aEj-e3JN"
      },
      "source": [
        "Now let's check the datatype for our new variable:"
      ]
    },
    {
      "cell_type": "code",
      "execution_count": 79,
      "metadata": {
        "colab": {
          "base_uri": "https://localhost:8080/",
          "height": 203
        },
        "id": "esyCWDCnez1g",
        "outputId": "683f5fb7-3cf1-4999-a516-fc9f17d90757"
      },
      "outputs": [
        {
          "data": {
            "text/plain": [
              "pandas.core.series.Series"
            ]
          },
          "execution_count": 79,
          "metadata": {},
          "output_type": "execute_result"
        }
      ],
      "source": [
        "# This is a pandas series\n",
        "type(sliced)"
      ]
    },
    {
      "cell_type": "markdown",
      "metadata": {
        "id": "90N_XfzBe78l"
      },
      "source": [
        "The data type is a Pandas Series. We will discuss the differences between a Series and a DataFrame shortly."
      ]
    },
    {
      "cell_type": "markdown",
      "metadata": {
        "id": "BEtmsGY3fBZ4"
      },
      "source": [
        "**Double brackets return a DataFrame**\n",
        "\n",
        "First, let's demonstrate using two sets of square brackets to slice out a DataFrame version of the data with a single column."
      ]
    },
    {
      "cell_type": "code",
      "execution_count": 80,
      "metadata": {
        "colab": {
          "base_uri": "https://localhost:8080/",
          "height": 206
        },
        "id": "w38IB9E2WaCx",
        "outputId": "06f76d01-a3b5-4676-bf2c-1a1c7fc82258"
      },
      "outputs": [
        {
          "name": "stdout",
          "output_type": "stream",
          "text": [
            "         Price  Quantity Sold\n",
            "Name                         \n",
            "brownie   2.25             17\n",
            "cookie    1.25             40\n",
            "cake      9.50              1\n",
            "cupcake   3.50             10\n"
          ]
        }
      ],
      "source": [
        "df.columns\n",
        "x = df[['Price','Quantity Sold']]\n",
        "print(x)"
      ]
    },
    {
      "cell_type": "code",
      "execution_count": 81,
      "metadata": {
        "colab": {
          "base_uri": "https://localhost:8080/",
          "height": 206
        },
        "id": "xzM54WiYe5Wt",
        "outputId": "1c20ec7b-193d-4005-f1d2-c4f1c55c9f69"
      },
      "outputs": [
        {
          "data": {
            "text/html": [
              "<div>\n",
              "<style scoped>\n",
              "    .dataframe tbody tr th:only-of-type {\n",
              "        vertical-align: middle;\n",
              "    }\n",
              "\n",
              "    .dataframe tbody tr th {\n",
              "        vertical-align: top;\n",
              "    }\n",
              "\n",
              "    .dataframe thead th {\n",
              "        text-align: right;\n",
              "    }\n",
              "</style>\n",
              "<table border=\"1\" class=\"dataframe\">\n",
              "  <thead>\n",
              "    <tr style=\"text-align: right;\">\n",
              "      <th></th>\n",
              "      <th>Price</th>\n",
              "    </tr>\n",
              "    <tr>\n",
              "      <th>Name</th>\n",
              "      <th></th>\n",
              "    </tr>\n",
              "  </thead>\n",
              "  <tbody>\n",
              "    <tr>\n",
              "      <th>brownie</th>\n",
              "      <td>2.25</td>\n",
              "    </tr>\n",
              "    <tr>\n",
              "      <th>cookie</th>\n",
              "      <td>1.25</td>\n",
              "    </tr>\n",
              "    <tr>\n",
              "      <th>cake</th>\n",
              "      <td>9.50</td>\n",
              "    </tr>\n",
              "    <tr>\n",
              "      <th>cupcake</th>\n",
              "      <td>3.50</td>\n",
              "    </tr>\n",
              "  </tbody>\n",
              "</table>\n",
              "</div>"
            ],
            "text/plain": [
              "         Price\n",
              "Name          \n",
              "brownie   2.25\n",
              "cookie    1.25\n",
              "cake      9.50\n",
              "cupcake   3.50"
            ]
          },
          "execution_count": 81,
          "metadata": {},
          "output_type": "execute_result"
        }
      ],
      "source": [
        "# Select one column using double brackets returns a DataFrame\n",
        "df_slice = df[['Price']]\n",
        "df_slice"
      ]
    },
    {
      "cell_type": "markdown",
      "metadata": {
        "id": "KDMdf9-NfKmR"
      },
      "source": [
        "Now verify the data type:"
      ]
    },
    {
      "cell_type": "code",
      "execution_count": 82,
      "metadata": {
        "colab": {
          "base_uri": "https://localhost:8080/",
          "height": 203
        },
        "id": "--HYUZKAfHIv",
        "outputId": "4bed0cb9-d32c-48c4-daa6-00683ec00606"
      },
      "outputs": [
        {
          "data": {
            "text/plain": [
              "pandas.core.frame.DataFrame"
            ]
          },
          "execution_count": 82,
          "metadata": {},
          "output_type": "execute_result"
        }
      ],
      "source": [
        "# This is a pandas DataFrame\n",
        "type(df_slice)"
      ]
    },
    {
      "cell_type": "markdown",
      "metadata": {
        "id": "2P_5-DGZfdKV"
      },
      "source": [
        "The data type is a Pandas DataFrame with one column, Price."
      ]
    },
    {
      "cell_type": "markdown",
      "metadata": {
        "id": "z3QFw0qbfg0f"
      },
      "source": [
        "**Slicing Multiple Columns**\n",
        "\n",
        "To select multiple columns, include the additional column names, separated by commas."
      ]
    },
    {
      "cell_type": "code",
      "execution_count": 83,
      "metadata": {
        "colab": {
          "base_uri": "https://localhost:8080/",
          "height": 206
        },
        "id": "ShBcJfvDfNCF",
        "outputId": "32a95c80-8a18-4d5b-e706-f5c43146477a"
      },
      "outputs": [
        {
          "data": {
            "text/html": [
              "<div>\n",
              "<style scoped>\n",
              "    .dataframe tbody tr th:only-of-type {\n",
              "        vertical-align: middle;\n",
              "    }\n",
              "\n",
              "    .dataframe tbody tr th {\n",
              "        vertical-align: top;\n",
              "    }\n",
              "\n",
              "    .dataframe thead th {\n",
              "        text-align: right;\n",
              "    }\n",
              "</style>\n",
              "<table border=\"1\" class=\"dataframe\">\n",
              "  <thead>\n",
              "    <tr style=\"text-align: right;\">\n",
              "      <th></th>\n",
              "      <th>Quantity Sold</th>\n",
              "      <th>Price</th>\n",
              "    </tr>\n",
              "    <tr>\n",
              "      <th>Name</th>\n",
              "      <th></th>\n",
              "      <th></th>\n",
              "    </tr>\n",
              "  </thead>\n",
              "  <tbody>\n",
              "    <tr>\n",
              "      <th>brownie</th>\n",
              "      <td>17</td>\n",
              "      <td>2.25</td>\n",
              "    </tr>\n",
              "    <tr>\n",
              "      <th>cookie</th>\n",
              "      <td>40</td>\n",
              "      <td>1.25</td>\n",
              "    </tr>\n",
              "    <tr>\n",
              "      <th>cake</th>\n",
              "      <td>1</td>\n",
              "      <td>9.50</td>\n",
              "    </tr>\n",
              "    <tr>\n",
              "      <th>cupcake</th>\n",
              "      <td>10</td>\n",
              "      <td>3.50</td>\n",
              "    </tr>\n",
              "  </tbody>\n",
              "</table>\n",
              "</div>"
            ],
            "text/plain": [
              "         Quantity Sold  Price\n",
              "Name                         \n",
              "brownie             17   2.25\n",
              "cookie              40   1.25\n",
              "cake                 1   9.50\n",
              "cupcake             10   3.50"
            ]
          },
          "execution_count": 83,
          "metadata": {},
          "output_type": "execute_result"
        }
      ],
      "source": [
        "# Select multiple columns using double brackets\n",
        "df[['Quantity Sold', 'Price']]"
      ]
    },
    {
      "cell_type": "markdown",
      "metadata": {
        "id": "FM2esLiafpH7"
      },
      "source": [
        "An alternative is to save a list of column names as a variable and then use that variable inside the brackets"
      ]
    },
    {
      "cell_type": "code",
      "execution_count": 84,
      "metadata": {
        "colab": {
          "base_uri": "https://localhost:8080/",
          "height": 206
        },
        "id": "1S2A9s0Fflbq",
        "outputId": "2fc661ef-fc50-4c05-e256-1a89c7203c19"
      },
      "outputs": [
        {
          "data": {
            "text/html": [
              "<div>\n",
              "<style scoped>\n",
              "    .dataframe tbody tr th:only-of-type {\n",
              "        vertical-align: middle;\n",
              "    }\n",
              "\n",
              "    .dataframe tbody tr th {\n",
              "        vertical-align: top;\n",
              "    }\n",
              "\n",
              "    .dataframe thead th {\n",
              "        text-align: right;\n",
              "    }\n",
              "</style>\n",
              "<table border=\"1\" class=\"dataframe\">\n",
              "  <thead>\n",
              "    <tr style=\"text-align: right;\">\n",
              "      <th></th>\n",
              "      <th>Quantity Sold</th>\n",
              "      <th>Price</th>\n",
              "    </tr>\n",
              "    <tr>\n",
              "      <th>Name</th>\n",
              "      <th></th>\n",
              "      <th></th>\n",
              "    </tr>\n",
              "  </thead>\n",
              "  <tbody>\n",
              "    <tr>\n",
              "      <th>brownie</th>\n",
              "      <td>17</td>\n",
              "      <td>2.25</td>\n",
              "    </tr>\n",
              "    <tr>\n",
              "      <th>cookie</th>\n",
              "      <td>40</td>\n",
              "      <td>1.25</td>\n",
              "    </tr>\n",
              "    <tr>\n",
              "      <th>cake</th>\n",
              "      <td>1</td>\n",
              "      <td>9.50</td>\n",
              "    </tr>\n",
              "    <tr>\n",
              "      <th>cupcake</th>\n",
              "      <td>10</td>\n",
              "      <td>3.50</td>\n",
              "    </tr>\n",
              "  </tbody>\n",
              "</table>\n",
              "</div>"
            ],
            "text/plain": [
              "         Quantity Sold  Price\n",
              "Name                         \n",
              "brownie             17   2.25\n",
              "cookie              40   1.25\n",
              "cake                 1   9.50\n",
              "cupcake             10   3.50"
            ]
          },
          "execution_count": 84,
          "metadata": {},
          "output_type": "execute_result"
        }
      ],
      "source": [
        "# Slicing columns using a variable\n",
        "cols_to_slice = ['Quantity Sold', 'Price']\n",
        "df[cols_to_slice]"
      ]
    },
    {
      "cell_type": "markdown",
      "metadata": {
        "id": "dvY5GBKauZIE"
      },
      "source": [
        "You cannot select multiple columns using single brackets, you will get a KeyError if you try to do so."
      ]
    },
    {
      "cell_type": "code",
      "execution_count": 85,
      "metadata": {
        "colab": {
          "base_uri": "https://localhost:8080/",
          "height": 547
        },
        "id": "MVDj6hZIubRI",
        "outputId": "77c5ab67-3ef3-4315-d3f6-94c54a8d50d0"
      },
      "outputs": [
        {
          "ename": "KeyError",
          "evalue": "('Quantity Sold', 'Price')",
          "output_type": "error",
          "traceback": [
            "\u001b[1;31m---------------------------------------------------------------------------\u001b[0m",
            "\u001b[1;31mKeyError\u001b[0m                                  Traceback (most recent call last)",
            "File \u001b[1;32mc:\\Users\\ISHMO_CT\\.virtualenvs\\RDSB-5U8ITK5B\\Lib\\site-packages\\pandas\\core\\indexes\\base.py:3805\u001b[0m, in \u001b[0;36mIndex.get_loc\u001b[1;34m(self, key)\u001b[0m\n\u001b[0;32m   3804\u001b[0m \u001b[38;5;28;01mtry\u001b[39;00m:\n\u001b[1;32m-> 3805\u001b[0m     \u001b[38;5;28;01mreturn\u001b[39;00m \u001b[38;5;28;43mself\u001b[39;49m\u001b[38;5;241;43m.\u001b[39;49m\u001b[43m_engine\u001b[49m\u001b[38;5;241;43m.\u001b[39;49m\u001b[43mget_loc\u001b[49m\u001b[43m(\u001b[49m\u001b[43mcasted_key\u001b[49m\u001b[43m)\u001b[49m\n\u001b[0;32m   3806\u001b[0m \u001b[38;5;28;01mexcept\u001b[39;00m \u001b[38;5;167;01mKeyError\u001b[39;00m \u001b[38;5;28;01mas\u001b[39;00m err:\n",
            "File \u001b[1;32mindex.pyx:167\u001b[0m, in \u001b[0;36mpandas._libs.index.IndexEngine.get_loc\u001b[1;34m()\u001b[0m\n",
            "File \u001b[1;32mindex.pyx:196\u001b[0m, in \u001b[0;36mpandas._libs.index.IndexEngine.get_loc\u001b[1;34m()\u001b[0m\n",
            "File \u001b[1;32mpandas\\\\_libs\\\\hashtable_class_helper.pxi:7081\u001b[0m, in \u001b[0;36mpandas._libs.hashtable.PyObjectHashTable.get_item\u001b[1;34m()\u001b[0m\n",
            "File \u001b[1;32mpandas\\\\_libs\\\\hashtable_class_helper.pxi:7089\u001b[0m, in \u001b[0;36mpandas._libs.hashtable.PyObjectHashTable.get_item\u001b[1;34m()\u001b[0m\n",
            "\u001b[1;31mKeyError\u001b[0m: ('Quantity Sold', 'Price')",
            "\nThe above exception was the direct cause of the following exception:\n",
            "\u001b[1;31mKeyError\u001b[0m                                  Traceback (most recent call last)",
            "Cell \u001b[1;32mIn[85], line 2\u001b[0m\n\u001b[0;32m      1\u001b[0m \u001b[38;5;66;03m# Attempt to slice two columns with single brackets\u001b[39;00m\n\u001b[1;32m----> 2\u001b[0m \u001b[43mdf\u001b[49m\u001b[43m[\u001b[49m\u001b[38;5;124;43m'\u001b[39;49m\u001b[38;5;124;43mQuantity Sold\u001b[39;49m\u001b[38;5;124;43m'\u001b[39;49m\u001b[43m,\u001b[49m\u001b[43m \u001b[49m\u001b[38;5;124;43m'\u001b[39;49m\u001b[38;5;124;43mPrice\u001b[39;49m\u001b[38;5;124;43m'\u001b[39;49m\u001b[43m]\u001b[49m\n",
            "File \u001b[1;32mc:\\Users\\ISHMO_CT\\.virtualenvs\\RDSB-5U8ITK5B\\Lib\\site-packages\\pandas\\core\\frame.py:4102\u001b[0m, in \u001b[0;36mDataFrame.__getitem__\u001b[1;34m(self, key)\u001b[0m\n\u001b[0;32m   4100\u001b[0m \u001b[38;5;28;01mif\u001b[39;00m \u001b[38;5;28mself\u001b[39m\u001b[38;5;241m.\u001b[39mcolumns\u001b[38;5;241m.\u001b[39mnlevels \u001b[38;5;241m>\u001b[39m \u001b[38;5;241m1\u001b[39m:\n\u001b[0;32m   4101\u001b[0m     \u001b[38;5;28;01mreturn\u001b[39;00m \u001b[38;5;28mself\u001b[39m\u001b[38;5;241m.\u001b[39m_getitem_multilevel(key)\n\u001b[1;32m-> 4102\u001b[0m indexer \u001b[38;5;241m=\u001b[39m \u001b[38;5;28;43mself\u001b[39;49m\u001b[38;5;241;43m.\u001b[39;49m\u001b[43mcolumns\u001b[49m\u001b[38;5;241;43m.\u001b[39;49m\u001b[43mget_loc\u001b[49m\u001b[43m(\u001b[49m\u001b[43mkey\u001b[49m\u001b[43m)\u001b[49m\n\u001b[0;32m   4103\u001b[0m \u001b[38;5;28;01mif\u001b[39;00m is_integer(indexer):\n\u001b[0;32m   4104\u001b[0m     indexer \u001b[38;5;241m=\u001b[39m [indexer]\n",
            "File \u001b[1;32mc:\\Users\\ISHMO_CT\\.virtualenvs\\RDSB-5U8ITK5B\\Lib\\site-packages\\pandas\\core\\indexes\\base.py:3812\u001b[0m, in \u001b[0;36mIndex.get_loc\u001b[1;34m(self, key)\u001b[0m\n\u001b[0;32m   3807\u001b[0m     \u001b[38;5;28;01mif\u001b[39;00m \u001b[38;5;28misinstance\u001b[39m(casted_key, \u001b[38;5;28mslice\u001b[39m) \u001b[38;5;129;01mor\u001b[39;00m (\n\u001b[0;32m   3808\u001b[0m         \u001b[38;5;28misinstance\u001b[39m(casted_key, abc\u001b[38;5;241m.\u001b[39mIterable)\n\u001b[0;32m   3809\u001b[0m         \u001b[38;5;129;01mand\u001b[39;00m \u001b[38;5;28many\u001b[39m(\u001b[38;5;28misinstance\u001b[39m(x, \u001b[38;5;28mslice\u001b[39m) \u001b[38;5;28;01mfor\u001b[39;00m x \u001b[38;5;129;01min\u001b[39;00m casted_key)\n\u001b[0;32m   3810\u001b[0m     ):\n\u001b[0;32m   3811\u001b[0m         \u001b[38;5;28;01mraise\u001b[39;00m InvalidIndexError(key)\n\u001b[1;32m-> 3812\u001b[0m     \u001b[38;5;28;01mraise\u001b[39;00m \u001b[38;5;167;01mKeyError\u001b[39;00m(key) \u001b[38;5;28;01mfrom\u001b[39;00m\u001b[38;5;250m \u001b[39m\u001b[38;5;21;01merr\u001b[39;00m\n\u001b[0;32m   3813\u001b[0m \u001b[38;5;28;01mexcept\u001b[39;00m \u001b[38;5;167;01mTypeError\u001b[39;00m:\n\u001b[0;32m   3814\u001b[0m     \u001b[38;5;66;03m# If we have a listlike key, _check_indexing_error will raise\u001b[39;00m\n\u001b[0;32m   3815\u001b[0m     \u001b[38;5;66;03m#  InvalidIndexError. Otherwise we fall through and re-raise\u001b[39;00m\n\u001b[0;32m   3816\u001b[0m     \u001b[38;5;66;03m#  the TypeError.\u001b[39;00m\n\u001b[0;32m   3817\u001b[0m     \u001b[38;5;28mself\u001b[39m\u001b[38;5;241m.\u001b[39m_check_indexing_error(key)\n",
            "\u001b[1;31mKeyError\u001b[0m: ('Quantity Sold', 'Price')"
          ]
        }
      ],
      "source": [
        "# Attempt to slice two columns with single brackets\n",
        "df['Quantity Sold', 'Price']\n",
        "\n"
      ]
    },
    {
      "cell_type": "markdown",
      "metadata": {
        "id": "FUT9mdpQuj0r"
      },
      "source": [
        "**Series vs. DataFrames**\n",
        "\n",
        "The key difference between a series and a dataframe is that:\n",
        "\n",
        "* A series is 1 dimensional\n",
        "* A dataframe is 2-dimensional\n",
        "* We can confirm this by checking the .shape\n",
        "\n",
        "DataFrames and Series both have a(n):\n",
        "\n",
        "* .index\n",
        "* .values\n",
        "\n",
        "Series have a .name instead of .columns\n",
        "\n",
        "If a Series was originally a column in a DataFrame, its .name will be the same as its column name.\n",
        "\n",
        "**Shape**\n",
        "\n",
        "Let's first confirm the shape of our dataframe and our series."
      ]
    },
    {
      "cell_type": "code",
      "execution_count": 86,
      "metadata": {
        "id": "qNc-LhTCu2-B"
      },
      "outputs": [
        {
          "data": {
            "text/plain": [
              "(4, 2)"
            ]
          },
          "execution_count": 86,
          "metadata": {},
          "output_type": "execute_result"
        }
      ],
      "source": [
        "# Find the shape of the dataframe\n",
        "#shape - number of rows and columns\n",
        "df.shape"
      ]
    },
    {
      "cell_type": "code",
      "execution_count": 87,
      "metadata": {
        "id": "Y3TIwXAQu9DS"
      },
      "outputs": [
        {
          "data": {
            "text/plain": [
              "(4,)"
            ]
          },
          "execution_count": 87,
          "metadata": {},
          "output_type": "execute_result"
        }
      ],
      "source": [
        "# Find the shape of the series\n",
        "sliced.shape"
      ]
    },
    {
      "cell_type": "markdown",
      "metadata": {
        "id": "7dHQ_LrfvFIG"
      },
      "source": [
        "**.name vs .columns**\n",
        "\n",
        "As we saw much earlier, a dataframe has a .columns attribute. Since a series is one-dimensional, it does not have columns. Instead, it has a .names attribute."
      ]
    },
    {
      "cell_type": "code",
      "execution_count": 88,
      "metadata": {
        "colab": {
          "base_uri": "https://localhost:8080/",
          "height": 36
        },
        "id": "vgYzCMgHvMOG",
        "outputId": "b4712316-8c0a-49ee-cfc0-8cfdc63eb446"
      },
      "outputs": [
        {
          "data": {
            "text/plain": [
              "'Price'"
            ]
          },
          "execution_count": 88,
          "metadata": {},
          "output_type": "execute_result"
        }
      ],
      "source": [
        "# Series have a .name attribute\n",
        "sliced.name"
      ]
    },
    {
      "cell_type": "markdown",
      "metadata": {
        "id": "14RSJWoGvSBl"
      },
      "source": [
        "Since our series was originally the \"Price\" column in a DataFrame, its .name is also \"Price\".\n",
        "\n",
        "**Basic Operations**\n",
        "\n",
        "Returning to our bake sale example, the club has asked us to calculate the total sales from Day 1 of their bake sale.\n",
        "\n",
        "We need to multiply each row's price by each row's quantity sold. Reminder: each row is one of our baked goods. The fact that Pandas stores data inside NumPy arrays means that Series/DataFrames have many of the same conveniences as a NumPy array. Pandas will automatically perform element-wise calculations for us, no loops are required!\n",
        "\n",
        "Let's calculate our sales from Day 1 by multiplying our Price column times the Quantity Sold column."
      ]
    },
    {
      "cell_type": "code",
      "execution_count": 89,
      "metadata": {
        "colab": {
          "base_uri": "https://localhost:8080/"
        },
        "id": "JBHhRiGAvWXe",
        "outputId": "7d11daf7-10c7-4d9e-f9ba-89710c4aff28"
      },
      "outputs": [
        {
          "data": {
            "text/plain": [
              "Name\n",
              "brownie    38.25\n",
              "cookie     50.00\n",
              "cake        9.50\n",
              "cupcake    35.00\n",
              "dtype: float64"
            ]
          },
          "execution_count": 89,
          "metadata": {},
          "output_type": "execute_result"
        }
      ],
      "source": [
        "# Elementwise calculations with Pandas\n",
        "sales = df['Price'] * df['Quantity Sold']\n",
        "sales"
      ]
    },
    {
      "cell_type": "code",
      "execution_count": 90,
      "metadata": {
        "colab": {
          "base_uri": "https://localhost:8080/",
          "height": 203
        },
        "id": "sMOvw27Wvnq3",
        "outputId": "7152851d-8446-452a-dae3-f67c4cec6902"
      },
      "outputs": [
        {
          "data": {
            "text/plain": [
              "pandas.core.series.Series"
            ]
          },
          "execution_count": 90,
          "metadata": {},
          "output_type": "execute_result"
        }
      ],
      "source": [
        "# Check dataype of result\n",
        "type(sales)"
      ]
    },
    {
      "cell_type": "markdown",
      "metadata": {
        "id": "RcSyV2bAvrHL"
      },
      "source": [
        "Notice that the result was a Series without a name. Instead of saving this as a separate Series, we can assign it to a new column in our DataFrame."
      ]
    },
    {
      "cell_type": "code",
      "execution_count": 91,
      "metadata": {
        "colab": {
          "base_uri": "https://localhost:8080/",
          "height": 206
        },
        "id": "eQXdtZqBvsQt",
        "outputId": "0adaa5df-cd75-4063-cc9e-8add25cb880c"
      },
      "outputs": [
        {
          "data": {
            "text/html": [
              "<div>\n",
              "<style scoped>\n",
              "    .dataframe tbody tr th:only-of-type {\n",
              "        vertical-align: middle;\n",
              "    }\n",
              "\n",
              "    .dataframe tbody tr th {\n",
              "        vertical-align: top;\n",
              "    }\n",
              "\n",
              "    .dataframe thead th {\n",
              "        text-align: right;\n",
              "    }\n",
              "</style>\n",
              "<table border=\"1\" class=\"dataframe\">\n",
              "  <thead>\n",
              "    <tr style=\"text-align: right;\">\n",
              "      <th></th>\n",
              "      <th>Price</th>\n",
              "      <th>Quantity Sold</th>\n",
              "      <th>Sales</th>\n",
              "    </tr>\n",
              "    <tr>\n",
              "      <th>Name</th>\n",
              "      <th></th>\n",
              "      <th></th>\n",
              "      <th></th>\n",
              "    </tr>\n",
              "  </thead>\n",
              "  <tbody>\n",
              "    <tr>\n",
              "      <th>brownie</th>\n",
              "      <td>2.25</td>\n",
              "      <td>17</td>\n",
              "      <td>38.25</td>\n",
              "    </tr>\n",
              "    <tr>\n",
              "      <th>cookie</th>\n",
              "      <td>1.25</td>\n",
              "      <td>40</td>\n",
              "      <td>50.00</td>\n",
              "    </tr>\n",
              "    <tr>\n",
              "      <th>cake</th>\n",
              "      <td>9.50</td>\n",
              "      <td>1</td>\n",
              "      <td>9.50</td>\n",
              "    </tr>\n",
              "    <tr>\n",
              "      <th>cupcake</th>\n",
              "      <td>3.50</td>\n",
              "      <td>10</td>\n",
              "      <td>35.00</td>\n",
              "    </tr>\n",
              "  </tbody>\n",
              "</table>\n",
              "</div>"
            ],
            "text/plain": [
              "         Price  Quantity Sold  Sales\n",
              "Name                                \n",
              "brownie   2.25             17  38.25\n",
              "cookie    1.25             40  50.00\n",
              "cake      9.50              1   9.50\n",
              "cupcake   3.50             10  35.00"
            ]
          },
          "execution_count": 91,
          "metadata": {},
          "output_type": "execute_result"
        }
      ],
      "source": [
        "# saving sales as a new column\n",
        "df['Sales'] = df['Price'] * df['Quantity Sold']\n",
        "df"
      ]
    },
    {
      "cell_type": "markdown",
      "metadata": {
        "id": "cjmPLKxKvxhx"
      },
      "source": [
        "Yes! By using the DataFrame, we can easily determine that we collected USD38.25 from the sale of brownies, USD50 from the sale of cookies, USD9.50 from the sale of cakes, and USD35.00 from the sale of cupcakes.\n"
      ]
    },
    {
      "cell_type": "markdown",
      "metadata": {
        "id": "X2fVIIkLv0nu"
      },
      "source": [
        "**Calculating Total Sales**\n",
        "\n",
        "We can calculate the total sales by summing up the individual values in the Sales column.\n",
        "\n",
        "To get the sum of our sales, we can simply use dot notation to call the .sum() method on our Sales column."
      ]
    },
    {
      "cell_type": "code",
      "execution_count": 92,
      "metadata": {
        "colab": {
          "base_uri": "https://localhost:8080/"
        },
        "id": "z9SJmOokwFta",
        "outputId": "f70fc303-a864-4fb7-d013-40962a4d8f21"
      },
      "outputs": [
        {
          "data": {
            "text/plain": [
              "np.float64(132.75)"
            ]
          },
          "execution_count": 92,
          "metadata": {},
          "output_type": "execute_result"
        }
      ],
      "source": [
        "# Get the sum of the Sales column\n",
        "df['Sales'].sum()"
      ]
    },
    {
      "cell_type": "markdown",
      "metadata": {
        "id": "2DKKVfcqwM_i"
      },
      "source": [
        "DataFrames have many types of calculations available as methods. We will demonstrate more of these methods throughout the course. You can also check out the [Pandas documentation](https://pandas.pydata.org/docs/reference/api/pandas.DataFrame.html) to explore the many dataframe methods."
      ]
    },
    {
      "cell_type": "markdown",
      "metadata": {
        "id": "hufxcRORxOXq"
      },
      "source": [
        "**Including Expenses**\n",
        "\n",
        "The club wants to account for the expense of making each baked good so that we can calculate the profit for each baked good (Profit = price - expenses), as well as the total profit for all baked goods combined.\n",
        "\n",
        "The expense of making each baked good is:\n",
        "\n",
        "* a brownie costs USD 0.25 to make.\n",
        "* a cookie costs USD 0.50 to make.\n",
        "* a cake costs USD 5.00 to make.\n",
        "* a cupcake costs USD 0.75 to make."
      ]
    },
    {
      "cell_type": "markdown",
      "metadata": {
        "id": "Kx791DbdxcOL"
      },
      "source": [
        "Let's start by creating a Panda's Series called \"expenses\" that consists of the cost of making each of the items sold at the bake sale.\n",
        "\n",
        "We will also add the name argument for pd.Series to provide a text label for the Series. This series' .name will become its column name when it is added to a DataFrame."
      ]
    },
    {
      "cell_type": "code",
      "execution_count": 93,
      "metadata": {
        "colab": {
          "base_uri": "https://localhost:8080/"
        },
        "id": "PE42p0aEvYvP",
        "outputId": "725a86aa-61c5-422a-c182-f71fe99f5c20"
      },
      "outputs": [
        {
          "data": {
            "text/plain": [
              "brownie    0.25\n",
              "cookie     0.50\n",
              "cake       5.00\n",
              "cupcake    0.75\n",
              "Name: Expenses, dtype: float64"
            ]
          },
          "execution_count": 93,
          "metadata": {},
          "output_type": "execute_result"
        }
      ],
      "source": [
        "# Making a series from a dictionary\n",
        "expenses = pd.Series({'brownie':0.25, 'cookie':0.5, 'cake':5, 'cupcake': 0.75},\n",
        "                     name='Expenses')\n",
        "expenses\n"
      ]
    },
    {
      "cell_type": "markdown",
      "metadata": {
        "id": "qxzsGsFKydwj"
      },
      "source": [
        "**Combining DataFrames & Series with pd.concat()**\n",
        "\n",
        "We can now add our new expenses Series as a new column in our dataframe.\n",
        "\n",
        "Since we've already created a series for expenses, and it has the same baked goods as the ones in our dataframe's index, we can combine (concatenate) the expenses series and original dataframe using the function pd.concat()"
      ]
    },
    {
      "cell_type": "markdown",
      "metadata": {
        "id": "DgXZl2W3yrZS"
      },
      "source": [
        "![image.png](data:image/png;base64,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)\n"
      ]
    },
    {
      "cell_type": "markdown",
      "metadata": {
        "id": "WbbLaWEQy059"
      },
      "source": [
        "* The first argument accepts a list of the DataFrames or Series to concatenate together.\n",
        "* An axis keyword argument controls how to combine the data:\n",
        "     * We use axis=0 if we want to add new rows. This is the default argument.\n",
        "        * In this case, we will want to have the same column names in both variables.\n",
        "        * this is also the default argument.\n",
        "\n",
        "     * We use axis=1 if we want to add new columns.\n",
        "        * In this case, we will want to have the same values in each variable's index.\n",
        "\n",
        "        \n",
        "Which axis do we want to use?\n",
        "\n",
        "We want to add a new column of expenses, and our series and dataframe have the same index, so we will use axis =1."
      ]
    },
    {
      "cell_type": "code",
      "execution_count": 94,
      "metadata": {
        "id": "HjK44mM6ymxp"
      },
      "outputs": [
        {
          "data": {
            "text/html": [
              "<div>\n",
              "<style scoped>\n",
              "    .dataframe tbody tr th:only-of-type {\n",
              "        vertical-align: middle;\n",
              "    }\n",
              "\n",
              "    .dataframe tbody tr th {\n",
              "        vertical-align: top;\n",
              "    }\n",
              "\n",
              "    .dataframe thead th {\n",
              "        text-align: right;\n",
              "    }\n",
              "</style>\n",
              "<table border=\"1\" class=\"dataframe\">\n",
              "  <thead>\n",
              "    <tr style=\"text-align: right;\">\n",
              "      <th></th>\n",
              "      <th>Price</th>\n",
              "      <th>Quantity Sold</th>\n",
              "      <th>Sales</th>\n",
              "      <th>Expenses</th>\n",
              "    </tr>\n",
              "  </thead>\n",
              "  <tbody>\n",
              "    <tr>\n",
              "      <th>brownie</th>\n",
              "      <td>2.25</td>\n",
              "      <td>17</td>\n",
              "      <td>38.25</td>\n",
              "      <td>0.25</td>\n",
              "    </tr>\n",
              "    <tr>\n",
              "      <th>cookie</th>\n",
              "      <td>1.25</td>\n",
              "      <td>40</td>\n",
              "      <td>50.00</td>\n",
              "      <td>0.50</td>\n",
              "    </tr>\n",
              "    <tr>\n",
              "      <th>cake</th>\n",
              "      <td>9.50</td>\n",
              "      <td>1</td>\n",
              "      <td>9.50</td>\n",
              "      <td>5.00</td>\n",
              "    </tr>\n",
              "    <tr>\n",
              "      <th>cupcake</th>\n",
              "      <td>3.50</td>\n",
              "      <td>10</td>\n",
              "      <td>35.00</td>\n",
              "      <td>0.75</td>\n",
              "    </tr>\n",
              "  </tbody>\n",
              "</table>\n",
              "</div>"
            ],
            "text/plain": [
              "         Price  Quantity Sold  Sales  Expenses\n",
              "brownie   2.25             17  38.25      0.25\n",
              "cookie    1.25             40  50.00      0.50\n",
              "cake      9.50              1   9.50      5.00\n",
              "cupcake   3.50             10  35.00      0.75"
            ]
          },
          "execution_count": 94,
          "metadata": {},
          "output_type": "execute_result"
        }
      ],
      "source": [
        "# saving our combined data as df\n",
        "# study about axis  = 0 or 1 \n",
        "df = pd.concat([df, expenses], axis = 1)\n",
        "df"
      ]
    },
    {
      "cell_type": "markdown",
      "metadata": {
        "id": "RcBXNEmtzv2X"
      },
      "source": [
        "Calculating Profit\n",
        "\n",
        "* How do we calculate the profit for each item?\n",
        "* Profits made"
      ]
    },
    {
      "cell_type": "code",
      "execution_count": 95,
      "metadata": {
        "id": "MHVyhQUlc2gz"
      },
      "outputs": [
        {
          "data": {
            "text/html": [
              "<div>\n",
              "<style scoped>\n",
              "    .dataframe tbody tr th:only-of-type {\n",
              "        vertical-align: middle;\n",
              "    }\n",
              "\n",
              "    .dataframe tbody tr th {\n",
              "        vertical-align: top;\n",
              "    }\n",
              "\n",
              "    .dataframe thead th {\n",
              "        text-align: right;\n",
              "    }\n",
              "</style>\n",
              "<table border=\"1\" class=\"dataframe\">\n",
              "  <thead>\n",
              "    <tr style=\"text-align: right;\">\n",
              "      <th></th>\n",
              "      <th>Price</th>\n",
              "      <th>Quantity Sold</th>\n",
              "      <th>Sales</th>\n",
              "      <th>Expenses</th>\n",
              "      <th>Profit_per_item</th>\n",
              "    </tr>\n",
              "  </thead>\n",
              "  <tbody>\n",
              "    <tr>\n",
              "      <th>brownie</th>\n",
              "      <td>2.25</td>\n",
              "      <td>17</td>\n",
              "      <td>38.25</td>\n",
              "      <td>0.25</td>\n",
              "      <td>2.00</td>\n",
              "    </tr>\n",
              "    <tr>\n",
              "      <th>cookie</th>\n",
              "      <td>1.25</td>\n",
              "      <td>40</td>\n",
              "      <td>50.00</td>\n",
              "      <td>0.50</td>\n",
              "      <td>0.75</td>\n",
              "    </tr>\n",
              "    <tr>\n",
              "      <th>cake</th>\n",
              "      <td>9.50</td>\n",
              "      <td>1</td>\n",
              "      <td>9.50</td>\n",
              "      <td>5.00</td>\n",
              "      <td>4.50</td>\n",
              "    </tr>\n",
              "    <tr>\n",
              "      <th>cupcake</th>\n",
              "      <td>3.50</td>\n",
              "      <td>10</td>\n",
              "      <td>35.00</td>\n",
              "      <td>0.75</td>\n",
              "      <td>2.75</td>\n",
              "    </tr>\n",
              "  </tbody>\n",
              "</table>\n",
              "</div>"
            ],
            "text/plain": [
              "         Price  Quantity Sold  Sales  Expenses  Profit_per_item\n",
              "brownie   2.25             17  38.25      0.25             2.00\n",
              "cookie    1.25             40  50.00      0.50             0.75\n",
              "cake      9.50              1   9.50      5.00             4.50\n",
              "cupcake   3.50             10  35.00      0.75             2.75"
            ]
          },
          "execution_count": 95,
          "metadata": {},
          "output_type": "execute_result"
        }
      ],
      "source": [
        "df['Profit_per_item'] = df['Price'] - df['Expenses']\n",
        "df"
      ]
    },
    {
      "cell_type": "code",
      "execution_count": 98,
      "metadata": {},
      "outputs": [
        {
          "data": {
            "text/html": [
              "<div>\n",
              "<style scoped>\n",
              "    .dataframe tbody tr th:only-of-type {\n",
              "        vertical-align: middle;\n",
              "    }\n",
              "\n",
              "    .dataframe tbody tr th {\n",
              "        vertical-align: top;\n",
              "    }\n",
              "\n",
              "    .dataframe thead th {\n",
              "        text-align: right;\n",
              "    }\n",
              "</style>\n",
              "<table border=\"1\" class=\"dataframe\">\n",
              "  <thead>\n",
              "    <tr style=\"text-align: right;\">\n",
              "      <th></th>\n",
              "      <th>Price</th>\n",
              "      <th>Quantity Sold</th>\n",
              "      <th>Sales</th>\n",
              "      <th>Expenses</th>\n",
              "      <th>Profit_per_item</th>\n",
              "      <th>Profits</th>\n",
              "    </tr>\n",
              "  </thead>\n",
              "  <tbody>\n",
              "    <tr>\n",
              "      <th>brownie</th>\n",
              "      <td>2.25</td>\n",
              "      <td>17</td>\n",
              "      <td>38.25</td>\n",
              "      <td>0.25</td>\n",
              "      <td>2.00</td>\n",
              "      <td>34.0</td>\n",
              "    </tr>\n",
              "    <tr>\n",
              "      <th>cookie</th>\n",
              "      <td>1.25</td>\n",
              "      <td>40</td>\n",
              "      <td>50.00</td>\n",
              "      <td>0.50</td>\n",
              "      <td>0.75</td>\n",
              "      <td>30.0</td>\n",
              "    </tr>\n",
              "    <tr>\n",
              "      <th>cake</th>\n",
              "      <td>9.50</td>\n",
              "      <td>1</td>\n",
              "      <td>9.50</td>\n",
              "      <td>5.00</td>\n",
              "      <td>4.50</td>\n",
              "      <td>4.5</td>\n",
              "    </tr>\n",
              "    <tr>\n",
              "      <th>cupcake</th>\n",
              "      <td>3.50</td>\n",
              "      <td>10</td>\n",
              "      <td>35.00</td>\n",
              "      <td>0.75</td>\n",
              "      <td>2.75</td>\n",
              "      <td>27.5</td>\n",
              "    </tr>\n",
              "  </tbody>\n",
              "</table>\n",
              "</div>"
            ],
            "text/plain": [
              "         Price  Quantity Sold  Sales  Expenses  Profit_per_item  Profits\n",
              "brownie   2.25             17  38.25      0.25             2.00     34.0\n",
              "cookie    1.25             40  50.00      0.50             0.75     30.0\n",
              "cake      9.50              1   9.50      5.00             4.50      4.5\n",
              "cupcake   3.50             10  35.00      0.75             2.75     27.5"
            ]
          },
          "execution_count": 98,
          "metadata": {},
          "output_type": "execute_result"
        }
      ],
      "source": [
        "df['Profits'] = df['Profit_per_item'] * df['Quantity Sold']\n",
        "df"
      ]
    },
    {
      "cell_type": "markdown",
      "metadata": {
        "id": "8cu20BaQ6u5o"
      },
      "source": [
        "**Summary**\n",
        "\n",
        "This lesson demonstrated some fundamental techniques with dataframes. You learned how to slice a column or columns using square brackets. You also learned how to combine an existing series with a dataframe using pd.concat(). You used elementwise calculations to address relevant questions related to the bake sale data and explored df.sum() which is one of many dataframe methods you will use throughout your journey as a data scientist."
      ]
    },
    {
      "cell_type": "markdown",
      "metadata": {
        "id": "d8iU8fsX6-RG"
      },
      "source": [
        "# Loading Data with Pandas\n",
        "\n",
        "\n",
        "**Learning Objectives**\n",
        "\n",
        "* Mount and access Google Drive from Google Colab\n",
        "* Load in a file stored in Google Drive with Pandas\n",
        "* Perform high-level inspection of data\n",
        "  * .head()\n",
        "  * .tail()\n",
        "  * .info()\n",
        "* Load in data from a direct URL"
      ]
    },
    {
      "cell_type": "markdown",
      "metadata": {
        "id": "ModSL7OG8B9X"
      },
      "source": [
        "**Loading Data**\n",
        "\n",
        "One of the best parts about Pandas is that it can connect to just about any data source you can imagine. You can load data from an Excel or csv file, from a web URL, and more! While you will eventually install Python on your local machine to access more advanced tools installed on your computer, we will first be working in the cloud with Google Colab. In this lesson, we will load a .csv file saved in your Google Drive into Pandas. At the end of the lesson, we will also demonstrate how to read in data from a direct URL."
      ]
    },
    {
      "cell_type": "markdown",
      "metadata": {
        "id": "N7X1T2au8NS3"
      },
      "source": [
        "**Load in the data and save as a Pandas DataFrame**\n",
        "\n",
        "We will use a different function for reading in data depending on whether it is a .csv or Excel file (.xlsx).\n",
        "\n",
        "* For a csv, we use pd.read_csv()\n",
        "* For an Excel file, we use pd.read_excel().\n",
        "Pandas has many different functions for reading and writing different types of data. If you'd like to learn more, check out the [IO Tools page on Pandas' User Guide](https://pandas.pydata.org/docs/user_guide/io.html)\n",
        "\n",
        "You can load in the data and save it as a Pandas DataFrame. It is common to name a dataframe \"df\", but it is also helpful to give your DataFrame a unique name that matches the data it contains. Here we named our dataframe \"df\"."
      ]
    },
    {
      "cell_type": "code",
      "execution_count": 44,
      "metadata": {
        "id": "uCoV5xpx8-TR"
      },
      "outputs": [],
      "source": [
        "# # load in the data as a pandas dataframe\n",
        "# df = pd.read_csv(fname)\n"
      ]
    },
    {
      "cell_type": "markdown",
      "metadata": {
        "id": "rLYNJnJC9Bim"
      },
      "source": [
        "**High-level inspection of data**\n",
        "\n",
        "We always want to verify that the data we loaded in is what we expected and start to get a feel for the data we will be working with.\n",
        "\n",
        "Whenever loading data, three commands we should use to get acclimated are:\n",
        "\n",
        "* df.head() to preview the first 5 rows.\n",
        "* df.tail() to preview the last 5 rows.\n",
        "* df.info() to obtain a summary table with information about every column."
      ]
    },
    {
      "cell_type": "markdown",
      "metadata": {
        "id": "tP-easO19RM2"
      },
      "source": [
        "**Load Data from a Direct URL**\n",
        "If you have a URL for your data, this is the easiest to load into Pandas. To load the data, use the pd.read_csv('url') and copy the entire URL into the parenthesis. Remember to surround the URL with quotes!\n",
        "\n",
        "Here we were provided the same bake sale data as a published URL:\n",
        "\n",
        "https://docs.google.com/spreadsheets/d/e/2PACX-1vQNX3oBeyee-rQEulninLyZoBUy3JVUy3wsGkPRl-G-mbjh5iItwBfezeGkDHnwtxnLneBX3Ylm1c64/pub?gid=860339357&single=true&output=csv\n",
        "\n",
        "We load in a direct URL using the same pd.read_csv() function as we would use with a .csv file. To avoid overwriting our existing dataframe, we chose to name this dataframe as df_url."
      ]
    },
    {
      "cell_type": "code",
      "execution_count": 120,
      "metadata": {
        "colab": {
          "base_uri": "https://localhost:8080/",
          "height": 417
        },
        "id": "Ff10NKV99gwa",
        "outputId": "f19ae3c1-ba44-46eb-c52b-1bc90662be01"
      },
      "outputs": [
        {
          "name": "stdout",
          "output_type": "stream",
          "text": [
            "<class 'pandas.core.frame.DataFrame'>\n",
            "RangeIndex: 12 entries, 0 to 11\n",
            "Data columns (total 9 columns):\n",
            " #   Column                 Non-Null Count  Dtype  \n",
            "---  ------                 --------------  -----  \n",
            " 0   Item                   12 non-null     object \n",
            " 1   Student                12 non-null     object \n",
            " 2   Packaging              12 non-null     object \n",
            " 3   Price                  12 non-null     float64\n",
            " 4   Expense                12 non-null     float64\n",
            " 5   Quantity Sold (Day 1)  12 non-null     int64  \n",
            " 6   Quantity Sold (Day 2)  12 non-null     int64  \n",
            " 7   Quantity Sold (Day 3)  12 non-null     int64  \n",
            " 8   Quantity Sold (Day 4)  12 non-null     int64  \n",
            "dtypes: float64(2), int64(4), object(3)\n",
            "memory usage: 996.0+ bytes\n"
          ]
        }
      ],
      "source": [
        "# Save the url surround by quotes\n",
        "url = \"https://docs.google.com/spreadsheets/d/e/2PACX-1vQNX3oBeyee-rQEulninLyZoBUy3JVUy3wsGkPRl-G-mbjh5iItwBfezeGkDHnwtxnLneBX3Ylm1c64/pub?gid=860339357&single=true&output=csv\"\n",
        "# Read in data from url\n",
        "df_url = pd.read_csv(url)\n",
        "# Preview the first five rows\n",
        "df_url.head()\n",
        "# df_url.shape\n",
        "df_url.info()\n"
      ]
    },
    {
      "cell_type": "markdown",
      "metadata": {
        "id": "oE1BJpop-FL6"
      },
      "source": [
        "# Saving a dataframe as a .csv"
      ]
    },
    {
      "cell_type": "code",
      "execution_count": 121,
      "metadata": {
        "colab": {
          "base_uri": "https://localhost:8080/",
          "height": 417
        },
        "id": "YkknWPiQ7Das",
        "outputId": "bb935882-051c-4e6f-8154-7622c3e9f0df"
      },
      "outputs": [
        {
          "data": {
            "text/html": [
              "<div>\n",
              "<style scoped>\n",
              "    .dataframe tbody tr th:only-of-type {\n",
              "        vertical-align: middle;\n",
              "    }\n",
              "\n",
              "    .dataframe tbody tr th {\n",
              "        vertical-align: top;\n",
              "    }\n",
              "\n",
              "    .dataframe thead th {\n",
              "        text-align: right;\n",
              "    }\n",
              "</style>\n",
              "<table border=\"1\" class=\"dataframe\">\n",
              "  <thead>\n",
              "    <tr style=\"text-align: right;\">\n",
              "      <th></th>\n",
              "      <th>Item</th>\n",
              "      <th>Student</th>\n",
              "      <th>Packaging</th>\n",
              "      <th>Price</th>\n",
              "      <th>Expense</th>\n",
              "      <th>Quantity Sold (Day 1)</th>\n",
              "      <th>Quantity Sold (Day 2)</th>\n",
              "      <th>Quantity Sold (Day 3)</th>\n",
              "      <th>Quantity Sold (Day 4)</th>\n",
              "    </tr>\n",
              "  </thead>\n",
              "  <tbody>\n",
              "    <tr>\n",
              "      <th>0</th>\n",
              "      <td>brownie</td>\n",
              "      <td>Hugo</td>\n",
              "      <td>Individually Wrapped  (Plastic)</td>\n",
              "      <td>2.25</td>\n",
              "      <td>0.25</td>\n",
              "      <td>17</td>\n",
              "      <td>19</td>\n",
              "      <td>25</td>\n",
              "      <td>25</td>\n",
              "    </tr>\n",
              "    <tr>\n",
              "      <th>1</th>\n",
              "      <td>cookie</td>\n",
              "      <td>Sally</td>\n",
              "      <td>Individually Wrapped  (Plastic)</td>\n",
              "      <td>1.25</td>\n",
              "      <td>0.50</td>\n",
              "      <td>40</td>\n",
              "      <td>32</td>\n",
              "      <td>38</td>\n",
              "      <td>38</td>\n",
              "    </tr>\n",
              "    <tr>\n",
              "      <th>2</th>\n",
              "      <td>cake</td>\n",
              "      <td>Martina</td>\n",
              "      <td>Boxed (Clear Plastic)</td>\n",
              "      <td>9.50</td>\n",
              "      <td>5.00</td>\n",
              "      <td>1</td>\n",
              "      <td>2</td>\n",
              "      <td>0</td>\n",
              "      <td>0</td>\n",
              "    </tr>\n",
              "    <tr>\n",
              "      <th>3</th>\n",
              "      <td>cupcake</td>\n",
              "      <td>Joe</td>\n",
              "      <td>Boxed (Cardboard)</td>\n",
              "      <td>3.50</td>\n",
              "      <td>0.75</td>\n",
              "      <td>10</td>\n",
              "      <td>14</td>\n",
              "      <td>12</td>\n",
              "      <td>12</td>\n",
              "    </tr>\n",
              "    <tr>\n",
              "      <th>4</th>\n",
              "      <td>fudge</td>\n",
              "      <td>Hugo</td>\n",
              "      <td>Individually Wrapped (Foil)</td>\n",
              "      <td>3.00</td>\n",
              "      <td>1.00</td>\n",
              "      <td>0</td>\n",
              "      <td>20</td>\n",
              "      <td>22</td>\n",
              "      <td>22</td>\n",
              "    </tr>\n",
              "  </tbody>\n",
              "</table>\n",
              "</div>"
            ],
            "text/plain": [
              "      Item  Student                        Packaging  Price  Expense  \\\n",
              "0  brownie     Hugo  Individually Wrapped  (Plastic)   2.25     0.25   \n",
              "1   cookie    Sally  Individually Wrapped  (Plastic)   1.25     0.50   \n",
              "2     cake  Martina            Boxed (Clear Plastic)   9.50     5.00   \n",
              "3  cupcake      Joe                Boxed (Cardboard)   3.50     0.75   \n",
              "4    fudge     Hugo      Individually Wrapped (Foil)   3.00     1.00   \n",
              "\n",
              "   Quantity Sold (Day 1)  Quantity Sold (Day 2)  Quantity Sold (Day 3)  \\\n",
              "0                     17                     19                     25   \n",
              "1                     40                     32                     38   \n",
              "2                      1                      2                      0   \n",
              "3                     10                     14                     12   \n",
              "4                      0                     20                     22   \n",
              "\n",
              "   Quantity Sold (Day 4)  \n",
              "0                     25  \n",
              "1                     38  \n",
              "2                      0  \n",
              "3                     12  \n",
              "4                     22  "
            ]
          },
          "execution_count": 121,
          "metadata": {},
          "output_type": "execute_result"
        }
      ],
      "source": [
        "# Preview the fist 5 rows of the dataframe from previous lesson\n",
        "df_url.head()"
      ]
    },
    {
      "cell_type": "code",
      "execution_count": 122,
      "metadata": {
        "colab": {
          "base_uri": "https://localhost:8080/"
        },
        "id": "44rPKo65hHfy",
        "outputId": "cb6fe8f3-d78a-42d1-be11-2f4d8402f425"
      },
      "outputs": [
        {
          "data": {
            "text/plain": [
              "Index(['Item', 'Student', 'Packaging', 'Price', 'Expense',\n",
              "       'Quantity Sold (Day 1)', 'Quantity Sold (Day 2)',\n",
              "       'Quantity Sold (Day 3)', 'Quantity Sold (Day 4)'],\n",
              "      dtype='object')"
            ]
          },
          "execution_count": 122,
          "metadata": {},
          "output_type": "execute_result"
        }
      ],
      "source": [
        "df_url.columns"
      ]
    },
    {
      "cell_type": "markdown",
      "metadata": {
        "id": "MjNwg25MkHDc"
      },
      "source": [
        "Think of adding new columns before you save it!"
      ]
    },
    {
      "cell_type": "code",
      "execution_count": 123,
      "metadata": {
        "id": "1pMf464bhVbT"
      },
      "outputs": [],
      "source": [
        "#One approach of adding a derived attribute called 'Profit per item'\n",
        "# df_url['Profit_per_item'] = df_url['Price']- df_url['Expense']\n",
        "# df_url"
      ]
    },
    {
      "cell_type": "code",
      "execution_count": 124,
      "metadata": {
        "colab": {
          "base_uri": "https://localhost:8080/",
          "height": 844
        },
        "id": "wNapo0v7iOUF",
        "outputId": "b764317c-b9db-42ca-c170-be815a98164d"
      },
      "outputs": [
        {
          "data": {
            "text/html": [
              "<div>\n",
              "<style scoped>\n",
              "    .dataframe tbody tr th:only-of-type {\n",
              "        vertical-align: middle;\n",
              "    }\n",
              "\n",
              "    .dataframe tbody tr th {\n",
              "        vertical-align: top;\n",
              "    }\n",
              "\n",
              "    .dataframe thead th {\n",
              "        text-align: right;\n",
              "    }\n",
              "</style>\n",
              "<table border=\"1\" class=\"dataframe\">\n",
              "  <thead>\n",
              "    <tr style=\"text-align: right;\">\n",
              "      <th></th>\n",
              "      <th>Item</th>\n",
              "      <th>Student</th>\n",
              "      <th>Packaging</th>\n",
              "      <th>Price</th>\n",
              "      <th>Expense</th>\n",
              "      <th>Profit per Item</th>\n",
              "      <th>Quantity Sold (Day 1)</th>\n",
              "      <th>Quantity Sold (Day 2)</th>\n",
              "      <th>Quantity Sold (Day 3)</th>\n",
              "      <th>Quantity Sold (Day 4)</th>\n",
              "    </tr>\n",
              "  </thead>\n",
              "  <tbody>\n",
              "    <tr>\n",
              "      <th>0</th>\n",
              "      <td>brownie</td>\n",
              "      <td>Hugo</td>\n",
              "      <td>Individually Wrapped  (Plastic)</td>\n",
              "      <td>2.25</td>\n",
              "      <td>0.25</td>\n",
              "      <td>2.00</td>\n",
              "      <td>17</td>\n",
              "      <td>19</td>\n",
              "      <td>25</td>\n",
              "      <td>25</td>\n",
              "    </tr>\n",
              "    <tr>\n",
              "      <th>1</th>\n",
              "      <td>cookie</td>\n",
              "      <td>Sally</td>\n",
              "      <td>Individually Wrapped  (Plastic)</td>\n",
              "      <td>1.25</td>\n",
              "      <td>0.50</td>\n",
              "      <td>0.75</td>\n",
              "      <td>40</td>\n",
              "      <td>32</td>\n",
              "      <td>38</td>\n",
              "      <td>38</td>\n",
              "    </tr>\n",
              "    <tr>\n",
              "      <th>2</th>\n",
              "      <td>cake</td>\n",
              "      <td>Martina</td>\n",
              "      <td>Boxed (Clear Plastic)</td>\n",
              "      <td>9.50</td>\n",
              "      <td>5.00</td>\n",
              "      <td>4.50</td>\n",
              "      <td>1</td>\n",
              "      <td>2</td>\n",
              "      <td>0</td>\n",
              "      <td>0</td>\n",
              "    </tr>\n",
              "    <tr>\n",
              "      <th>3</th>\n",
              "      <td>cupcake</td>\n",
              "      <td>Joe</td>\n",
              "      <td>Boxed (Cardboard)</td>\n",
              "      <td>3.50</td>\n",
              "      <td>0.75</td>\n",
              "      <td>2.75</td>\n",
              "      <td>10</td>\n",
              "      <td>14</td>\n",
              "      <td>12</td>\n",
              "      <td>12</td>\n",
              "    </tr>\n",
              "    <tr>\n",
              "      <th>4</th>\n",
              "      <td>fudge</td>\n",
              "      <td>Hugo</td>\n",
              "      <td>Individually Wrapped (Foil)</td>\n",
              "      <td>3.00</td>\n",
              "      <td>1.00</td>\n",
              "      <td>2.00</td>\n",
              "      <td>0</td>\n",
              "      <td>20</td>\n",
              "      <td>22</td>\n",
              "      <td>22</td>\n",
              "    </tr>\n",
              "    <tr>\n",
              "      <th>5</th>\n",
              "      <td>banana bread</td>\n",
              "      <td>Mark</td>\n",
              "      <td>Individually Wrapped (Foil)</td>\n",
              "      <td>2.75</td>\n",
              "      <td>0.50</td>\n",
              "      <td>2.25</td>\n",
              "      <td>0</td>\n",
              "      <td>10</td>\n",
              "      <td>13</td>\n",
              "      <td>13</td>\n",
              "    </tr>\n",
              "    <tr>\n",
              "      <th>6</th>\n",
              "      <td>torte</td>\n",
              "      <td>Jade</td>\n",
              "      <td>Boxed (Clear Plastic)</td>\n",
              "      <td>10.50</td>\n",
              "      <td>5.50</td>\n",
              "      <td>5.00</td>\n",
              "      <td>0</td>\n",
              "      <td>5</td>\n",
              "      <td>7</td>\n",
              "      <td>7</td>\n",
              "    </tr>\n",
              "    <tr>\n",
              "      <th>7</th>\n",
              "      <td>scone</td>\n",
              "      <td>Jade</td>\n",
              "      <td>Individually Wrapped  (Plastic)</td>\n",
              "      <td>2.00</td>\n",
              "      <td>1.25</td>\n",
              "      <td>0.75</td>\n",
              "      <td>0</td>\n",
              "      <td>8</td>\n",
              "      <td>10</td>\n",
              "      <td>10</td>\n",
              "    </tr>\n",
              "    <tr>\n",
              "      <th>8</th>\n",
              "      <td>muffin</td>\n",
              "      <td>Anne</td>\n",
              "      <td>Individually Wrapped (Foil)</td>\n",
              "      <td>1.50</td>\n",
              "      <td>0.75</td>\n",
              "      <td>0.75</td>\n",
              "      <td>0</td>\n",
              "      <td>3</td>\n",
              "      <td>4</td>\n",
              "      <td>4</td>\n",
              "    </tr>\n",
              "    <tr>\n",
              "      <th>9</th>\n",
              "      <td>rice krispies treats</td>\n",
              "      <td>Martina</td>\n",
              "      <td>Individually Wrapped  (Plastic)</td>\n",
              "      <td>1.25</td>\n",
              "      <td>0.25</td>\n",
              "      <td>1.00</td>\n",
              "      <td>0</td>\n",
              "      <td>0</td>\n",
              "      <td>10</td>\n",
              "      <td>30</td>\n",
              "    </tr>\n",
              "    <tr>\n",
              "      <th>10</th>\n",
              "      <td>apple pie</td>\n",
              "      <td>Sally</td>\n",
              "      <td>Box (Cardboard)</td>\n",
              "      <td>10.00</td>\n",
              "      <td>4.00</td>\n",
              "      <td>6.00</td>\n",
              "      <td>0</td>\n",
              "      <td>0</td>\n",
              "      <td>2</td>\n",
              "      <td>3</td>\n",
              "    </tr>\n",
              "    <tr>\n",
              "      <th>11</th>\n",
              "      <td>key lime pie</td>\n",
              "      <td>Martina</td>\n",
              "      <td>Box (Cardboard)</td>\n",
              "      <td>9.50</td>\n",
              "      <td>4.50</td>\n",
              "      <td>5.00</td>\n",
              "      <td>0</td>\n",
              "      <td>0</td>\n",
              "      <td>3</td>\n",
              "      <td>3</td>\n",
              "    </tr>\n",
              "  </tbody>\n",
              "</table>\n",
              "</div>"
            ],
            "text/plain": [
              "                    Item  Student                        Packaging  Price  \\\n",
              "0                brownie     Hugo  Individually Wrapped  (Plastic)   2.25   \n",
              "1                 cookie    Sally  Individually Wrapped  (Plastic)   1.25   \n",
              "2                   cake  Martina            Boxed (Clear Plastic)   9.50   \n",
              "3                cupcake      Joe                Boxed (Cardboard)   3.50   \n",
              "4                  fudge     Hugo      Individually Wrapped (Foil)   3.00   \n",
              "5           banana bread     Mark      Individually Wrapped (Foil)   2.75   \n",
              "6                  torte     Jade            Boxed (Clear Plastic)  10.50   \n",
              "7                  scone     Jade  Individually Wrapped  (Plastic)   2.00   \n",
              "8                 muffin     Anne      Individually Wrapped (Foil)   1.50   \n",
              "9   rice krispies treats  Martina  Individually Wrapped  (Plastic)   1.25   \n",
              "10             apple pie    Sally                  Box (Cardboard)  10.00   \n",
              "11          key lime pie  Martina                  Box (Cardboard)   9.50   \n",
              "\n",
              "    Expense  Profit per Item  Quantity Sold (Day 1)  Quantity Sold (Day 2)  \\\n",
              "0      0.25             2.00                     17                     19   \n",
              "1      0.50             0.75                     40                     32   \n",
              "2      5.00             4.50                      1                      2   \n",
              "3      0.75             2.75                     10                     14   \n",
              "4      1.00             2.00                      0                     20   \n",
              "5      0.50             2.25                      0                     10   \n",
              "6      5.50             5.00                      0                      5   \n",
              "7      1.25             0.75                      0                      8   \n",
              "8      0.75             0.75                      0                      3   \n",
              "9      0.25             1.00                      0                      0   \n",
              "10     4.00             6.00                      0                      0   \n",
              "11     4.50             5.00                      0                      0   \n",
              "\n",
              "    Quantity Sold (Day 3)  Quantity Sold (Day 4)  \n",
              "0                      25                     25  \n",
              "1                      38                     38  \n",
              "2                       0                      0  \n",
              "3                      12                     12  \n",
              "4                      22                     22  \n",
              "5                      13                     13  \n",
              "6                       7                      7  \n",
              "7                      10                     10  \n",
              "8                       4                      4  \n",
              "9                      10                     30  \n",
              "10                      2                      3  \n",
              "11                      3                      3  "
            ]
          },
          "execution_count": 124,
          "metadata": {},
          "output_type": "execute_result"
        }
      ],
      "source": [
        "#second approach\n",
        "#Introducing the same derived attibute using .insert() method\n",
        "#df_url.info()\n",
        "df_url.insert(5, 'Profit per Item', df_url['Price']- df_url['Expense'])\n",
        "df_url\n",
        "\n",
        "# The insert method supports positioninf hence the 5 attribute "
      ]
    },
    {
      "cell_type": "code",
      "execution_count": 125,
      "metadata": {
        "colab": {
          "base_uri": "https://localhost:8080/",
          "height": 844
        },
        "id": "nyYg7BBpj_tv",
        "outputId": "cd68af94-ba7d-40e8-f771-b1b98f9ed3e5"
      },
      "outputs": [
        {
          "data": {
            "text/html": [
              "<div>\n",
              "<style scoped>\n",
              "    .dataframe tbody tr th:only-of-type {\n",
              "        vertical-align: middle;\n",
              "    }\n",
              "\n",
              "    .dataframe tbody tr th {\n",
              "        vertical-align: top;\n",
              "    }\n",
              "\n",
              "    .dataframe thead th {\n",
              "        text-align: right;\n",
              "    }\n",
              "</style>\n",
              "<table border=\"1\" class=\"dataframe\">\n",
              "  <thead>\n",
              "    <tr style=\"text-align: right;\">\n",
              "      <th></th>\n",
              "      <th>Item</th>\n",
              "      <th>Student</th>\n",
              "      <th>Packaging</th>\n",
              "      <th>Price</th>\n",
              "      <th>Expense</th>\n",
              "      <th>Profit per Item</th>\n",
              "      <th>Quantity Sold (Day 1)</th>\n",
              "      <th>Quantity Sold (Day 2)</th>\n",
              "      <th>Quantity Sold (Day 3)</th>\n",
              "      <th>Quantity Sold (Day 4)</th>\n",
              "    </tr>\n",
              "  </thead>\n",
              "  <tbody>\n",
              "    <tr>\n",
              "      <th>0</th>\n",
              "      <td>brownie</td>\n",
              "      <td>Hugo</td>\n",
              "      <td>Individually Wrapped  (Plastic)</td>\n",
              "      <td>2.25</td>\n",
              "      <td>0.25</td>\n",
              "      <td>2.00</td>\n",
              "      <td>17</td>\n",
              "      <td>19</td>\n",
              "      <td>25</td>\n",
              "      <td>25</td>\n",
              "    </tr>\n",
              "    <tr>\n",
              "      <th>1</th>\n",
              "      <td>cookie</td>\n",
              "      <td>Sally</td>\n",
              "      <td>Individually Wrapped  (Plastic)</td>\n",
              "      <td>1.25</td>\n",
              "      <td>0.50</td>\n",
              "      <td>0.75</td>\n",
              "      <td>40</td>\n",
              "      <td>32</td>\n",
              "      <td>38</td>\n",
              "      <td>38</td>\n",
              "    </tr>\n",
              "    <tr>\n",
              "      <th>2</th>\n",
              "      <td>cake</td>\n",
              "      <td>Martina</td>\n",
              "      <td>Boxed (Clear Plastic)</td>\n",
              "      <td>9.50</td>\n",
              "      <td>5.00</td>\n",
              "      <td>4.50</td>\n",
              "      <td>1</td>\n",
              "      <td>2</td>\n",
              "      <td>0</td>\n",
              "      <td>0</td>\n",
              "    </tr>\n",
              "    <tr>\n",
              "      <th>3</th>\n",
              "      <td>cupcake</td>\n",
              "      <td>Joe</td>\n",
              "      <td>Boxed (Cardboard)</td>\n",
              "      <td>3.50</td>\n",
              "      <td>0.75</td>\n",
              "      <td>2.75</td>\n",
              "      <td>10</td>\n",
              "      <td>14</td>\n",
              "      <td>12</td>\n",
              "      <td>12</td>\n",
              "    </tr>\n",
              "    <tr>\n",
              "      <th>4</th>\n",
              "      <td>fudge</td>\n",
              "      <td>Hugo</td>\n",
              "      <td>Individually Wrapped (Foil)</td>\n",
              "      <td>3.00</td>\n",
              "      <td>1.00</td>\n",
              "      <td>2.00</td>\n",
              "      <td>0</td>\n",
              "      <td>20</td>\n",
              "      <td>22</td>\n",
              "      <td>22</td>\n",
              "    </tr>\n",
              "    <tr>\n",
              "      <th>5</th>\n",
              "      <td>banana bread</td>\n",
              "      <td>Mark</td>\n",
              "      <td>Individually Wrapped (Foil)</td>\n",
              "      <td>2.75</td>\n",
              "      <td>0.50</td>\n",
              "      <td>2.25</td>\n",
              "      <td>0</td>\n",
              "      <td>10</td>\n",
              "      <td>13</td>\n",
              "      <td>13</td>\n",
              "    </tr>\n",
              "    <tr>\n",
              "      <th>6</th>\n",
              "      <td>torte</td>\n",
              "      <td>Jade</td>\n",
              "      <td>Boxed (Clear Plastic)</td>\n",
              "      <td>10.50</td>\n",
              "      <td>5.50</td>\n",
              "      <td>5.00</td>\n",
              "      <td>0</td>\n",
              "      <td>5</td>\n",
              "      <td>7</td>\n",
              "      <td>7</td>\n",
              "    </tr>\n",
              "    <tr>\n",
              "      <th>7</th>\n",
              "      <td>scone</td>\n",
              "      <td>Jade</td>\n",
              "      <td>Individually Wrapped  (Plastic)</td>\n",
              "      <td>2.00</td>\n",
              "      <td>1.25</td>\n",
              "      <td>0.75</td>\n",
              "      <td>0</td>\n",
              "      <td>8</td>\n",
              "      <td>10</td>\n",
              "      <td>10</td>\n",
              "    </tr>\n",
              "    <tr>\n",
              "      <th>8</th>\n",
              "      <td>muffin</td>\n",
              "      <td>Anne</td>\n",
              "      <td>Individually Wrapped (Foil)</td>\n",
              "      <td>1.50</td>\n",
              "      <td>0.75</td>\n",
              "      <td>0.75</td>\n",
              "      <td>0</td>\n",
              "      <td>3</td>\n",
              "      <td>4</td>\n",
              "      <td>4</td>\n",
              "    </tr>\n",
              "    <tr>\n",
              "      <th>9</th>\n",
              "      <td>rice krispies treats</td>\n",
              "      <td>Martina</td>\n",
              "      <td>Individually Wrapped  (Plastic)</td>\n",
              "      <td>1.25</td>\n",
              "      <td>0.25</td>\n",
              "      <td>1.00</td>\n",
              "      <td>0</td>\n",
              "      <td>0</td>\n",
              "      <td>10</td>\n",
              "      <td>30</td>\n",
              "    </tr>\n",
              "    <tr>\n",
              "      <th>10</th>\n",
              "      <td>apple pie</td>\n",
              "      <td>Sally</td>\n",
              "      <td>Box (Cardboard)</td>\n",
              "      <td>10.00</td>\n",
              "      <td>4.00</td>\n",
              "      <td>6.00</td>\n",
              "      <td>0</td>\n",
              "      <td>0</td>\n",
              "      <td>2</td>\n",
              "      <td>3</td>\n",
              "    </tr>\n",
              "    <tr>\n",
              "      <th>11</th>\n",
              "      <td>key lime pie</td>\n",
              "      <td>Martina</td>\n",
              "      <td>Box (Cardboard)</td>\n",
              "      <td>9.50</td>\n",
              "      <td>4.50</td>\n",
              "      <td>5.00</td>\n",
              "      <td>0</td>\n",
              "      <td>0</td>\n",
              "      <td>3</td>\n",
              "      <td>3</td>\n",
              "    </tr>\n",
              "  </tbody>\n",
              "</table>\n",
              "</div>"
            ],
            "text/plain": [
              "                    Item  Student                        Packaging  Price  \\\n",
              "0                brownie     Hugo  Individually Wrapped  (Plastic)   2.25   \n",
              "1                 cookie    Sally  Individually Wrapped  (Plastic)   1.25   \n",
              "2                   cake  Martina            Boxed (Clear Plastic)   9.50   \n",
              "3                cupcake      Joe                Boxed (Cardboard)   3.50   \n",
              "4                  fudge     Hugo      Individually Wrapped (Foil)   3.00   \n",
              "5           banana bread     Mark      Individually Wrapped (Foil)   2.75   \n",
              "6                  torte     Jade            Boxed (Clear Plastic)  10.50   \n",
              "7                  scone     Jade  Individually Wrapped  (Plastic)   2.00   \n",
              "8                 muffin     Anne      Individually Wrapped (Foil)   1.50   \n",
              "9   rice krispies treats  Martina  Individually Wrapped  (Plastic)   1.25   \n",
              "10             apple pie    Sally                  Box (Cardboard)  10.00   \n",
              "11          key lime pie  Martina                  Box (Cardboard)   9.50   \n",
              "\n",
              "    Expense  Profit per Item  Quantity Sold (Day 1)  Quantity Sold (Day 2)  \\\n",
              "0      0.25             2.00                     17                     19   \n",
              "1      0.50             0.75                     40                     32   \n",
              "2      5.00             4.50                      1                      2   \n",
              "3      0.75             2.75                     10                     14   \n",
              "4      1.00             2.00                      0                     20   \n",
              "5      0.50             2.25                      0                     10   \n",
              "6      5.50             5.00                      0                      5   \n",
              "7      1.25             0.75                      0                      8   \n",
              "8      0.75             0.75                      0                      3   \n",
              "9      0.25             1.00                      0                      0   \n",
              "10     4.00             6.00                      0                      0   \n",
              "11     4.50             5.00                      0                      0   \n",
              "\n",
              "    Quantity Sold (Day 3)  Quantity Sold (Day 4)  \n",
              "0                      25                     25  \n",
              "1                      38                     38  \n",
              "2                       0                      0  \n",
              "3                      12                     12  \n",
              "4                      22                     22  \n",
              "5                      13                     13  \n",
              "6                       7                      7  \n",
              "7                      10                     10  \n",
              "8                       4                      4  \n",
              "9                      10                     30  \n",
              "10                      2                      3  \n",
              "11                      3                      3  "
            ]
          },
          "execution_count": 125,
          "metadata": {},
          "output_type": "execute_result"
        }
      ],
      "source": [
        "df_url"
      ]
    },
    {
      "cell_type": "markdown",
      "metadata": {
        "id": "m5CzQ0Oc-smk"
      },
      "source": [
        "\n"
      ]
    },
    {
      "cell_type": "markdown",
      "metadata": {
        "id": "8kCEIHgr_H4K"
      },
      "source": [
        "**How to save the new file to a particular folder.**\n",
        "\n",
        "Pandas can save data in many different formats. The most common ones you will be using are .csv and .xlsx.\n",
        "\n",
        "To save a dataframe to a csv file, we use the **df.to_csv()** method which requires a name for the file. Note that the name of the file you select should end with .csv.\n",
        "\n",
        "Note: if **df** is the variable name for the dataframe\n",
        "\n",
        "We will name our file \"bake-sale-data.csv\"."
      ]
    },
    {
      "cell_type": "code",
      "execution_count": 126,
      "metadata": {
        "id": "DHN0UyubkMiD"
      },
      "outputs": [],
      "source": [
        "df_url.to_csv('C:/Users/ISHMO_CT/Desktop/Projects/RDSB/data/bake-sale-data.csv')"
      ]
    },
    {
      "cell_type": "markdown",
      "metadata": {
        "id": "uvm24bwz_soT"
      },
      "source": [
        "# Slicing\n",
        "\n",
        "**Learning Objectives**\n",
        "\n",
        "* Select columns and rows using .loc\n",
        "* Set the index of a DataFrame"
      ]
    },
    {
      "cell_type": "markdown",
      "metadata": {
        "id": "5iJuNzkZAI_F"
      },
      "source": [
        "We briefly introduced slicing much earlier. \"Slicing\" is the process of selecting a subset of the data based on label or position."
      ]
    },
    {
      "cell_type": "code",
      "execution_count": 127,
      "metadata": {
        "id": "qLthyNyp-UEB"
      },
      "outputs": [],
      "source": [
        "# Import needed libraries\n",
        "import pandas as pd"
      ]
    },
    {
      "cell_type": "code",
      "execution_count": 128,
      "metadata": {
        "colab": {
          "base_uri": "https://localhost:8080/",
          "height": 444
        },
        "id": "NQfhHSSSfJ0y",
        "outputId": "ce7dbee0-0d80-40d1-d742-58a1bba47972"
      },
      "outputs": [
        {
          "data": {
            "text/html": [
              "<div>\n",
              "<style scoped>\n",
              "    .dataframe tbody tr th:only-of-type {\n",
              "        vertical-align: middle;\n",
              "    }\n",
              "\n",
              "    .dataframe tbody tr th {\n",
              "        vertical-align: top;\n",
              "    }\n",
              "\n",
              "    .dataframe thead th {\n",
              "        text-align: right;\n",
              "    }\n",
              "</style>\n",
              "<table border=\"1\" class=\"dataframe\">\n",
              "  <thead>\n",
              "    <tr style=\"text-align: right;\">\n",
              "      <th></th>\n",
              "      <th>Unnamed: 0</th>\n",
              "      <th>Item</th>\n",
              "      <th>Student</th>\n",
              "      <th>Packaging</th>\n",
              "      <th>Price</th>\n",
              "      <th>Expense</th>\n",
              "      <th>Profit per Item</th>\n",
              "      <th>Quantity Sold (Day 1)</th>\n",
              "      <th>Quantity Sold (Day 2)</th>\n",
              "      <th>Quantity Sold (Day 3)</th>\n",
              "      <th>Quantity Sold (Day 4)</th>\n",
              "    </tr>\n",
              "  </thead>\n",
              "  <tbody>\n",
              "    <tr>\n",
              "      <th>0</th>\n",
              "      <td>0</td>\n",
              "      <td>brownie</td>\n",
              "      <td>Hugo</td>\n",
              "      <td>Individually Wrapped  (Plastic)</td>\n",
              "      <td>2.25</td>\n",
              "      <td>0.25</td>\n",
              "      <td>2.00</td>\n",
              "      <td>17</td>\n",
              "      <td>19</td>\n",
              "      <td>25</td>\n",
              "      <td>25</td>\n",
              "    </tr>\n",
              "    <tr>\n",
              "      <th>1</th>\n",
              "      <td>1</td>\n",
              "      <td>cookie</td>\n",
              "      <td>Sally</td>\n",
              "      <td>Individually Wrapped  (Plastic)</td>\n",
              "      <td>1.25</td>\n",
              "      <td>0.50</td>\n",
              "      <td>0.75</td>\n",
              "      <td>40</td>\n",
              "      <td>32</td>\n",
              "      <td>38</td>\n",
              "      <td>38</td>\n",
              "    </tr>\n",
              "    <tr>\n",
              "      <th>2</th>\n",
              "      <td>2</td>\n",
              "      <td>cake</td>\n",
              "      <td>Martina</td>\n",
              "      <td>Boxed (Clear Plastic)</td>\n",
              "      <td>9.50</td>\n",
              "      <td>5.00</td>\n",
              "      <td>4.50</td>\n",
              "      <td>1</td>\n",
              "      <td>2</td>\n",
              "      <td>0</td>\n",
              "      <td>0</td>\n",
              "    </tr>\n",
              "    <tr>\n",
              "      <th>3</th>\n",
              "      <td>3</td>\n",
              "      <td>cupcake</td>\n",
              "      <td>Joe</td>\n",
              "      <td>Boxed (Cardboard)</td>\n",
              "      <td>3.50</td>\n",
              "      <td>0.75</td>\n",
              "      <td>2.75</td>\n",
              "      <td>10</td>\n",
              "      <td>14</td>\n",
              "      <td>12</td>\n",
              "      <td>12</td>\n",
              "    </tr>\n",
              "    <tr>\n",
              "      <th>4</th>\n",
              "      <td>4</td>\n",
              "      <td>fudge</td>\n",
              "      <td>Hugo</td>\n",
              "      <td>Individually Wrapped (Foil)</td>\n",
              "      <td>3.00</td>\n",
              "      <td>1.00</td>\n",
              "      <td>2.00</td>\n",
              "      <td>0</td>\n",
              "      <td>20</td>\n",
              "      <td>22</td>\n",
              "      <td>22</td>\n",
              "    </tr>\n",
              "    <tr>\n",
              "      <th>5</th>\n",
              "      <td>5</td>\n",
              "      <td>banana bread</td>\n",
              "      <td>Mark</td>\n",
              "      <td>Individually Wrapped (Foil)</td>\n",
              "      <td>2.75</td>\n",
              "      <td>0.50</td>\n",
              "      <td>2.25</td>\n",
              "      <td>0</td>\n",
              "      <td>10</td>\n",
              "      <td>13</td>\n",
              "      <td>13</td>\n",
              "    </tr>\n",
              "    <tr>\n",
              "      <th>6</th>\n",
              "      <td>6</td>\n",
              "      <td>torte</td>\n",
              "      <td>Jade</td>\n",
              "      <td>Boxed (Clear Plastic)</td>\n",
              "      <td>10.50</td>\n",
              "      <td>5.50</td>\n",
              "      <td>5.00</td>\n",
              "      <td>0</td>\n",
              "      <td>5</td>\n",
              "      <td>7</td>\n",
              "      <td>7</td>\n",
              "    </tr>\n",
              "    <tr>\n",
              "      <th>7</th>\n",
              "      <td>7</td>\n",
              "      <td>scone</td>\n",
              "      <td>Jade</td>\n",
              "      <td>Individually Wrapped  (Plastic)</td>\n",
              "      <td>2.00</td>\n",
              "      <td>1.25</td>\n",
              "      <td>0.75</td>\n",
              "      <td>0</td>\n",
              "      <td>8</td>\n",
              "      <td>10</td>\n",
              "      <td>10</td>\n",
              "    </tr>\n",
              "    <tr>\n",
              "      <th>8</th>\n",
              "      <td>8</td>\n",
              "      <td>muffin</td>\n",
              "      <td>Anne</td>\n",
              "      <td>Individually Wrapped (Foil)</td>\n",
              "      <td>1.50</td>\n",
              "      <td>0.75</td>\n",
              "      <td>0.75</td>\n",
              "      <td>0</td>\n",
              "      <td>3</td>\n",
              "      <td>4</td>\n",
              "      <td>4</td>\n",
              "    </tr>\n",
              "    <tr>\n",
              "      <th>9</th>\n",
              "      <td>9</td>\n",
              "      <td>rice krispies treats</td>\n",
              "      <td>Martina</td>\n",
              "      <td>Individually Wrapped  (Plastic)</td>\n",
              "      <td>1.25</td>\n",
              "      <td>0.25</td>\n",
              "      <td>1.00</td>\n",
              "      <td>0</td>\n",
              "      <td>0</td>\n",
              "      <td>10</td>\n",
              "      <td>30</td>\n",
              "    </tr>\n",
              "    <tr>\n",
              "      <th>10</th>\n",
              "      <td>10</td>\n",
              "      <td>apple pie</td>\n",
              "      <td>Sally</td>\n",
              "      <td>Box (Cardboard)</td>\n",
              "      <td>10.00</td>\n",
              "      <td>4.00</td>\n",
              "      <td>6.00</td>\n",
              "      <td>0</td>\n",
              "      <td>0</td>\n",
              "      <td>2</td>\n",
              "      <td>3</td>\n",
              "    </tr>\n",
              "    <tr>\n",
              "      <th>11</th>\n",
              "      <td>11</td>\n",
              "      <td>key lime pie</td>\n",
              "      <td>Martina</td>\n",
              "      <td>Box (Cardboard)</td>\n",
              "      <td>9.50</td>\n",
              "      <td>4.50</td>\n",
              "      <td>5.00</td>\n",
              "      <td>0</td>\n",
              "      <td>0</td>\n",
              "      <td>3</td>\n",
              "      <td>3</td>\n",
              "    </tr>\n",
              "  </tbody>\n",
              "</table>\n",
              "</div>"
            ],
            "text/plain": [
              "    Unnamed: 0                  Item  Student  \\\n",
              "0            0               brownie     Hugo   \n",
              "1            1                cookie    Sally   \n",
              "2            2                  cake  Martina   \n",
              "3            3               cupcake      Joe   \n",
              "4            4                 fudge     Hugo   \n",
              "5            5          banana bread     Mark   \n",
              "6            6                 torte     Jade   \n",
              "7            7                 scone     Jade   \n",
              "8            8                muffin     Anne   \n",
              "9            9  rice krispies treats  Martina   \n",
              "10          10             apple pie    Sally   \n",
              "11          11          key lime pie  Martina   \n",
              "\n",
              "                          Packaging  Price  Expense  Profit per Item  \\\n",
              "0   Individually Wrapped  (Plastic)   2.25     0.25             2.00   \n",
              "1   Individually Wrapped  (Plastic)   1.25     0.50             0.75   \n",
              "2             Boxed (Clear Plastic)   9.50     5.00             4.50   \n",
              "3                 Boxed (Cardboard)   3.50     0.75             2.75   \n",
              "4       Individually Wrapped (Foil)   3.00     1.00             2.00   \n",
              "5       Individually Wrapped (Foil)   2.75     0.50             2.25   \n",
              "6             Boxed (Clear Plastic)  10.50     5.50             5.00   \n",
              "7   Individually Wrapped  (Plastic)   2.00     1.25             0.75   \n",
              "8       Individually Wrapped (Foil)   1.50     0.75             0.75   \n",
              "9   Individually Wrapped  (Plastic)   1.25     0.25             1.00   \n",
              "10                  Box (Cardboard)  10.00     4.00             6.00   \n",
              "11                  Box (Cardboard)   9.50     4.50             5.00   \n",
              "\n",
              "    Quantity Sold (Day 1)  Quantity Sold (Day 2)  Quantity Sold (Day 3)  \\\n",
              "0                      17                     19                     25   \n",
              "1                      40                     32                     38   \n",
              "2                       1                      2                      0   \n",
              "3                      10                     14                     12   \n",
              "4                       0                     20                     22   \n",
              "5                       0                     10                     13   \n",
              "6                       0                      5                      7   \n",
              "7                       0                      8                     10   \n",
              "8                       0                      3                      4   \n",
              "9                       0                      0                     10   \n",
              "10                      0                      0                      2   \n",
              "11                      0                      0                      3   \n",
              "\n",
              "    Quantity Sold (Day 4)  \n",
              "0                      25  \n",
              "1                      38  \n",
              "2                       0  \n",
              "3                      12  \n",
              "4                      22  \n",
              "5                      13  \n",
              "6                       7  \n",
              "7                      10  \n",
              "8                       4  \n",
              "9                      30  \n",
              "10                      3  \n",
              "11                      3  "
            ]
          },
          "execution_count": 128,
          "metadata": {},
          "output_type": "execute_result"
        }
      ],
      "source": [
        "pd.read_csv('C:/Users/ISHMO_CT/Desktop/Projects/RDSB/data/bake-sale-data.csv')"
      ]
    },
    {
      "cell_type": "code",
      "execution_count": 129,
      "metadata": {
        "colab": {
          "base_uri": "https://localhost:8080/",
          "height": 316
        },
        "id": "0Mknssf0ANM4",
        "outputId": "64b417a6-7e84-495b-967b-376e4daa2387"
      },
      "outputs": [],
      "source": [
        "# #Mount google drive\n",
        "\n",
        "# from google.colab import drive\n",
        "# drive.mount('/content/drive')"
      ]
    },
    {
      "cell_type": "code",
      "execution_count": 130,
      "metadata": {
        "colab": {
          "base_uri": "https://localhost:8080/",
          "height": 293
        },
        "id": "QM2j_etjAaBk",
        "outputId": "e4cff989-0bd9-4a21-cd48-0eb9be38da04"
      },
      "outputs": [],
      "source": [
        "# # Define the file path\n",
        "# fname = \"/content/drive/MyDrive/STUDENTS/refactory/DS/Bake_Sales.csv\"\n",
        "# df = pd.read_csv(fname)\n",
        "# df.head()"
      ]
    },
    {
      "cell_type": "markdown",
      "metadata": {
        "id": "B3lTtAOlB5T4"
      },
      "source": [
        "**Review: Slicing Collumns with Square Brackets**\n",
        "\n",
        "Here is a quick review of slicing a single column from a dataframe using square brackets and the column name."
      ]
    },
    {
      "cell_type": "code",
      "execution_count": 135,
      "metadata": {
        "colab": {
          "base_uri": "https://localhost:8080/"
        },
        "id": "4fKTOB79B380",
        "outputId": "ceb20c22-da2e-4e9d-91a6-dddde2bef7c7"
      },
      "outputs": [
        {
          "data": {
            "text/plain": [
              "0                  brownie\n",
              "1                   cookie\n",
              "2                     cake\n",
              "3                  cupcake\n",
              "4                    fudge\n",
              "5             banana bread\n",
              "6                    torte\n",
              "7                    scone\n",
              "8                   muffin\n",
              "9     rice krispies treats\n",
              "10               apple pie\n",
              "11            key lime pie\n",
              "Name: Item, dtype: object"
            ]
          },
          "execution_count": 135,
          "metadata": {},
          "output_type": "execute_result"
        }
      ],
      "source": [
        "# # Review: slicing 1 column\n",
        "df_url[\"Item\"]"
      ]
    },
    {
      "cell_type": "code",
      "execution_count": 136,
      "metadata": {
        "colab": {
          "base_uri": "https://localhost:8080/"
        },
        "id": "BAIokv5Un8rl",
        "outputId": "c756a5e8-ee06-497b-c58e-a6b055142d55"
      },
      "outputs": [
        {
          "data": {
            "text/plain": [
              "array(['brownie', 'cookie', 'cake', 'cupcake', 'fudge', 'banana bread',\n",
              "       'torte', 'scone', 'muffin', 'rice krispies treats', 'apple pie',\n",
              "       'key lime pie'], dtype=object)"
            ]
          },
          "execution_count": 136,
          "metadata": {},
          "output_type": "execute_result"
        }
      ],
      "source": [
        "df_url['Item'].unique()"
      ]
    },
    {
      "cell_type": "markdown",
      "metadata": {
        "id": "tGAoJtu4CKuS"
      },
      "source": [
        "We can slice more than one column by including the desired column names in a list."
      ]
    },
    {
      "cell_type": "code",
      "execution_count": 137,
      "metadata": {
        "colab": {
          "base_uri": "https://localhost:8080/",
          "height": 425
        },
        "id": "RWP2dKDpCCkv",
        "outputId": "58807420-5ec2-4e71-cf64-0b50d87784a3"
      },
      "outputs": [
        {
          "data": {
            "text/html": [
              "<div>\n",
              "<style scoped>\n",
              "    .dataframe tbody tr th:only-of-type {\n",
              "        vertical-align: middle;\n",
              "    }\n",
              "\n",
              "    .dataframe tbody tr th {\n",
              "        vertical-align: top;\n",
              "    }\n",
              "\n",
              "    .dataframe thead th {\n",
              "        text-align: right;\n",
              "    }\n",
              "</style>\n",
              "<table border=\"1\" class=\"dataframe\">\n",
              "  <thead>\n",
              "    <tr style=\"text-align: right;\">\n",
              "      <th></th>\n",
              "      <th>Item</th>\n",
              "      <th>Student</th>\n",
              "      <th>Price</th>\n",
              "    </tr>\n",
              "  </thead>\n",
              "  <tbody>\n",
              "    <tr>\n",
              "      <th>0</th>\n",
              "      <td>brownie</td>\n",
              "      <td>Hugo</td>\n",
              "      <td>2.25</td>\n",
              "    </tr>\n",
              "    <tr>\n",
              "      <th>1</th>\n",
              "      <td>cookie</td>\n",
              "      <td>Sally</td>\n",
              "      <td>1.25</td>\n",
              "    </tr>\n",
              "    <tr>\n",
              "      <th>2</th>\n",
              "      <td>cake</td>\n",
              "      <td>Martina</td>\n",
              "      <td>9.50</td>\n",
              "    </tr>\n",
              "    <tr>\n",
              "      <th>3</th>\n",
              "      <td>cupcake</td>\n",
              "      <td>Joe</td>\n",
              "      <td>3.50</td>\n",
              "    </tr>\n",
              "    <tr>\n",
              "      <th>4</th>\n",
              "      <td>fudge</td>\n",
              "      <td>Hugo</td>\n",
              "      <td>3.00</td>\n",
              "    </tr>\n",
              "    <tr>\n",
              "      <th>5</th>\n",
              "      <td>banana bread</td>\n",
              "      <td>Mark</td>\n",
              "      <td>2.75</td>\n",
              "    </tr>\n",
              "    <tr>\n",
              "      <th>6</th>\n",
              "      <td>torte</td>\n",
              "      <td>Jade</td>\n",
              "      <td>10.50</td>\n",
              "    </tr>\n",
              "    <tr>\n",
              "      <th>7</th>\n",
              "      <td>scone</td>\n",
              "      <td>Jade</td>\n",
              "      <td>2.00</td>\n",
              "    </tr>\n",
              "    <tr>\n",
              "      <th>8</th>\n",
              "      <td>muffin</td>\n",
              "      <td>Anne</td>\n",
              "      <td>1.50</td>\n",
              "    </tr>\n",
              "    <tr>\n",
              "      <th>9</th>\n",
              "      <td>rice krispies treats</td>\n",
              "      <td>Martina</td>\n",
              "      <td>1.25</td>\n",
              "    </tr>\n",
              "    <tr>\n",
              "      <th>10</th>\n",
              "      <td>apple pie</td>\n",
              "      <td>Sally</td>\n",
              "      <td>10.00</td>\n",
              "    </tr>\n",
              "    <tr>\n",
              "      <th>11</th>\n",
              "      <td>key lime pie</td>\n",
              "      <td>Martina</td>\n",
              "      <td>9.50</td>\n",
              "    </tr>\n",
              "  </tbody>\n",
              "</table>\n",
              "</div>"
            ],
            "text/plain": [
              "                    Item  Student  Price\n",
              "0                brownie     Hugo   2.25\n",
              "1                 cookie    Sally   1.25\n",
              "2                   cake  Martina   9.50\n",
              "3                cupcake      Joe   3.50\n",
              "4                  fudge     Hugo   3.00\n",
              "5           banana bread     Mark   2.75\n",
              "6                  torte     Jade  10.50\n",
              "7                  scone     Jade   2.00\n",
              "8                 muffin     Anne   1.50\n",
              "9   rice krispies treats  Martina   1.25\n",
              "10             apple pie    Sally  10.00\n",
              "11          key lime pie  Martina   9.50"
            ]
          },
          "execution_count": 137,
          "metadata": {},
          "output_type": "execute_result"
        }
      ],
      "source": [
        "\n",
        "# Review: slicing more than 1 column\n",
        "df_url[[\"Item\", \"Student\",\"Price\"]]"
      ]
    },
    {
      "cell_type": "markdown",
      "metadata": {
        "id": "ykBT642UCOlL"
      },
      "source": [
        "**Slicing Rows with .loc**\n",
        "\n",
        ".loc is a special method used to locate desired rows and/or columns for slicing. .loc works a little differently than other methods or attributes we have used. Since .loc is exclusively used for slicing and filtering, we will use square brackets with .loc instead of round parentheses. Inside the square brackets, we will include the index we want to select.\n",
        "\n",
        "If we wanted to slice out the row that contains the item \"cake\", we would need to know its index. Since \"cake\" is one of the first entries in our small DataFrame, we can easily look and see \"cake\" is in index 2."
      ]
    },
    {
      "cell_type": "code",
      "execution_count": 138,
      "metadata": {
        "colab": {
          "base_uri": "https://localhost:8080/"
        },
        "id": "Ry4ieRx6mIWT",
        "outputId": "15d7b3a3-7af1-4df6-b15d-d2fac370538b"
      },
      "outputs": [
        {
          "data": {
            "text/plain": [
              "Index(['Price', 'Quantity Sold', 'Sales', 'Expenses', 'Profit_per_item',\n",
              "       'Profits'],\n",
              "      dtype='object')"
            ]
          },
          "execution_count": 138,
          "metadata": {},
          "output_type": "execute_result"
        }
      ],
      "source": [
        "df.columns"
      ]
    },
    {
      "cell_type": "code",
      "execution_count": 154,
      "metadata": {
        "colab": {
          "base_uri": "https://localhost:8080/"
        },
        "id": "2Aia7MEYCXEk",
        "outputId": "f29d0ab9-02f6-4516-dbbf-c8d54a0d8354"
      },
      "outputs": [
        {
          "data": {
            "text/plain": [
              "Item                                      cake\n",
              "Student                                Martina\n",
              "Packaging                Boxed (Clear Plastic)\n",
              "Price                                      9.5\n",
              "Expense                                    5.0\n",
              "Profit per Item                            4.5\n",
              "Quantity Sold (Day 1)                        1\n",
              "Quantity Sold (Day 2)                        2\n",
              "Quantity Sold (Day 3)                        0\n",
              "Quantity Sold (Day 4)                        0\n",
              "Name: 2, dtype: object"
            ]
          },
          "execution_count": 154,
          "metadata": {},
          "output_type": "execute_result"
        }
      ],
      "source": [
        "# Slice the row with cake at index 2\n",
        "df_url.loc[2]"
      ]
    },
    {
      "cell_type": "markdown",
      "metadata": {
        "id": "Q13cxZwBChBK"
      },
      "source": [
        "We can see that we have a Series named \"2\" that contains the row that with \"cake\" in the Item column.\n"
      ]
    },
    {
      "cell_type": "markdown",
      "metadata": {
        "id": "fRJpAkjrCjQt"
      },
      "source": [
        "Similar to the square bracket slicing we did earlier, we can output our result as a dataframe if we use double square brackets:"
      ]
    },
    {
      "cell_type": "code",
      "execution_count": 142,
      "metadata": {
        "colab": {
          "base_uri": "https://localhost:8080/",
          "height": 170
        },
        "id": "Lw8eKsHcBV7G",
        "outputId": "a54bb927-a9ec-4ba9-b695-147b0b26c69b"
      },
      "outputs": [
        {
          "data": {
            "text/html": [
              "<div>\n",
              "<style scoped>\n",
              "    .dataframe tbody tr th:only-of-type {\n",
              "        vertical-align: middle;\n",
              "    }\n",
              "\n",
              "    .dataframe tbody tr th {\n",
              "        vertical-align: top;\n",
              "    }\n",
              "\n",
              "    .dataframe thead th {\n",
              "        text-align: right;\n",
              "    }\n",
              "</style>\n",
              "<table border=\"1\" class=\"dataframe\">\n",
              "  <thead>\n",
              "    <tr style=\"text-align: right;\">\n",
              "      <th></th>\n",
              "      <th>Item</th>\n",
              "      <th>Student</th>\n",
              "      <th>Packaging</th>\n",
              "      <th>Price</th>\n",
              "      <th>Expense</th>\n",
              "      <th>Profit per Item</th>\n",
              "      <th>Quantity Sold (Day 1)</th>\n",
              "      <th>Quantity Sold (Day 2)</th>\n",
              "      <th>Quantity Sold (Day 3)</th>\n",
              "      <th>Quantity Sold (Day 4)</th>\n",
              "    </tr>\n",
              "  </thead>\n",
              "  <tbody>\n",
              "    <tr>\n",
              "      <th>2</th>\n",
              "      <td>cake</td>\n",
              "      <td>Martina</td>\n",
              "      <td>Boxed (Clear Plastic)</td>\n",
              "      <td>9.5</td>\n",
              "      <td>5.0</td>\n",
              "      <td>4.5</td>\n",
              "      <td>1</td>\n",
              "      <td>2</td>\n",
              "      <td>0</td>\n",
              "      <td>0</td>\n",
              "    </tr>\n",
              "  </tbody>\n",
              "</table>\n",
              "</div>"
            ],
            "text/plain": [
              "   Item  Student              Packaging  Price  Expense  Profit per Item  \\\n",
              "2  cake  Martina  Boxed (Clear Plastic)    9.5      5.0              4.5   \n",
              "\n",
              "   Quantity Sold (Day 1)  Quantity Sold (Day 2)  Quantity Sold (Day 3)  \\\n",
              "2                      1                      2                      0   \n",
              "\n",
              "   Quantity Sold (Day 4)  \n",
              "2                      0  "
            ]
          },
          "execution_count": 142,
          "metadata": {},
          "output_type": "execute_result"
        }
      ],
      "source": [
        "# Use double square brackets to ouput a dataframe\n",
        "df_url.loc[[2]]"
      ]
    },
    {
      "cell_type": "markdown",
      "metadata": {
        "id": "Mfm1RN3SCshX"
      },
      "source": [
        "But what if we had 100 baked goods? This is when you may want to consider using a unique identifier, such as the Item, as the index."
      ]
    },
    {
      "cell_type": "code",
      "execution_count": 143,
      "metadata": {
        "colab": {
          "base_uri": "https://localhost:8080/",
          "height": 448
        },
        "id": "ph-ZWem3CwWU",
        "outputId": "3bdf777c-84f3-4875-899f-985edf1a0290"
      },
      "outputs": [
        {
          "data": {
            "text/html": [
              "<div>\n",
              "<style scoped>\n",
              "    .dataframe tbody tr th:only-of-type {\n",
              "        vertical-align: middle;\n",
              "    }\n",
              "\n",
              "    .dataframe tbody tr th {\n",
              "        vertical-align: top;\n",
              "    }\n",
              "\n",
              "    .dataframe thead th {\n",
              "        text-align: right;\n",
              "    }\n",
              "</style>\n",
              "<table border=\"1\" class=\"dataframe\">\n",
              "  <thead>\n",
              "    <tr style=\"text-align: right;\">\n",
              "      <th></th>\n",
              "      <th>Student</th>\n",
              "      <th>Packaging</th>\n",
              "      <th>Price</th>\n",
              "      <th>Expense</th>\n",
              "      <th>Profit per Item</th>\n",
              "      <th>Quantity Sold (Day 1)</th>\n",
              "      <th>Quantity Sold (Day 2)</th>\n",
              "      <th>Quantity Sold (Day 3)</th>\n",
              "      <th>Quantity Sold (Day 4)</th>\n",
              "    </tr>\n",
              "    <tr>\n",
              "      <th>Item</th>\n",
              "      <th></th>\n",
              "      <th></th>\n",
              "      <th></th>\n",
              "      <th></th>\n",
              "      <th></th>\n",
              "      <th></th>\n",
              "      <th></th>\n",
              "      <th></th>\n",
              "      <th></th>\n",
              "    </tr>\n",
              "  </thead>\n",
              "  <tbody>\n",
              "    <tr>\n",
              "      <th>brownie</th>\n",
              "      <td>Hugo</td>\n",
              "      <td>Individually Wrapped  (Plastic)</td>\n",
              "      <td>2.25</td>\n",
              "      <td>0.25</td>\n",
              "      <td>2.00</td>\n",
              "      <td>17</td>\n",
              "      <td>19</td>\n",
              "      <td>25</td>\n",
              "      <td>25</td>\n",
              "    </tr>\n",
              "    <tr>\n",
              "      <th>cookie</th>\n",
              "      <td>Sally</td>\n",
              "      <td>Individually Wrapped  (Plastic)</td>\n",
              "      <td>1.25</td>\n",
              "      <td>0.50</td>\n",
              "      <td>0.75</td>\n",
              "      <td>40</td>\n",
              "      <td>32</td>\n",
              "      <td>38</td>\n",
              "      <td>38</td>\n",
              "    </tr>\n",
              "    <tr>\n",
              "      <th>cake</th>\n",
              "      <td>Martina</td>\n",
              "      <td>Boxed (Clear Plastic)</td>\n",
              "      <td>9.50</td>\n",
              "      <td>5.00</td>\n",
              "      <td>4.50</td>\n",
              "      <td>1</td>\n",
              "      <td>2</td>\n",
              "      <td>0</td>\n",
              "      <td>0</td>\n",
              "    </tr>\n",
              "    <tr>\n",
              "      <th>cupcake</th>\n",
              "      <td>Joe</td>\n",
              "      <td>Boxed (Cardboard)</td>\n",
              "      <td>3.50</td>\n",
              "      <td>0.75</td>\n",
              "      <td>2.75</td>\n",
              "      <td>10</td>\n",
              "      <td>14</td>\n",
              "      <td>12</td>\n",
              "      <td>12</td>\n",
              "    </tr>\n",
              "    <tr>\n",
              "      <th>fudge</th>\n",
              "      <td>Hugo</td>\n",
              "      <td>Individually Wrapped (Foil)</td>\n",
              "      <td>3.00</td>\n",
              "      <td>1.00</td>\n",
              "      <td>2.00</td>\n",
              "      <td>0</td>\n",
              "      <td>20</td>\n",
              "      <td>22</td>\n",
              "      <td>22</td>\n",
              "    </tr>\n",
              "  </tbody>\n",
              "</table>\n",
              "</div>"
            ],
            "text/plain": [
              "         Student                        Packaging  Price  Expense  \\\n",
              "Item                                                                \n",
              "brownie     Hugo  Individually Wrapped  (Plastic)   2.25     0.25   \n",
              "cookie     Sally  Individually Wrapped  (Plastic)   1.25     0.50   \n",
              "cake     Martina            Boxed (Clear Plastic)   9.50     5.00   \n",
              "cupcake      Joe                Boxed (Cardboard)   3.50     0.75   \n",
              "fudge       Hugo      Individually Wrapped (Foil)   3.00     1.00   \n",
              "\n",
              "         Profit per Item  Quantity Sold (Day 1)  Quantity Sold (Day 2)  \\\n",
              "Item                                                                     \n",
              "brownie             2.00                     17                     19   \n",
              "cookie              0.75                     40                     32   \n",
              "cake                4.50                      1                      2   \n",
              "cupcake             2.75                     10                     14   \n",
              "fudge               2.00                      0                     20   \n",
              "\n",
              "         Quantity Sold (Day 3)  Quantity Sold (Day 4)  \n",
              "Item                                                   \n",
              "brownie                     25                     25  \n",
              "cookie                      38                     38  \n",
              "cake                         0                      0  \n",
              "cupcake                     12                     12  \n",
              "fudge                       22                     22  "
            ]
          },
          "execution_count": 143,
          "metadata": {},
          "output_type": "execute_result"
        }
      ],
      "source": [
        "# Set the index\n",
        "df = df_url.set_index(\"Item\")\n",
        "df.head()"
      ]
    },
    {
      "cell_type": "markdown",
      "metadata": {
        "id": "pHNxwB0WC1ji"
      },
      "source": [
        "Now that Item is our index, we can use the name of the baked good to slice out the corresponding row."
      ]
    },
    {
      "cell_type": "code",
      "execution_count": 144,
      "metadata": {
        "colab": {
          "base_uri": "https://localhost:8080/",
          "height": 181
        },
        "id": "i0bzPElHCxdP",
        "outputId": "9e55d688-1c3e-4e5e-a10b-441916116d27"
      },
      "outputs": [
        {
          "data": {
            "text/html": [
              "<div>\n",
              "<style scoped>\n",
              "    .dataframe tbody tr th:only-of-type {\n",
              "        vertical-align: middle;\n",
              "    }\n",
              "\n",
              "    .dataframe tbody tr th {\n",
              "        vertical-align: top;\n",
              "    }\n",
              "\n",
              "    .dataframe thead th {\n",
              "        text-align: right;\n",
              "    }\n",
              "</style>\n",
              "<table border=\"1\" class=\"dataframe\">\n",
              "  <thead>\n",
              "    <tr style=\"text-align: right;\">\n",
              "      <th></th>\n",
              "      <th>Student</th>\n",
              "      <th>Packaging</th>\n",
              "      <th>Price</th>\n",
              "      <th>Expense</th>\n",
              "      <th>Profit per Item</th>\n",
              "      <th>Quantity Sold (Day 1)</th>\n",
              "      <th>Quantity Sold (Day 2)</th>\n",
              "      <th>Quantity Sold (Day 3)</th>\n",
              "      <th>Quantity Sold (Day 4)</th>\n",
              "    </tr>\n",
              "    <tr>\n",
              "      <th>Item</th>\n",
              "      <th></th>\n",
              "      <th></th>\n",
              "      <th></th>\n",
              "      <th></th>\n",
              "      <th></th>\n",
              "      <th></th>\n",
              "      <th></th>\n",
              "      <th></th>\n",
              "      <th></th>\n",
              "    </tr>\n",
              "  </thead>\n",
              "  <tbody>\n",
              "    <tr>\n",
              "      <th>cake</th>\n",
              "      <td>Martina</td>\n",
              "      <td>Boxed (Clear Plastic)</td>\n",
              "      <td>9.5</td>\n",
              "      <td>5.0</td>\n",
              "      <td>4.5</td>\n",
              "      <td>1</td>\n",
              "      <td>2</td>\n",
              "      <td>0</td>\n",
              "      <td>0</td>\n",
              "    </tr>\n",
              "  </tbody>\n",
              "</table>\n",
              "</div>"
            ],
            "text/plain": [
              "      Student              Packaging  Price  Expense  Profit per Item  \\\n",
              "Item                                                                    \n",
              "cake  Martina  Boxed (Clear Plastic)    9.5      5.0              4.5   \n",
              "\n",
              "      Quantity Sold (Day 1)  Quantity Sold (Day 2)  Quantity Sold (Day 3)  \\\n",
              "Item                                                                        \n",
              "cake                      1                      2                      0   \n",
              "\n",
              "      Quantity Sold (Day 4)  \n",
              "Item                         \n",
              "cake                      0  "
            ]
          },
          "execution_count": 144,
          "metadata": {},
          "output_type": "execute_result"
        }
      ],
      "source": [
        "# Slice out the row with cake as the index\n",
        "df.loc[['cake']]"
      ]
    },
    {
      "cell_type": "markdown",
      "metadata": {
        "id": "-bD8VdesC9up"
      },
      "source": [
        "We can also slice multiple rows at a time using a list of row indices."
      ]
    },
    {
      "cell_type": "code",
      "execution_count": 145,
      "metadata": {
        "colab": {
          "base_uri": "https://localhost:8080/",
          "height": 267
        },
        "id": "7s81N14RC63J",
        "outputId": "472adc9b-ba36-477f-b0d0-c9b1f24409f1"
      },
      "outputs": [
        {
          "data": {
            "text/html": [
              "<div>\n",
              "<style scoped>\n",
              "    .dataframe tbody tr th:only-of-type {\n",
              "        vertical-align: middle;\n",
              "    }\n",
              "\n",
              "    .dataframe tbody tr th {\n",
              "        vertical-align: top;\n",
              "    }\n",
              "\n",
              "    .dataframe thead th {\n",
              "        text-align: right;\n",
              "    }\n",
              "</style>\n",
              "<table border=\"1\" class=\"dataframe\">\n",
              "  <thead>\n",
              "    <tr style=\"text-align: right;\">\n",
              "      <th></th>\n",
              "      <th>Student</th>\n",
              "      <th>Packaging</th>\n",
              "      <th>Price</th>\n",
              "      <th>Expense</th>\n",
              "      <th>Profit per Item</th>\n",
              "      <th>Quantity Sold (Day 1)</th>\n",
              "      <th>Quantity Sold (Day 2)</th>\n",
              "      <th>Quantity Sold (Day 3)</th>\n",
              "      <th>Quantity Sold (Day 4)</th>\n",
              "    </tr>\n",
              "    <tr>\n",
              "      <th>Item</th>\n",
              "      <th></th>\n",
              "      <th></th>\n",
              "      <th></th>\n",
              "      <th></th>\n",
              "      <th></th>\n",
              "      <th></th>\n",
              "      <th></th>\n",
              "      <th></th>\n",
              "      <th></th>\n",
              "    </tr>\n",
              "  </thead>\n",
              "  <tbody>\n",
              "    <tr>\n",
              "      <th>cake</th>\n",
              "      <td>Martina</td>\n",
              "      <td>Boxed (Clear Plastic)</td>\n",
              "      <td>9.50</td>\n",
              "      <td>5.00</td>\n",
              "      <td>4.5</td>\n",
              "      <td>1</td>\n",
              "      <td>2</td>\n",
              "      <td>0</td>\n",
              "      <td>0</td>\n",
              "    </tr>\n",
              "    <tr>\n",
              "      <th>brownie</th>\n",
              "      <td>Hugo</td>\n",
              "      <td>Individually Wrapped  (Plastic)</td>\n",
              "      <td>2.25</td>\n",
              "      <td>0.25</td>\n",
              "      <td>2.0</td>\n",
              "      <td>17</td>\n",
              "      <td>19</td>\n",
              "      <td>25</td>\n",
              "      <td>25</td>\n",
              "    </tr>\n",
              "  </tbody>\n",
              "</table>\n",
              "</div>"
            ],
            "text/plain": [
              "         Student                        Packaging  Price  Expense  \\\n",
              "Item                                                                \n",
              "cake     Martina            Boxed (Clear Plastic)   9.50     5.00   \n",
              "brownie     Hugo  Individually Wrapped  (Plastic)   2.25     0.25   \n",
              "\n",
              "         Profit per Item  Quantity Sold (Day 1)  Quantity Sold (Day 2)  \\\n",
              "Item                                                                     \n",
              "cake                 4.5                      1                      2   \n",
              "brownie              2.0                     17                     19   \n",
              "\n",
              "         Quantity Sold (Day 3)  Quantity Sold (Day 4)  \n",
              "Item                                                   \n",
              "cake                         0                      0  \n",
              "brownie                     25                     25  "
            ]
          },
          "execution_count": 145,
          "metadata": {},
          "output_type": "execute_result"
        }
      ],
      "source": [
        "# Slice multiple rows using a list\n",
        "df.loc[['cake','brownie']]"
      ]
    },
    {
      "cell_type": "markdown",
      "metadata": {
        "id": "wwcIvTpiDHqK"
      },
      "source": [
        "**Slicing Rows & Columns with .loc**\n",
        "\n",
        "What makes .loc powerful is that we can slice rows and columns at the same time. .loc expects the first value it receives to be the index for the rows and the second value to be the name of the column(s).\n",
        "\n",
        "df.loc[rows,columns]\n",
        "\n",
        "What if we wanted to select the Price for a muffin? Notice that if we select a single cell (row & column), .loc will return the value stored in that cell instead of a Series."
      ]
    },
    {
      "cell_type": "code",
      "execution_count": 146,
      "metadata": {
        "id": "HF9PF4sEnt7E"
      },
      "outputs": [],
      "source": [
        "#df['item'].unique()"
      ]
    },
    {
      "cell_type": "code",
      "execution_count": 147,
      "metadata": {
        "colab": {
          "base_uri": "https://localhost:8080/"
        },
        "id": "qil5XGPGDOvF",
        "outputId": "e90cac1c-8c06-4aa8-a48c-a338e8b3213b"
      },
      "outputs": [
        {
          "data": {
            "text/plain": [
              "np.float64(1.5)"
            ]
          },
          "execution_count": 147,
          "metadata": {},
          "output_type": "execute_result"
        }
      ],
      "source": [
        "# Slice the muffin row and Price column\n",
        "df.loc[\"muffin\",'Price']"
      ]
    },
    {
      "cell_type": "markdown",
      "metadata": {
        "id": "G3gk4konDZl-"
      },
      "source": [
        "If we wanted to select the \"Price\" and \"Student\" columns for a muffin, we put the two column names in a list:"
      ]
    },
    {
      "cell_type": "code",
      "execution_count": 148,
      "metadata": {
        "colab": {
          "base_uri": "https://localhost:8080/"
        },
        "id": "tXMrHI7VDFW0",
        "outputId": "31f5d234-43e5-4396-8275-679e7d2b0eeb"
      },
      "outputs": [
        {
          "data": {
            "text/plain": [
              "Price       1.5\n",
              "Student    Anne\n",
              "Name: muffin, dtype: object"
            ]
          },
          "execution_count": 148,
          "metadata": {},
          "output_type": "execute_result"
        }
      ],
      "source": [
        "# Slice Price and Student for muffin\n",
        "df.loc[\"muffin\", [\"Price\",\"Student\"]]"
      ]
    },
    {
      "cell_type": "markdown",
      "metadata": {
        "id": "AFICtZIKDycj"
      },
      "source": [
        "Make sure to pay attention to your square brackets. You will always need a set of square brackets wrapped around whatever lists you are using as your row and column indexers.\n",
        "\n",
        "What if we wanted the Price, Expense, and Baked By columns for muffins, scones, and banana bread?"
      ]
    },
    {
      "cell_type": "markdown",
      "metadata": {
        "id": "rEr9QrZ5EmBF"
      },
      "source": [
        "**Slicing Columns (Only) with .loc**\n",
        "\n",
        "If we wanted to slice all rows for a column, we would use a colon as the row index. The colon can be interpreted as \"all.\""
      ]
    },
    {
      "cell_type": "code",
      "execution_count": 149,
      "metadata": {
        "colab": {
          "base_uri": "https://localhost:8080/"
        },
        "id": "77gxm0ObErh4",
        "outputId": "74dc31dc-b24f-4b89-873e-d490239c2389"
      },
      "outputs": [
        {
          "data": {
            "text/plain": [
              "Item\n",
              "brownie                  2.25\n",
              "cookie                   1.25\n",
              "cake                     9.50\n",
              "cupcake                  3.50\n",
              "fudge                    3.00\n",
              "banana bread             2.75\n",
              "torte                   10.50\n",
              "scone                    2.00\n",
              "muffin                   1.50\n",
              "rice krispies treats     1.25\n",
              "apple pie               10.00\n",
              "key lime pie             9.50\n",
              "Name: Price, dtype: float64"
            ]
          },
          "execution_count": 149,
          "metadata": {},
          "output_type": "execute_result"
        }
      ],
      "source": [
        "# Selet all rows for the Price Column\n",
        "df.loc[:, 'Price']"
      ]
    },
    {
      "cell_type": "markdown",
      "metadata": {
        "id": "tygighQ8ExPn"
      },
      "source": [
        "We could select all rows for multiple columns. Use \":\" for the rows, followed by a list of the columns you wish to include:"
      ]
    },
    {
      "cell_type": "code",
      "execution_count": 150,
      "metadata": {
        "colab": {
          "base_uri": "https://localhost:8080/",
          "height": 457
        },
        "id": "wsfSAMNjDxvi",
        "outputId": "28c9bfde-5d6e-4094-b221-4f5ef5a10530"
      },
      "outputs": [
        {
          "data": {
            "text/html": [
              "<div>\n",
              "<style scoped>\n",
              "    .dataframe tbody tr th:only-of-type {\n",
              "        vertical-align: middle;\n",
              "    }\n",
              "\n",
              "    .dataframe tbody tr th {\n",
              "        vertical-align: top;\n",
              "    }\n",
              "\n",
              "    .dataframe thead th {\n",
              "        text-align: right;\n",
              "    }\n",
              "</style>\n",
              "<table border=\"1\" class=\"dataframe\">\n",
              "  <thead>\n",
              "    <tr style=\"text-align: right;\">\n",
              "      <th></th>\n",
              "      <th>Price</th>\n",
              "      <th>Expense</th>\n",
              "    </tr>\n",
              "    <tr>\n",
              "      <th>Item</th>\n",
              "      <th></th>\n",
              "      <th></th>\n",
              "    </tr>\n",
              "  </thead>\n",
              "  <tbody>\n",
              "    <tr>\n",
              "      <th>brownie</th>\n",
              "      <td>2.25</td>\n",
              "      <td>0.25</td>\n",
              "    </tr>\n",
              "    <tr>\n",
              "      <th>cookie</th>\n",
              "      <td>1.25</td>\n",
              "      <td>0.50</td>\n",
              "    </tr>\n",
              "    <tr>\n",
              "      <th>cake</th>\n",
              "      <td>9.50</td>\n",
              "      <td>5.00</td>\n",
              "    </tr>\n",
              "    <tr>\n",
              "      <th>cupcake</th>\n",
              "      <td>3.50</td>\n",
              "      <td>0.75</td>\n",
              "    </tr>\n",
              "    <tr>\n",
              "      <th>fudge</th>\n",
              "      <td>3.00</td>\n",
              "      <td>1.00</td>\n",
              "    </tr>\n",
              "    <tr>\n",
              "      <th>banana bread</th>\n",
              "      <td>2.75</td>\n",
              "      <td>0.50</td>\n",
              "    </tr>\n",
              "    <tr>\n",
              "      <th>torte</th>\n",
              "      <td>10.50</td>\n",
              "      <td>5.50</td>\n",
              "    </tr>\n",
              "    <tr>\n",
              "      <th>scone</th>\n",
              "      <td>2.00</td>\n",
              "      <td>1.25</td>\n",
              "    </tr>\n",
              "    <tr>\n",
              "      <th>muffin</th>\n",
              "      <td>1.50</td>\n",
              "      <td>0.75</td>\n",
              "    </tr>\n",
              "    <tr>\n",
              "      <th>rice krispies treats</th>\n",
              "      <td>1.25</td>\n",
              "      <td>0.25</td>\n",
              "    </tr>\n",
              "    <tr>\n",
              "      <th>apple pie</th>\n",
              "      <td>10.00</td>\n",
              "      <td>4.00</td>\n",
              "    </tr>\n",
              "    <tr>\n",
              "      <th>key lime pie</th>\n",
              "      <td>9.50</td>\n",
              "      <td>4.50</td>\n",
              "    </tr>\n",
              "  </tbody>\n",
              "</table>\n",
              "</div>"
            ],
            "text/plain": [
              "                      Price  Expense\n",
              "Item                                \n",
              "brownie                2.25     0.25\n",
              "cookie                 1.25     0.50\n",
              "cake                   9.50     5.00\n",
              "cupcake                3.50     0.75\n",
              "fudge                  3.00     1.00\n",
              "banana bread           2.75     0.50\n",
              "torte                 10.50     5.50\n",
              "scone                  2.00     1.25\n",
              "muffin                 1.50     0.75\n",
              "rice krispies treats   1.25     0.25\n",
              "apple pie             10.00     4.00\n",
              "key lime pie           9.50     4.50"
            ]
          },
          "execution_count": 150,
          "metadata": {},
          "output_type": "execute_result"
        }
      ],
      "source": [
        "# Slice all rows for mulitple columns\n",
        "df.loc[:, [\"Price\",\"Expense\"]]"
      ]
    },
    {
      "cell_type": "markdown",
      "metadata": {
        "id": "7smmaLUIE-wh"
      },
      "source": [
        "**Slicing columns with .loc or just square brackets?**\n",
        "\n",
        "You may be wondering which you should use. The short answer is that the safest one to use is to use .loc.\n",
        "\n",
        "The more complex answer is that it depends on what we want to do with the data. If we want to check the values in the column without changing them, we can use square brackets alone.\n",
        "\n",
        "If we want to manipulate the data, we should use .loc."
      ]
    },
    {
      "cell_type": "markdown",
      "metadata": {
        "id": "1VyFmmRdFFYg"
      },
      "source": [
        "**Changing Values with .loc**\n",
        "\n",
        ".loc also lets us modify the data we have sliced.\n",
        "\n",
        "For example, if we realized we had a typo in our spreadsheet, such as the price of a torte was 11.50, not 10.50, we can use .loc to slice the Price for the torte and then assign it the new value."
      ]
    },
    {
      "cell_type": "code",
      "execution_count": 151,
      "metadata": {
        "colab": {
          "base_uri": "https://localhost:8080/"
        },
        "id": "kCN1gbzlpF1E",
        "outputId": "dc22007a-9167-4b4d-e939-7a1f8c62133a"
      },
      "outputs": [
        {
          "data": {
            "text/plain": [
              "np.float64(10.5)"
            ]
          },
          "execution_count": 151,
          "metadata": {},
          "output_type": "execute_result"
        }
      ],
      "source": [
        "df.loc['torte', 'Price']"
      ]
    },
    {
      "cell_type": "code",
      "execution_count": 152,
      "metadata": {
        "id": "hO6lRWqMDmXf"
      },
      "outputs": [],
      "source": [
        "# Locate the Price of a torte and change the value\n",
        "df.loc['torte',\"Price\"] = 11.5"
      ]
    },
    {
      "cell_type": "markdown",
      "metadata": {
        "id": "hivlyTVHFPLt"
      },
      "source": [
        "Now we can confirm the change by inspecting the row with the torte."
      ]
    },
    {
      "cell_type": "code",
      "execution_count": 153,
      "metadata": {
        "colab": {
          "base_uri": "https://localhost:8080/"
        },
        "id": "uim0XFLAFMBK",
        "outputId": "ae75a9eb-8f72-4431-f951-0d324464630c"
      },
      "outputs": [
        {
          "data": {
            "text/plain": [
              "Student                                   Jade\n",
              "Packaging                Boxed (Clear Plastic)\n",
              "Price                                     11.5\n",
              "Expense                                    5.5\n",
              "Profit per Item                            5.0\n",
              "Quantity Sold (Day 1)                        0\n",
              "Quantity Sold (Day 2)                        5\n",
              "Quantity Sold (Day 3)                        7\n",
              "Quantity Sold (Day 4)                        7\n",
              "Name: torte, dtype: object"
            ]
          },
          "execution_count": 153,
          "metadata": {},
          "output_type": "execute_result"
        }
      ],
      "source": [
        "# Inspect torte\n",
        "df.loc['torte']"
      ]
    },
    {
      "cell_type": "markdown",
      "metadata": {
        "id": "nR5dneXqFn61"
      },
      "source": [
        "**Next Lesson**\n",
        "\n",
        "\n",
        "*   Filtering\n",
        "*   Groupby\n",
        "*   Duplicates\n",
        "*   Missing Values\n",
        "*   Handling null values\n",
        "\n"
      ]
    },
    {
      "cell_type": "markdown",
      "metadata": {},
      "source": []
    },
    {
      "cell_type": "markdown",
      "metadata": {},
      "source": []
    }
  ],
  "metadata": {
    "colab": {
      "provenance": []
    },
    "kernelspec": {
      "display_name": "RDSB-5U8ITK5B",
      "language": "python",
      "name": "python3"
    },
    "language_info": {
      "codemirror_mode": {
        "name": "ipython",
        "version": 3
      },
      "file_extension": ".py",
      "mimetype": "text/x-python",
      "name": "python",
      "nbconvert_exporter": "python",
      "pygments_lexer": "ipython3",
      "version": "3.11.5"
    }
  },
  "nbformat": 4,
  "nbformat_minor": 0
}
