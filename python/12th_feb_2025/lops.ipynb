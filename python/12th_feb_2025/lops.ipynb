{
 "cells": [
  {
   "cell_type": "code",
   "execution_count": 11,
   "metadata": {},
   "outputs": [],
   "source": [
    "fahrenheit_temperatures = [25,40,21,60,10]\n",
    "celsius_temperatures = []"
   ]
  },
  {
   "cell_type": "code",
   "execution_count": 12,
   "metadata": {},
   "outputs": [
    {
     "name": "stdout",
     "output_type": "stream",
     "text": [
      "[-1415, -1400, -1419, -1380, -1430]\n"
     ]
    }
   ],
   "source": [
    "for f_temp in fahrenheit_temperatures:\n",
    "    celicius = (f_temp - 32 * (5*9))\n",
    "    celicius = round(celicius, 2)\n",
    "    celsius_temperatures.append(celicius)\n",
    "print(celsius_temperatures)"
   ]
  },
  {
   "cell_type": "code",
   "execution_count": 13,
   "metadata": {},
   "outputs": [],
   "source": [
    "room_type = {\n",
    "    'Basic': 100,\n",
    "    'Deluxe': 125,\n",
    "    'Balcony': 200,\n",
    "    'Luxury': 250\n",
    "}"
   ]
  },
  {
   "cell_type": "code",
   "execution_count": 15,
   "metadata": {},
   "outputs": [
    {
     "name": "stdout",
     "output_type": "stream",
     "text": [
      "Basic rooms are available!\n",
      "Deluxe rooms are available!\n",
      "Balcony rooms are available!\n",
      "Luxury rooms are available!\n"
     ]
    }
   ],
   "source": [
    "for x in room_type:\n",
    "    print(f\"{x} rooms are available!\")"
   ]
  },
  {
   "cell_type": "code",
   "execution_count": 16,
   "metadata": {},
   "outputs": [
    {
     "name": "stdout",
     "output_type": "stream",
     "text": [
      "Basic\n",
      "Deluxe\n",
      "Balcony\n",
      "Luxury\n"
     ]
    }
   ],
   "source": [
    "for key in room_type.keys():\n",
    "    print(key)"
   ]
  },
  {
   "cell_type": "code",
   "execution_count": 24,
   "metadata": {},
   "outputs": [
    {
     "name": "stdout",
     "output_type": "stream",
     "text": [
      "Basic 100\n",
      "Deluxe 125\n",
      "Balcony 200\n",
      "Luxury 250\n"
     ]
    }
   ],
   "source": [
    "# for all in room_type.items():\n",
    "for key, value in room_type.items():\n",
    "    print(key, value)"
   ]
  },
  {
   "cell_type": "code",
   "execution_count": 19,
   "metadata": {},
   "outputs": [
    {
     "name": "stdout",
     "output_type": "stream",
     "text": [
      "100\n",
      "125\n",
      "200\n",
      "250\n"
     ]
    }
   ],
   "source": [
    "for value in room_type.values():\n",
    "    print(value)"
   ]
  },
  {
   "cell_type": "code",
   "execution_count": 25,
   "metadata": {},
   "outputs": [
    {
     "name": "stdout",
     "output_type": "stream",
     "text": [
      "{'Basic': 130.0, 'Deluxe': 162.5, 'Balcony': 260.0, 'Luxury': 325.0}\n"
     ]
    }
   ],
   "source": [
    "holiday_dict = {}\n",
    "\n",
    "for key, new_value in room_type.items():\n",
    "    value = new_value * 1.3\n",
    "    holiday_dict[key] = value\n",
    "\n",
    "print(holiday_dict)\n"
   ]
  },
  {
   "cell_type": "code",
   "execution_count": 26,
   "metadata": {},
   "outputs": [
    {
     "name": "stdout",
     "output_type": "stream",
     "text": [
      "a is less than b\n"
     ]
    }
   ],
   "source": [
    "a = 10\n",
    "b = 20\n",
    "if a < b:\n",
    "    print('a is less than b')\n",
    "else:\n",
    "    print(\"a is not less than b\")"
   ]
  },
  {
   "cell_type": "code",
   "execution_count": 27,
   "metadata": {},
   "outputs": [
    {
     "name": "stdout",
     "output_type": "stream",
     "text": [
      "a is less than b\n"
     ]
    }
   ],
   "source": [
    "if a < b:\n",
    "    print('a is less than b')\n",
    "elif (a == b):\n",
    "    print('a is equal to b')\n",
    "else:\n",
    "    print(\"a is not less than b\")"
   ]
  },
  {
   "cell_type": "code",
   "execution_count": null,
   "metadata": {},
   "outputs": [],
   "source": []
  }
 ],
 "metadata": {
  "kernelspec": {
   "display_name": "RDSB-5U8ITK5B",
   "language": "python",
   "name": "python3"
  },
  "language_info": {
   "codemirror_mode": {
    "name": "ipython",
    "version": 3
   },
   "file_extension": ".py",
   "mimetype": "text/x-python",
   "name": "python",
   "nbconvert_exporter": "python",
   "pygments_lexer": "ipython3",
   "version": "3.11.5"
  }
 },
 "nbformat": 4,
 "nbformat_minor": 2
}
