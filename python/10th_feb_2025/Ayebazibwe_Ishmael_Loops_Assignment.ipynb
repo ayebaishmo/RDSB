{
  "cells": [
    {
      "cell_type": "markdown",
      "metadata": {
        "id": "GoCvWTFUOpms"
      },
      "source": [
        "# Loops Exercise -  Core\n"
      ]
    },
    {
      "cell_type": "markdown",
      "metadata": {
        "id": "rF_SiCDOQlU1"
      },
      "source": [
        "# Task 1: Loop through a list\n",
        "\n",
        "A company sells the following items at the given prices:\n",
        "\n",
        "Shirts 10.00\n",
        "\n",
        "Hats 15.00\n",
        "\n",
        "Buttons 4.00\n",
        "\n",
        "Stickers 1.00\n",
        "\n",
        "TO DO:\n",
        "\n",
        "A: Run the pre-coded cell to create a list of the products.\n",
        "\n",
        "B: Write a for-loop and use an f-string to print \"We sell PRODUCT here!\" for each product in the list.\n",
        "\n",
        "\n"
      ]
    },
    {
      "cell_type": "code",
      "execution_count": 5,
      "metadata": {
        "id": "rvrFnQFoRWJC"
      },
      "outputs": [],
      "source": [
        "# Create a list of products\n",
        "products = ['Shirts', 'Hats', 'Buttons', 'Stickers']"
      ]
    },
    {
      "cell_type": "code",
      "execution_count": 6,
      "metadata": {
        "id": "mGaE09aHR4lc"
      },
      "outputs": [
        {
          "name": "stdout",
          "output_type": "stream",
          "text": [
            "We sell Shirts here!\n",
            "We sell Hats here!\n",
            "We sell Buttons here!\n",
            "We sell Stickers here!\n"
          ]
        }
      ],
      "source": [
        "# Write a for-loop to repeat the print statement for each product in the list.\n",
        "for product in products:\n",
        "    print(f\"We sell {product} here!\")\n"
      ]
    },
    {
      "cell_type": "markdown",
      "metadata": {
        "id": "cXRXz0_eJeFF"
      },
      "source": [
        "#Task 2: Use a loop to append values to a new list\n",
        "\n",
        "The products are going on a 20% off sale!  \n",
        "\n",
        "\n",
        "TO DO:\n",
        "\n",
        "A: Run the precoded cell to create the list of original\n",
        "B: Define an empty list called sale_prices\n",
        "\n",
        "C: Write a for-loop to append values to the sales_prices list that reflect the sale price (original price * 0.8)\n",
        "\n",
        "D: Print the new list of sales_prices"
      ]
    },
    {
      "cell_type": "code",
      "execution_count": 7,
      "metadata": {
        "id": "1w5ccy0JSbmf"
      },
      "outputs": [],
      "source": [
        "# Create a list of the prices.\n",
        "original_prices = [10, 15, 4, 1]"
      ]
    },
    {
      "cell_type": "code",
      "execution_count": 8,
      "metadata": {
        "id": "O3TcQOEiSk9S"
      },
      "outputs": [],
      "source": [
        "# Create an empty list called sale_prices\n",
        "sale_prices = []"
      ]
    },
    {
      "cell_type": "code",
      "execution_count": 9,
      "metadata": {
        "id": "VC4CMqr_S9Yw"
      },
      "outputs": [],
      "source": [
        "# Use a loop to append the sale_prices list with the sale price (a 20% discount means the original price is multiplied by .8)\n",
        "for price in original_prices:\n",
        "    sale_prices.append(price * 0.8)"
      ]
    },
    {
      "cell_type": "code",
      "execution_count": 10,
      "metadata": {
        "id": "dGWiS6OBQZoB"
      },
      "outputs": [
        {
          "name": "stdout",
          "output_type": "stream",
          "text": [
            "[8.0, 12.0, 3.2, 0.8]\n"
          ]
        }
      ],
      "source": [
        "# Print the list of sale_prices\n",
        "print(sale_prices)"
      ]
    },
    {
      "cell_type": "markdown",
      "metadata": {
        "id": "5RhQT86XT9-v"
      },
      "source": [
        "#Task 3: Loop through a dictionary\n",
        "\n",
        "TO DO:\n",
        "\n",
        "A: Run the pre-coded cell to create the prices_dict.\n",
        "\n",
        "B: Loop through the prices_dict and use an f-sting to print the statement: \"We sell PRODUCT!\"\n",
        "\n",
        "C: Loop through the prices_dict using prices_dict.items() to print the statement \"PRODUCT costs $PRICE each.\" for each product in the dictionary."
      ]
    },
    {
      "cell_type": "code",
      "execution_count": 11,
      "metadata": {
        "id": "HxAD2FQYVjBE"
      },
      "outputs": [
        {
          "name": "stdout",
          "output_type": "stream",
          "text": [
            "{'Shirts': 10, 'Hats': 15, 'Buttons': 4, 'Stickers': 1}\n"
          ]
        }
      ],
      "source": [
        "# Run this cell to create a dictionary with product and price\n",
        "prices_dict = {'Shirts': 10,\n",
        "              'Hats': 15,\n",
        "              'Buttons' : 4,\n",
        "              'Stickers' : 1}\n",
        "\n",
        "print(prices_dict)"
      ]
    },
    {
      "cell_type": "code",
      "execution_count": 12,
      "metadata": {
        "id": "NWLMQwSmWpGE"
      },
      "outputs": [
        {
          "name": "stdout",
          "output_type": "stream",
          "text": [
            "We sell Shirts!\n",
            "We sell Hats!\n",
            "We sell Buttons!\n",
            "We sell Stickers!\n"
          ]
        }
      ],
      "source": [
        "# Loop through the dictionary to print: \"We sell __!\"\n",
        "for key in prices_dict.keys():\n",
        "    print(f\"We sell {key}!\")"
      ]
    },
    {
      "cell_type": "code",
      "execution_count": 13,
      "metadata": {
        "id": "NSZCca2oWvry"
      },
      "outputs": [
        {
          "name": "stdout",
          "output_type": "stream",
          "text": [
            "Shirts cost $10 each\n",
            "Hats cost $15 each\n",
            "Buttons cost $4 each\n",
            "Stickers cost $1 each\n"
          ]
        }
      ],
      "source": [
        "# Loop through the dictionary to print: \"__ cost $__ each\".\n",
        "for key, value in prices_dict.items():\n",
        "    print(f\"{key} cost ${value} each\")\n"
      ]
    },
    {
      "cell_type": "markdown",
      "metadata": {
        "id": "V_WVu-S0IG3w"
      },
      "source": [
        "#Task 4: Create a new dictionary by updating values using a for-loop\n",
        "\n",
        "We want to create a new dictionary that contains the product and the sale price called sale_dict.\n",
        "\n",
        "To create the prices_dict in the above task, we just provided the code cell with the necessary information. Rather than typing all of the info to make the sale dictionary, we will use a for-loop to calculate the sale price based on the original price.\n",
        "\n",
        "TO DO:\n",
        "\n",
        "A: Create an empty dictionary called sales_dict.\n",
        "\n",
        "B: Use a for-loop and prices_dict.items() to fill in the sales_dict.\n",
        "\n",
        "* Calculate the sale price (original price * 0.8).\n",
        "\n",
        "* Save the sale price in the sales_dict using the product name as the key.\n",
        "\n",
        "C: Print the sales_dict\n",
        "\n",
        "D: Loop through the sales_dict.items() to print \"PRODUCT are on sale for only SALE PRICE!'\n",
        "\n",
        "\n"
      ]
    },
    {
      "cell_type": "code",
      "execution_count": 45,
      "metadata": {
        "id": "JvoYAQcySzM8"
      },
      "outputs": [],
      "source": [
        "# Use a loop to create a new dictionary with product and sales prices\n",
        "sales_dict = {}\n",
        "for product, price in prices_dict.items():\n",
        "    sales_price = price * 0.8\n",
        "    sales_dict[product] =  sales_price"
      ]
    },
    {
      "cell_type": "code",
      "execution_count": 46,
      "metadata": {
        "id": "mTRik7dGl52i"
      },
      "outputs": [
        {
          "name": "stdout",
          "output_type": "stream",
          "text": [
            "{'Shirts': 8.0, 'Hats': 12.0, 'Buttons': 3.2, 'Stickers': 0.8}\n"
          ]
        }
      ],
      "source": [
        "# Print the sales_dict\n",
        "print(sales_dict)"
      ]
    },
    {
      "cell_type": "code",
      "execution_count": 47,
      "metadata": {
        "id": "aYRJqGktNO_g"
      },
      "outputs": [
        {
          "name": "stdout",
          "output_type": "stream",
          "text": [
            "Shirts are on sale for only 8.0! for each item\n",
            "Hats are on sale for only 12.0! for each item\n",
            "Buttons are on sale for only 3.2! for each item\n",
            "Stickers are on sale for only 0.8! for each item\n"
          ]
        }
      ],
      "source": [
        "# Loop throuh the sale_dict to print \"PRODUCT are on sale for only SALE PRICE!\" for each item.\n",
        "for key, value in sales_dict.items():\n",
        "    print(f\"{key} are on sale for only {value}! for each item\")\n"
      ]
    },
    {
      "cell_type": "code",
      "execution_count": null,
      "metadata": {},
      "outputs": [],
      "source": []
    }
  ],
  "metadata": {
    "colab": {
      "provenance": []
    },
    "kernelspec": {
      "display_name": "RDSB-5U8ITK5B",
      "language": "python",
      "name": "python3"
    },
    "language_info": {
      "codemirror_mode": {
        "name": "ipython",
        "version": 3
      },
      "file_extension": ".py",
      "mimetype": "text/x-python",
      "name": "python",
      "nbconvert_exporter": "python",
      "pygments_lexer": "ipython3",
      "version": "3.11.5"
    }
  },
  "nbformat": 4,
  "nbformat_minor": 0
}
