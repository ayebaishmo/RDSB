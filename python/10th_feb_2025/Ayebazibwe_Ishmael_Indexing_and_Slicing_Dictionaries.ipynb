{
  "cells": [
    {
      "cell_type": "markdown",
      "metadata": {
        "id": "eyLJH2OFOtxy"
      },
      "source": [
        "# Indexing and Slicing - Dictionaries\n"
      ]
    },
    {
      "cell_type": "markdown",
      "metadata": {
        "id": "zPAul2iiPAEL"
      },
      "source": [
        "In this notebook you will see examples of indexing dictionaries for  retrieving values, updarting values, and creating a new key:value pair.\n",
        "\n",
        "NOTE: Sets are not indexible because they are not ordered.  Instead, they have special methods to add, remove, or check for the presence of objects."
      ]
    },
    {
      "cell_type": "markdown",
      "metadata": {
        "id": "vmBZ_iwwSVk5"
      },
      "source": [
        "# Indexing\n"
      ]
    },
    {
      "cell_type": "markdown",
      "metadata": {
        "id": "d8YR6teXyS58"
      },
      "source": [
        "\n",
        "## Tracking Coworker's Favorite Colors\n"
      ]
    },
    {
      "cell_type": "markdown",
      "metadata": {
        "id": "Tnp7ObvA12kJ"
      },
      "source": [
        "\n",
        "A group of co-workers realized that they don't know each other very well beyond the day to day tasks of their jobs.\n",
        "\n",
        "To help build team comraderie, they decide to share their favorite colors with everyone.\n",
        "\n",
        "Let's make a dictionary of favorite colors, called `fav_colors` to track this information.  \n",
        "\n",
        "Since we want to be able to use look up a person's favorite color, we will use a dictionary with everyone's names as the keys and their favorite colors as the values.\n",
        "\n",
        "\n",
        "Run the cell below to create the dictionary of favorite colors."
      ]
    },
    {
      "cell_type": "code",
      "execution_count": 2,
      "metadata": {
        "colab": {
          "base_uri": "https://localhost:8080/"
        },
        "id": "gNEZel1QO0dB",
        "outputId": "9dfce21e-f9af-4d3c-fa62-88f5435cc6fd"
      },
      "outputs": [
        {
          "data": {
            "text/plain": [
              "{'James': 'Red', 'Purvi': 'Orange', 'Sherlin': 'Purple', 'Josh': 'Indigo'}"
            ]
          },
          "execution_count": 2,
          "metadata": {},
          "output_type": "execute_result"
        }
      ],
      "source": [
        "## Run this cell without making changes.\n",
        "\n",
        "# Create the dictionary\n",
        "fav_colors = {'James':'Red',\n",
        "              'Purvi':\"Orange\",\n",
        "              \"Sherlin\":'Purple',\n",
        "              'Josh':'Indigo'}\n",
        "fav_colors"
      ]
    },
    {
      "cell_type": "markdown",
      "metadata": {
        "id": "cXTnJA0s1XWC"
      },
      "source": [
        "## Adding to Our Dictionary"
      ]
    },
    {
      "cell_type": "markdown",
      "metadata": {
        "id": "a5SZb_at0Mci"
      },
      "source": [
        "- A new person just the joined the team and needs to be added to our dictionary. We need to add Neerja to our dictionary and her favorite color is Green.\n"
      ]
    },
    {
      "cell_type": "code",
      "execution_count": 3,
      "metadata": {
        "colab": {
          "base_uri": "https://localhost:8080/"
        },
        "id": "A-kV2zq-0MHN",
        "outputId": "79f35ed3-3505-41b5-de82-de15430dee83"
      },
      "outputs": [
        {
          "data": {
            "text/plain": [
              "{'James': 'Red',\n",
              " 'Purvi': 'Orange',\n",
              " 'Sherlin': 'Purple',\n",
              " 'Josh': 'Indigo',\n",
              " 'Neerja': 'Green'}"
            ]
          },
          "execution_count": 3,
          "metadata": {},
          "output_type": "execute_result"
        }
      ],
      "source": [
        "# Run this cell without making changes\n",
        "\n",
        "# add a new key for \"Neerja\" with the value set to Aqua\n",
        "fav_colors['Neerja'] = 'Green'\n",
        "\n",
        "# display the full dictionary\n",
        "fav_colors"
      ]
    },
    {
      "cell_type": "markdown",
      "metadata": {
        "id": "NdndpZEJ1bBc"
      },
      "source": [
        "### 💪 Your Turn"
      ]
    },
    {
      "cell_type": "markdown",
      "metadata": {
        "id": "0_pHVXj51cp3"
      },
      "source": [
        "- Add your own name and favorite color to the `fav_colors` dictionary."
      ]
    },
    {
      "cell_type": "code",
      "execution_count": 4,
      "metadata": {
        "id": "YumFcdpp1gtn"
      },
      "outputs": [
        {
          "name": "stdout",
          "output_type": "stream",
          "text": [
            "{'James': 'Red', 'Purvi': 'Orange', 'Sherlin': 'Purple', 'Josh': 'Indigo', 'Neerja': 'Green', 'Ishmael': 'Blue'}\n"
          ]
        }
      ],
      "source": [
        "# Your code here\n",
        "\n",
        "## Add a new key with your name and set it to your fav color\n",
        "fav_colors['Ishmael'] = 'Blue'\n",
        "\n",
        "\n",
        "## print or display the updated dictionary\n",
        "print(fav_colors)\n"
      ]
    },
    {
      "cell_type": "markdown",
      "metadata": {
        "id": "yL7oyAPC5abV"
      },
      "source": [
        "## Updating Our Dictionary."
      ]
    },
    {
      "cell_type": "markdown",
      "metadata": {
        "id": "Pgx9as4E5bsm"
      },
      "source": [
        "On second thought, James has had a change of heart and his new favorite color is Blue. Let's change the value for James to Blue and then confirm the value has been updated."
      ]
    },
    {
      "cell_type": "code",
      "execution_count": 7,
      "metadata": {
        "colab": {
          "base_uri": "https://localhost:8080/",
          "height": 35
        },
        "id": "iGtn6aea5jcS",
        "outputId": "25908b92-8b80-472a-99de-ec147cdebd2d"
      },
      "outputs": [
        {
          "name": "stdout",
          "output_type": "stream",
          "text": [
            "Blue\n"
          ]
        }
      ],
      "source": [
        "# Run this cell without changes\n",
        "\n",
        "# Updating the value for James to \"Blue\"\n",
        "fav_colors['James'] = 'Blue'\n",
        "\n",
        "# Confirm that the value has changed\n",
        "print(fav_colors['James'])"
      ]
    },
    {
      "cell_type": "markdown",
      "metadata": {
        "id": "uZVdZd2453aG"
      },
      "source": [
        "### 💪 Your Turn\n"
      ]
    },
    {
      "cell_type": "markdown",
      "metadata": {
        "id": "NDnJ1FMe56tJ"
      },
      "source": [
        "Purvi has also realized that she no longer likes Orange and that her true favorite color is Green.\n",
        "\n",
        "Update the fav_colors dictionary to change Purvi's value to Green."
      ]
    },
    {
      "cell_type": "code",
      "execution_count": 8,
      "metadata": {
        "id": "Qln3g-Fn6Jgc"
      },
      "outputs": [
        {
          "name": "stdout",
          "output_type": "stream",
          "text": [
            "Green\n"
          ]
        }
      ],
      "source": [
        "# Your code here\n",
        "\n",
        "# Update the value for Purvi to \"Green\"\n",
        "fav_colors['Purvi'] = \"Green\"\n",
        "\n",
        "# Confirm that the value has changed\n",
        "print(fav_colors['Purvi'])\n"
      ]
    },
    {
      "cell_type": "markdown",
      "metadata": {
        "id": "3jvWg0sv2AMY"
      },
      "source": [
        "## Tracking Favorite Colors AND Favorite Candy"
      ]
    },
    {
      "cell_type": "markdown",
      "metadata": {
        "id": "_KX3DUIW2AKA"
      },
      "source": [
        "The team realized that only sharing their favorite colors is barely scratching the surface of getting to know each other.\n",
        "\n",
        "The team decides to also share their favorite candies, too.\n",
        "\n",
        "\n",
        "To track both their favorite color AND candy, we *could* make a second dictionary called `fav_candy`, **but** then we wouldn't have our information stored together for each person.\n",
        "\n",
        "The alternative is to make a **nested** dictionary.\n",
        "\n",
        "Let's create a nested dictionary called `fav_items`. In our nested dictionary, we will still have the team members' names as the keys, but instead of a string with their favorite colors as the values, we will store **another** dictionary that contains 2 key:value pairs: \"color\" and \"candy\"."
      ]
    },
    {
      "cell_type": "code",
      "execution_count": 10,
      "metadata": {
        "colab": {
          "base_uri": "https://localhost:8080/"
        },
        "id": "4coFD9mP1_iX",
        "outputId": "2430a758-d059-409f-92fc-331d179068cb"
      },
      "outputs": [
        {
          "data": {
            "text/plain": [
              "{'James': {'color': 'Blue', 'candy': 'Jelly Bellies'},\n",
              " 'Purvi': {'color': 'Green', 'candy': 'Dark Chocolate'},\n",
              " 'Sherlin': {'color': 'Purple', 'candy': \"Peanut M&M's\"},\n",
              " 'Josh': {'color': 'Indigo', 'candy': 'Chocolate Covered Potato Chips'},\n",
              " 'Neerja': {'color': 'Green', 'candy': 'Milk Chocolate'}}"
            ]
          },
          "execution_count": 10,
          "metadata": {},
          "output_type": "execute_result"
        }
      ],
      "source": [
        "## Run this cell without making changes.\n",
        "\n",
        "# Create the nested dictionary\n",
        "## make a dictionary of fav_items with the names as the key and a dictionary of {color:red,candy:jelly bellies}\n",
        "fav_items = {\"James\": {'color':'Blue',\n",
        "                       'candy':'Jelly Bellies'},\n",
        "             \"Purvi\": {'color':'Green',\n",
        "                       'candy':'Dark Chocolate'},\n",
        "             'Sherlin': {'color':'Purple',\n",
        "                      'candy':\"Peanut M&M's\"},\n",
        "             'Josh': {'color':'Indigo',\n",
        "                      'candy':'Chocolate Covered Potato Chips'},\n",
        "             \"Neerja\":{'color': 'Green',\n",
        "                       'candy': 'Milk Chocolate'}\n",
        "             }\n",
        "\n",
        "# display the full nested dictionary.\n",
        "fav_items"
      ]
    },
    {
      "cell_type": "markdown",
      "metadata": {
        "id": "XJGQUeUx2AH6"
      },
      "source": [
        "- The team realized they didn't offer to include their boss in the activity and found out that their boss, \"Brenda\" likes the color blue and her favoriate candy is Reese. Let's add Brenda to our `fav_items` dictionary.\n",
        "  - Tip: make sure to use double quotes for strings that will contain an apostrophe."
      ]
    },
    {
      "cell_type": "code",
      "execution_count": 11,
      "metadata": {
        "colab": {
          "base_uri": "https://localhost:8080/"
        },
        "id": "8dpQ-4194OsQ",
        "outputId": "7a955cf7-1e00-4295-9f91-b780142e421d"
      },
      "outputs": [
        {
          "data": {
            "text/plain": [
              "{'James': {'color': 'Blue', 'candy': 'Jelly Bellies'},\n",
              " 'Purvi': {'color': 'Green', 'candy': 'Dark Chocolate'},\n",
              " 'Sherlin': {'color': 'Purple', 'candy': \"Peanut M&M's\"},\n",
              " 'Josh': {'color': 'Indigo', 'candy': 'Chocolate Covered Potato Chips'},\n",
              " 'Neerja': {'color': 'Green', 'candy': 'Milk Chocolate'},\n",
              " 'Brenda': {'color': 'Blue', 'candy': \"Reese's Cups\"}}"
            ]
          },
          "execution_count": 11,
          "metadata": {},
          "output_type": "execute_result"
        }
      ],
      "source": [
        "# Run this cell without changes\n",
        "\n",
        "# Adding \"Brenda\" and her favorites to the dictionary\n",
        "fav_items['Brenda'] = {'color':'Blue','candy':\"Reese's Cups\"}\n",
        "\n",
        "# display the updated dictionary\n",
        "fav_items"
      ]
    },
    {
      "cell_type": "markdown",
      "metadata": {
        "id": "EGvAhUJC4qd9"
      },
      "source": [
        "### 💪 Your Turn"
      ]
    },
    {
      "cell_type": "markdown",
      "metadata": {
        "id": "SmHv85s74sTh"
      },
      "source": [
        "Add your yourself to our new `fav_items` dictionary following the example above. If you don't like candy, go ahead and list your favorite snack or meal instead."
      ]
    },
    {
      "cell_type": "code",
      "execution_count": 12,
      "metadata": {
        "id": "OdqvyhGJ46Ls"
      },
      "outputs": [
        {
          "name": "stdout",
          "output_type": "stream",
          "text": [
            "{'James': {'color': 'Blue', 'candy': 'Jelly Bellies'}, 'Purvi': {'color': 'Green', 'candy': 'Dark Chocolate'}, 'Sherlin': {'color': 'Purple', 'candy': \"Peanut M&M's\"}, 'Josh': {'color': 'Indigo', 'candy': 'Chocolate Covered Potato Chips'}, 'Neerja': {'color': 'Green', 'candy': 'Milk Chocolate'}, 'Brenda': {'color': 'Blue', 'candy': \"Reese's Cups\"}, 'Ishmael': {'color': 'Blue', 'candy': 'Milk Chocolate'}}\n"
          ]
        }
      ],
      "source": [
        "# Your code here\n",
        "\n",
        "## Add a new key with your name your fav items\n",
        "fav_items['Ishmael'] = {'color': 'Blue', 'candy': \"Milk Chocolate\"}\n",
        "\n",
        "## print or display the updated dictionary\n",
        "print(fav_items)\n"
      ]
    },
    {
      "cell_type": "markdown",
      "metadata": {
        "id": "YCh3uSGB5Qmc"
      },
      "source": [
        "## Indexing Nested Dictionaries"
      ]
    },
    {
      "cell_type": "markdown",
      "metadata": {
        "id": "D25mtgid6g2N"
      },
      "source": [
        "Now that we have everyone's favorites saved in our dictionary. Let's answer some questions about specific people and items. Now that we have a nested dictionary, we will need to use 2 sets of square brackets. the first set to slice out the name of the person and another set of square brakcets to slice out their favorite item.\n"
      ]
    },
    {
      "cell_type": "markdown",
      "metadata": {
        "id": "FNrJFd2-6oi_"
      },
      "source": [
        "\n",
        "#### Example: What is Purvi's favorite candy?"
      ]
    },
    {
      "cell_type": "code",
      "execution_count": 13,
      "metadata": {
        "colab": {
          "base_uri": "https://localhost:8080/",
          "height": 35
        },
        "id": "Dh9xzNUL66Kn",
        "outputId": "4372c754-5a1a-4245-8d1f-fcea30207d3c"
      },
      "outputs": [
        {
          "data": {
            "text/plain": [
              "'Dark Chocolate'"
            ]
          },
          "execution_count": 13,
          "metadata": {},
          "output_type": "execute_result"
        }
      ],
      "source": [
        "# Run this cell without changes\n",
        "\n",
        "# Slice out Purvi's favorite candy\n",
        "fav_items['Purvi']['candy']"
      ]
    },
    {
      "cell_type": "markdown",
      "metadata": {
        "id": "EB3rkScV5SuS"
      },
      "source": [
        "### 💪 Your Turn"
      ]
    },
    {
      "cell_type": "markdown",
      "metadata": {
        "id": "6hGC-WIa7LzY"
      },
      "source": [
        "What is Sherlin's favorite color?"
      ]
    },
    {
      "cell_type": "code",
      "execution_count": 14,
      "metadata": {
        "id": "UKzMFiP27J-K"
      },
      "outputs": [
        {
          "data": {
            "text/plain": [
              "'Purple'"
            ]
          },
          "execution_count": 14,
          "metadata": {},
          "output_type": "execute_result"
        }
      ],
      "source": [
        "# Your code here\n",
        "\n",
        "# Slice out sherlin's favorite color\n",
        "fav_items['Sherlin']['color']\n"
      ]
    },
    {
      "cell_type": "markdown",
      "metadata": {
        "id": "AXVEx7Hy8BRi"
      },
      "source": [
        "## Updating a Nested Dictionary\n",
        "\n"
      ]
    },
    {
      "cell_type": "markdown",
      "metadata": {
        "id": "Z5tJ2tbU8C9N"
      },
      "source": [
        "James realized his favorite color isn't really red or blue - its Purple.\n",
        "\n",
        "Let's update the value for James' favorite color in our nested dictionary.\n",
        "\n",
        "Just like we needed a set of square brackets for each key we sliced to get to Sherlin's favorite color, we also need to use multiple square brackets to update a nested dictionary value."
      ]
    },
    {
      "cell_type": "code",
      "execution_count": null,
      "metadata": {
        "colab": {
          "base_uri": "https://localhost:8080/",
          "height": 35
        },
        "id": "YSue6Ir68ebn",
        "outputId": "ff7e1a47-027f-4dd8-947a-795c542f3c4a"
      },
      "outputs": [
        {
          "data": {
            "application/vnd.google.colaboratory.intrinsic+json": {
              "type": "string"
            },
            "text/plain": [
              "'Purple'"
            ]
          },
          "execution_count": 24,
          "metadata": {},
          "output_type": "execute_result"
        }
      ],
      "source": [
        "# Run this cell without changes\n",
        "\n",
        "# update james' fav color to Purple\n",
        "fav_items['James'][\"color\"] = \"Purple\"\n",
        "\n",
        "# confirm the value has changed\n",
        "fav_items['James'][\"color\"]"
      ]
    },
    {
      "cell_type": "markdown",
      "metadata": {
        "id": "HTTYHJWQ8drB"
      },
      "source": [
        "### 💪 Your Turn"
      ]
    },
    {
      "cell_type": "markdown",
      "metadata": {
        "id": "ilAaM-Et8rHE"
      },
      "source": [
        "Neerja realized that she really prefers dark chocolate over milk chocolate.\n",
        "Change Neerja's favorite candy to \"Dark Chocolate.\""
      ]
    },
    {
      "cell_type": "code",
      "execution_count": 15,
      "metadata": {
        "id": "M0FUjgGu86JB"
      },
      "outputs": [
        {
          "data": {
            "text/plain": [
              "{'James': {'color': 'Blue', 'candy': 'Jelly Bellies'},\n",
              " 'Purvi': {'color': 'Green', 'candy': 'Dark Chocolate'},\n",
              " 'Sherlin': {'color': 'Purple', 'candy': \"Peanut M&M's\"},\n",
              " 'Josh': {'color': 'Indigo', 'candy': 'Chocolate Covered Potato Chips'},\n",
              " 'Neerja': {'color': 'Green', 'candy': 'Dark Cjocolate'},\n",
              " 'Brenda': {'color': 'Blue', 'candy': \"Reese's Cups\"},\n",
              " 'Ishmael': {'color': 'Blue', 'candy': 'Milk Chocolate'}}"
            ]
          },
          "execution_count": 15,
          "metadata": {},
          "output_type": "execute_result"
        }
      ],
      "source": [
        "# Your code here\n",
        "\n",
        "## Change Neerja's fav candy\n",
        "fav_items['Neerja']['candy'] = 'Dark Cjocolate'\n",
        "\n",
        "## confirm the value has changed\n",
        "fav_items"
      ]
    },
    {
      "cell_type": "markdown",
      "metadata": {
        "id": "APirEhWdsrtz"
      },
      "source": [
        "# Summary\n",
        "\n",
        "In this assignment you practiced working with Python dictionaries. We reviewed how to create a new dictionary, how to index a dictionarty using keys, and how to insert new key:value pairs into a dictionary.\n",
        "\n",
        "You also learned how to work with a nested dictionary and how we need a new set of square brackets for every key we need to slice out from our nested dictionaries."
      ]
    }
  ],
  "metadata": {
    "colab": {
      "provenance": [],
      "toc_visible": true
    },
    "kernelspec": {
      "display_name": "RDSB-5U8ITK5B",
      "language": "python",
      "name": "python3"
    },
    "language_info": {
      "codemirror_mode": {
        "name": "ipython",
        "version": 3
      },
      "file_extension": ".py",
      "mimetype": "text/x-python",
      "name": "python",
      "nbconvert_exporter": "python",
      "pygments_lexer": "ipython3",
      "version": "3.11.5"
    }
  },
  "nbformat": 4,
  "nbformat_minor": 0
}
