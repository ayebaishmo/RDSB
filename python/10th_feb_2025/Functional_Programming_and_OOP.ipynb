{
  "cells": [
    {
      "cell_type": "markdown",
      "metadata": {
        "id": "5N0ImzCNp94J"
      },
      "source": [
        "##Learning Objectives\n",
        "\n",
        "\n",
        "1.  Apply terminology associated with functional programming (functions).\n",
        "2.   Apply terminology associated with object-oriented programing (OOP).\n",
        "\n",
        "\n"
      ]
    },
    {
      "cell_type": "markdown",
      "metadata": {
        "id": "aglWZErlqOaV"
      },
      "source": [
        "Now that you have practiced coding in Google Colab with some simple math and have explored how to declare variables, this lesson will explore more of the fundamental ways Python works."
      ]
    },
    {
      "cell_type": "markdown",
      "metadata": {
        "id": "oxoZl4MkqUZh"
      },
      "source": [
        "##Paradigms\n",
        "There are several overarching approaches to how a programming language addresses problems, and these are called \"paradigms.\" Each language applies some mixture of these paradigms. You should recognize that Python is generally considered an \"object-oriented programming\" (OOP) language. Even though this is its primary paradigm, Python is also able to support another paradigm, known as \"functional programming.\" We will explore these different approaches below, and we will use both seamlessly in our code throughout the course."
      ]
    },
    {
      "cell_type": "markdown",
      "metadata": {
        "id": "ktGH7SizqaID"
      },
      "source": [
        "## Functional Programming (Functions)\n",
        "In this section, you will be introduced to some very specific English language that is associated with functions! If you are brand new to programming, it may take a little time to get used to this technical way of speaking, but you will gain comfort with practice!\n",
        "\n",
        "Some terms you will encounter:\n",
        "\n",
        "1.   Input\n",
        "2.   Argument\n",
        "3.   Call\n",
        "4.   Evaluate\n",
        "5.   Return\n",
        "\n",
        "### What is a Function?\n",
        "\n",
        "Python comes with many functions included. A function is a tool that DOES something. Oftentimes, but not always, a function takes an \"input\" (also known as the \"argument(s)\") and \"returns\" something. A function performs its task when it is \"called\". You \"call\" a function by placing parentheses at the end of its name.\n",
        "\n",
        "For instance \"max\" is a basic function in Python.\n",
        "\n",
        "If you enter the following code\n",
        "\n",
        "max(a, b)\n",
        "\n",
        "Python will \"return\" whichever is larger (the maximum value of), a or b.\n",
        "\n",
        "Note that this function accepts a minimum of two \"arguments.\" It will error if you only provide one value! Some functions have a specific number of arguments, but in this case, the \"max\" function can take 2 or more arguments.\n",
        "\n",
        "Once the function is called with the appropriate number of arguments, Python **evaluates** the information. Essentially it reads it and does some task with it.\n",
        "\n",
        "When a function produces an output, we call this a **return**.\n",
        "\n",
        "If we want to perform the \"max\" function on 1 and 2, the **input** to our function is 1, 2. You could also say the **arguments** are 1 and 2.\n",
        "\n",
        "When Python **evaluates** max(1, 2) , it selects the larger of the values, and the function **returns** the output, 2."
      ]
    },
    {
      "cell_type": "markdown",
      "metadata": {
        "id": "wfr6fmEaq5gB"
      },
      "source": [
        "## Max Function:"
      ]
    },
    {
      "cell_type": "code",
      "execution_count": 1,
      "metadata": {
        "id": "Rtfl-VEdqHm_"
      },
      "outputs": [
        {
          "data": {
            "text/plain": [
              "8"
            ]
          },
          "execution_count": 1,
          "metadata": {},
          "output_type": "execute_result"
        }
      ],
      "source": [
        "# Run this cell to see what value the function returns\n",
        "max(2,8)"
      ]
    },
    {
      "cell_type": "markdown",
      "metadata": {
        "id": "KWh2Fkh2rEjT"
      },
      "source": [
        "1. The \"max\" function was called by placing parenthesis after it and running the cell.\n",
        "2. The **input** above was ..your input.\n",
        "3. The **arguments** were ....\n",
        "4. The \"max\" function **evaluated** the two values to determine which was greater.\n",
        "5. The function **returned** the value .... (You should see the output under your code cell after you run it!)"
      ]
    },
    {
      "cell_type": "markdown",
      "metadata": {
        "id": "3P6_qg1crYMi"
      },
      "source": [
        "## Min Function:\n",
        "When Python evaluates min(), it will return the smallest number."
      ]
    },
    {
      "cell_type": "code",
      "execution_count": 2,
      "metadata": {
        "id": "m1ON-7cwrBFR"
      },
      "outputs": [
        {
          "data": {
            "text/plain": [
              "2"
            ]
          },
          "execution_count": 2,
          "metadata": {},
          "output_type": "execute_result"
        }
      ],
      "source": [
        "# Run this cell to return the minimum of 3 and 2.\n",
        "min(3,2)"
      ]
    },
    {
      "cell_type": "markdown",
      "metadata": {
        "id": "xml0ze9provu"
      },
      "source": [
        "Try practicing the technical terms with the code above!\n",
        "\n",
        "1.  What does it mean to **call** the \"min\" function?\n",
        "2.  How many **arguments** were included?\n",
        "3.  What was the **input**?\n",
        "4.  What did the function **evaluate**?\n",
        "5.  What did the function **return**?"
      ]
    },
    {
      "cell_type": "markdown",
      "metadata": {
        "id": "TCkHDO3QsBdG"
      },
      "source": [
        "## Nested Functions:\n",
        "We can combine functions by nesting them inside of each other. First Python will evaluate the inner functions, then, using what those return, it will evaluate the results using the outer function.\n",
        "\n",
        "Before you run the cell below, can you predict what the answer should be?"
      ]
    },
    {
      "cell_type": "code",
      "execution_count": 4,
      "metadata": {
        "id": "7-LG_FT-sHpT"
      },
      "outputs": [
        {
          "data": {
            "text/plain": [
              "5"
            ]
          },
          "execution_count": 4,
          "metadata": {},
          "output_type": "execute_result"
        }
      ],
      "source": [
        "# Run this cell to return the maximum of the minimum of 10 and 3 and the minimum of 5 and 7\n",
        "max(min(10,3),min(5,7))"
      ]
    },
    {
      "cell_type": "markdown",
      "metadata": {
        "id": "V2qEKADfsSU0"
      },
      "source": [
        "Did you predict correctly?\n",
        "\n",
        "Programming and data science, in general, can require a great deal of focus and attention to detail! As much as possible, try to predict what you expect the results of your code to be! Having an idea of what you expect will help you catch mistakes.\n",
        "\n",
        "Python can do amazing things, but it can only do what the human asks it to do! It is similar to a calculator. If you want to add 3 apples and 6 oranges, you, as the programmer need to know to use the + sign! If you use any other command, you will get an answer, but it will not be solving the problem!\n",
        "\n",
        "**When programming, just because your code runs error-free, it does not mean you have the correct code for what you are trying to accomplish!!**\n",
        "\n",
        "We have just introduced a few basic functions here, but there are many functions in basic python! There are also entire libraries of functions that we can add to basic python that will include even more functions. And, on top of all of those, we also can write custom functions to add efficiency to our code! We will continue to work with functions throughout the course"
      ]
    },
    {
      "cell_type": "markdown",
      "metadata": {
        "id": "FV8OxfHhsnI-"
      },
      "source": [
        "## Object Oriented Programming\n",
        "While Python supports functional programming, it is naturally an object-oriented language. In Python, everything is treated as an **\"object.\"** Objects each have special rules and properties. They also often have special functions inside them that are special to that object. These special functions are called **\"methods.\"**\n",
        "\n",
        "Even functions are objects! Once again, there will be some technical language here that may take some time for you to digest!\n",
        "\n",
        "**Strings:**\n",
        "For instance, one kind of object we have already worked with is a **string**. Recall that a string is a piece of text. You can create a string by putting quotation marks around it. Either single or double quotes will work as long as you are consistent.\n",
        "\n",
        "‘Hello’ is a string.\n",
        "\n",
        "\"I am hungry.\" is a string.\n",
        "\n",
        "\"50+5\" is a string too! Why is this a string when it involves numbers and symbols? No matter what characters are present, if they are in quotes, Python will treat it as a string!\n",
        "\n",
        "A **method** for an object is called by typing a period (.) and then the name of the method followed by parentheses.\n",
        "\n",
        "One special method of strings is .lower(). This returns a new string that is the same as the original string but with all of the letters in lowercase. Note that this method does not require any additional input within the parenthesis, but the parentheses are still required to call the method! There will be cases where you will make specifications of the method within the parentheses. These are called \"arguments.\" Some methods do not take arguments. For those that do, if the parentheses are empty, the method will simply rely on the default arguments.\n",
        "\n",
        "The .lower() method does not take any arguments."
      ]
    },
    {
      "cell_type": "code",
      "execution_count": 16,
      "metadata": {
        "id": "__ZYwOdItHts"
      },
      "outputs": [
        {
          "data": {
            "text/plain": [
              "'hello'"
            ]
          },
          "execution_count": 16,
          "metadata": {},
          "output_type": "execute_result"
        }
      ],
      "source": [
        "# Run this cell to return a lower case string\n",
        "string1 = \"HELLO\"\n",
        "string2 = \"Claire\"\n",
        "string3 = \"coco\"\n",
        "string1.lower()"
      ]
    },
    {
      "cell_type": "code",
      "execution_count": 17,
      "metadata": {
        "id": "O4g5JHSjrwAi"
      },
      "outputs": [
        {
          "data": {
            "text/plain": [
              "'CLAIRE'"
            ]
          },
          "execution_count": 17,
          "metadata": {},
          "output_type": "execute_result"
        }
      ],
      "source": [
        "# Run this cell to return an upper case string\n",
        "string2.upper()"
      ]
    },
    {
      "cell_type": "markdown",
      "metadata": {
        "id": "2HGPSP4ttRZq"
      },
      "source": [
        "###Method Arguments:\n",
        "\n",
        "Let's take a look at a string method that requires arguments. .replace() takes two arguments.\n",
        "\n",
        "First, you must include the original text you want to replace, and then you must include the new text."
      ]
    },
    {
      "cell_type": "code",
      "execution_count": 24,
      "metadata": {
        "id": "rn1Z1BxjtW_B"
      },
      "outputs": [
        {
          "data": {
            "text/plain": [
              "'Blaire'"
            ]
          },
          "execution_count": 24,
          "metadata": {},
          "output_type": "execute_result"
        }
      ],
      "source": [
        "# replace h with j in the string\n",
        "string2 = string2.replace(\"C\", \"B\")\n",
        "string2\n"
      ]
    },
    {
      "cell_type": "code",
      "execution_count": 22,
      "metadata": {},
      "outputs": [
        {
          "data": {
            "text/plain": [
              "'jojo'"
            ]
          },
          "execution_count": 22,
          "metadata": {},
          "output_type": "execute_result"
        }
      ],
      "source": [
        "string3.replace(\"c\", \"j\")"
      ]
    },
    {
      "cell_type": "markdown",
      "metadata": {
        "id": "WpdpSe9vtn0w"
      },
      "source": [
        "As you can see, our code was successful. Imagine if you tried to run .replace() without including arguments; how would the method know what to do?\n",
        "\n",
        "There are many other string methods to explore! There are so many methods that it is NOT expected that anyone would memorize all of them! Instead, you will gain familiarity with searching the documentation.\n",
        "\n",
        "You should also start bookmarking some of your favorite sites as you dig deeper throughout the course. One place to learn more about string methods is [here](https://www.w3schools.com/python/python_ref_string.asp). You can click on each method to go even deeper and explore the arguments.\n",
        "\n",
        "Note, too, that strings are just ONE type of object! There are many other object types, each with its methods (and arguments!) that we will continue to explore throughout this program.\n",
        "\n",
        "To clarify: Objects have specific methods (these are functions specific to that object type)\n",
        "\n",
        "The object and method are separated by a period, which is referred to as \"dot notation.\" The method must be called by including () at the end of the method.\n",
        "\n",
        "Within the parenthesis:\n",
        "\n",
        "1. Some methods do not take arguments.\n",
        "2. Some methods take argument(s) but will use default argument(s) if not specified\n",
        "3. Some methods require arguments."
      ]
    },
    {
      "cell_type": "markdown",
      "metadata": {
        "id": "PtChXc0Ft7rL"
      },
      "source": [
        "## Summary\n",
        "This lesson introduces Python as an object-oriented programming language (OOP) that can also use functions. You explored a few basic functions. You then explored one type of object (strings) and a few methods associated with string objects. You had the chance to learn the key terminology associated with both paradigms (functions and objects). While this is just an overview, you also practiced some essential syntax such as when to use a dot, parenthesis, or quotation marks. Continue to pay attention to these special characters and their use as seemingly minor syntax differences can cause errors if you do not implement them correctly."
      ]
    },
    {
      "cell_type": "markdown",
      "metadata": {
        "id": "65Q-siTnwuol"
      },
      "source": [
        "## Additional Resources\n",
        "1. [Python Cheat Sheet: Function Arguments](https://www.pythoncheatsheet.org/cheatsheet/functions)\n",
        "2. [Python Cheat Sheet: List of Built-In Python Functions\n",
        "W3Schools: Python Classes](https://www.pythoncheatsheet.org/cheatsheet/built-in-functions)\n",
        "3. [W3Schools: Python Functions](https://www.w3schools.com/python/python_functions.asp) (Reference for vocabulary. You will learn how to create functions in upcoming lessons)."
      ]
    },
    {
      "cell_type": "code",
      "execution_count": null,
      "metadata": {
        "id": "5UT1aSfStt_o"
      },
      "outputs": [],
      "source": []
    }
  ],
  "metadata": {
    "colab": {
      "provenance": []
    },
    "kernelspec": {
      "display_name": "RDSB-5U8ITK5B",
      "language": "python",
      "name": "python3"
    },
    "language_info": {
      "codemirror_mode": {
        "name": "ipython",
        "version": 3
      },
      "file_extension": ".py",
      "mimetype": "text/x-python",
      "name": "python",
      "nbconvert_exporter": "python",
      "pygments_lexer": "ipython3",
      "version": "3.11.5"
    }
  },
  "nbformat": 4,
  "nbformat_minor": 0
}
