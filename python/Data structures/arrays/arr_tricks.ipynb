{
 "cells": [
  {
   "cell_type": "code",
   "execution_count": 14,
   "metadata": {},
   "outputs": [
    {
     "data": {
      "text/plain": [
       "[6, 9, 7, 4, 2, 8]"
      ]
     },
     "execution_count": 14,
     "metadata": {},
     "output_type": "execute_result"
    }
   ],
   "source": [
    "arr3 = [6, 9, 7, 4, 2, 8]\n",
    "arr3"
   ]
  },
  {
   "cell_type": "code",
   "execution_count": 15,
   "metadata": {},
   "outputs": [
    {
     "name": "stdout",
     "output_type": "stream",
     "text": [
      "9\n"
     ]
    }
   ],
   "source": [
    "# Finding the largest element in an array \n",
    "# Using max \n",
    "# max(arr3)\n",
    "\n",
    "# Using the loop \n",
    "largest_arr = arr3[0]\n",
    "for x in arr3:\n",
    "    if x >largest_arr:\n",
    "        largest_arr = x\n",
    "print(largest_arr)\n"
   ]
  },
  {
   "cell_type": "code",
   "execution_count": 16,
   "metadata": {},
   "outputs": [
    {
     "name": "stdout",
     "output_type": "stream",
     "text": [
      "9\n"
     ]
    }
   ],
   "source": [
    "# Finding second largest using loop \n",
    "largest_arr = arr3[0]\n",
    "for x in arr3:\n",
    "    if x >largest_arr:\n",
    "        largest_arr = x\n",
    "\n",
    "second_largest = largest_arr\n",
    "for x in arr3:\n",
    "    if x > second_largest and x != largest_arr:\n",
    "        second_largest = x\n",
    "print(second_largest)"
   ]
  },
  {
   "cell_type": "code",
   "execution_count": 21,
   "metadata": {},
   "outputs": [
    {
     "data": {
      "text/plain": [
       "8"
      ]
     },
     "execution_count": 21,
     "metadata": {},
     "output_type": "execute_result"
    }
   ],
   "source": [
    "# Finding he second_largest using sort \n",
    "arr3.sort()\n",
    "arr3\n",
    "arr3[-2]"
   ]
  },
  {
   "cell_type": "code",
   "execution_count": null,
   "metadata": {},
   "outputs": [],
   "source": []
  }
 ],
 "metadata": {
  "kernelspec": {
   "display_name": "RDSB-5U8ITK5B",
   "language": "python",
   "name": "python3"
  },
  "language_info": {
   "codemirror_mode": {
    "name": "ipython",
    "version": 3
   },
   "file_extension": ".py",
   "mimetype": "text/x-python",
   "name": "python",
   "nbconvert_exporter": "python",
   "pygments_lexer": "ipython3",
   "version": "3.11.5"
  }
 },
 "nbformat": 4,
 "nbformat_minor": 2
}
