{
 "cells": [
  {
   "cell_type": "code",
   "execution_count": 5,
   "metadata": {},
   "outputs": [
    {
     "name": "stdout",
     "output_type": "stream",
     "text": [
      "target not found in the array\n",
      "target not found in the array\n",
      "target not found in the array\n",
      "target not found in the array\n",
      "target not found in the array\n",
      "6\n",
      "target not found in the array\n"
     ]
    }
   ],
   "source": [
    "# Linear search \n",
    "numbers = [1,2,3,4,5,6]\n",
    "\n",
    "target = 6\n",
    "\n",
    "for number in numbers:\n",
    "    if number == target:\n",
    "        print(number)\n",
    "    print(\"target not found in the array\")"
   ]
  },
  {
   "cell_type": "code",
   "execution_count": 20,
   "metadata": {},
   "outputs": [],
   "source": [
    "def linear_search(arr, target):\n",
    "    for i in range(len(arr)):\n",
    "        if arr[i] == target:\n",
    "            print(f\"The target is present {arr[i]}\")\n",
    "            return\n",
    "    print(\"Target not found\")\n"
   ]
  },
  {
   "cell_type": "code",
   "execution_count": 21,
   "metadata": {},
   "outputs": [
    {
     "name": "stdout",
     "output_type": "stream",
     "text": [
      "The target is present 9\n"
     ]
    }
   ],
   "source": [
    "linear_search([9,8,7,6], 9)"
   ]
  },
  {
   "cell_type": "code",
   "execution_count": null,
   "metadata": {},
   "outputs": [],
   "source": []
  }
 ],
 "metadata": {
  "kernelspec": {
   "display_name": "RDSB-5U8ITK5B",
   "language": "python",
   "name": "python3"
  },
  "language_info": {
   "codemirror_mode": {
    "name": "ipython",
    "version": 3
   },
   "file_extension": ".py",
   "mimetype": "text/x-python",
   "name": "python",
   "nbconvert_exporter": "python",
   "pygments_lexer": "ipython3",
   "version": "3.11.5"
  }
 },
 "nbformat": 4,
 "nbformat_minor": 2
}
