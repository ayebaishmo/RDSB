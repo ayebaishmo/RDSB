{
 "cells": [
  {
   "cell_type": "code",
   "execution_count": 4,
   "metadata": {},
   "outputs": [
    {
     "name": "stdout",
     "output_type": "stream",
     "text": [
      "1\n",
      "2\n",
      "3\n",
      "4\n",
      "5\n"
     ]
    }
   ],
   "source": [
    "i = 1\n",
    "while(i <= 5):\n",
    "    print(i)\n",
    "    i = i + 1"
   ]
  },
  {
   "cell_type": "code",
   "execution_count": 16,
   "metadata": {},
   "outputs": [
    {
     "name": "stdout",
     "output_type": "stream",
     "text": [
      "Initialized an empty linked list.\n",
      "Inserting 10 into the linked list...\n",
      "Node created with data: 10\n",
      "Inserted 10 as the head node.\n",
      "Inserting 20 into the linked list...\n",
      "Node created with data: 20\n",
      "Inserted 20 at the end of the list.\n",
      "Inserting 30 into the linked list...\n",
      "Node created with data: 30\n",
      "Traversing node with data: 10\n",
      "Inserted 30 at the end of the list.\n",
      "Linked List Elements:\n",
      "Node Data: 10\n",
      "Node Data: 20\n",
      "Node Data: 30\n",
      "Searching for 20 in the linked list...\n",
      "Checking node with data: 10\n",
      "Checking node with data: 20\n",
      "Found 20 in the list!\n",
      "Searching for 40 in the linked list...\n",
      "Checking node with data: 10\n",
      "Checking node with data: 20\n",
      "Checking node with data: 30\n",
      "40 not found in the list.\n"
     ]
    },
    {
     "data": {
      "text/plain": [
       "False"
      ]
     },
     "execution_count": 16,
     "metadata": {},
     "output_type": "execute_result"
    }
   ],
   "source": [
    "class Node:\n",
    "    \"\"\"A class representing a single node in a linked list.\"\"\"\n",
    "    def __init__(self, data):\n",
    "        self.data = data  # Store the data\n",
    "        self.next = None  # Initially, the next node is None\n",
    "        print(f\"Node created with data: {data}\")\n",
    "\n",
    "class LinkedList:\n",
    "    \"\"\"A class representing a singly linked list.\"\"\"\n",
    "    def __init__(self):\n",
    "        self.head = None  # Initially, the list is empty\n",
    "        print(\"Initialized an empty linked list.\")\n",
    "\n",
    "    def insert(self, data):\n",
    "        \"\"\"Insert a new node at the end of the list.\"\"\"\n",
    "        print(f\"Inserting {data} into the linked list...\")\n",
    "        new_node = Node(data)\n",
    "        if self.head is None:  # If the list is empty, set new node as head\n",
    "            self.head = new_node\n",
    "            print(f\"Inserted {data} as the head node.\")\n",
    "        else:\n",
    "            current = self.head\n",
    "            while current.next:  # Traverse to the last node\n",
    "                print(f\"Traversing node with data: {current.data}\")\n",
    "                current = current.next\n",
    "            current.next = new_node\n",
    "            print(f\"Inserted {data} at the end of the list.\")\n",
    "\n",
    "    def print_list(self):\n",
    "        \"\"\"Print all elements in the linked list.\"\"\"\n",
    "        if self.head is None:\n",
    "            print(\"The linked list is empty.\")\n",
    "        else:\n",
    "            current = self.head\n",
    "            print(\"Linked List Elements:\")\n",
    "            while current:\n",
    "                print(f\"Node Data: {current.data}\")\n",
    "                current = current.next\n",
    "\n",
    "    def search(self, key):\n",
    "        \"\"\"Search for a node with a specific value.\"\"\"\n",
    "        print(f\"Searching for {key} in the linked list...\")\n",
    "        current = self.head\n",
    "        while current:\n",
    "            print(f\"Checking node with data: {current.data}\")\n",
    "            if current.data == key:\n",
    "                print(f\"Found {key} in the list!\")\n",
    "                return True\n",
    "            current = current.next\n",
    "        print(f\"{key} not found in the list.\")\n",
    "        return False\n",
    "\n",
    "# Creating and using the linked list\n",
    "ll = LinkedList()\n",
    "ll.insert(10)\n",
    "ll.insert(20)\n",
    "ll.insert(30)\n",
    "ll.print_list()\n",
    "\n",
    "ll.search(20)  # Searching for an existing element\n",
    "ll.search(40)  # Searching for a non-existing element\n"
   ]
  },
  {
   "cell_type": "code",
   "execution_count": null,
   "metadata": {},
   "outputs": [],
   "source": []
  }
 ],
 "metadata": {
  "kernelspec": {
   "display_name": "RDSB-5U8ITK5B",
   "language": "python",
   "name": "python3"
  },
  "language_info": {
   "codemirror_mode": {
    "name": "ipython",
    "version": 3
   },
   "file_extension": ".py",
   "mimetype": "text/x-python",
   "name": "python",
   "nbconvert_exporter": "python",
   "pygments_lexer": "ipython3",
   "version": "3.11.5"
  }
 },
 "nbformat": 4,
 "nbformat_minor": 2
}
