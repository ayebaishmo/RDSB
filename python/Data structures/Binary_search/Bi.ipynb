{
 "cells": [
  {
   "cell_type": "code",
   "execution_count": 4,
   "metadata": {},
   "outputs": [],
   "source": [
    "class Node:\n",
    "    def __init__(self, d):\n",
    "        self.data = d\n",
    "        self.left = None\n",
    "        self.right = None\n",
    "    \n",
    "root = Node(2)\n",
    "\n",
    "\n",
    "\n",
    "# connect the node \n",
    "root.left = Node(3)\n",
    "root.right = Node(4)\n",
    "root.left.left = Node(5)"
   ]
  },
  {
   "cell_type": "code",
   "execution_count": 5,
   "metadata": {},
   "outputs": [],
   "source": [
    "# Pre-order DFS: Root, Left, Right\n",
    "\n",
    "def pre_order_dfs(node):\n",
    "    if node is None:\n",
    "        return\n",
    "    print(node.data, end=\" \")\n",
    "    pre_order_dfs(node.left)\n",
    "    pre_order_dfs(node.right)"
   ]
  },
  {
   "cell_type": "code",
   "execution_count": 6,
   "metadata": {},
   "outputs": [
    {
     "name": "stdout",
     "output_type": "stream",
     "text": [
      "2 3 5 4 None\n"
     ]
    }
   ],
   "source": [
    "print(pre_order_dfs(root))"
   ]
  },
  {
   "cell_type": "code",
   "execution_count": null,
   "metadata": {},
   "outputs": [],
   "source": []
  }
 ],
 "metadata": {
  "kernelspec": {
   "display_name": "RDSB-5U8ITK5B",
   "language": "python",
   "name": "python3"
  },
  "language_info": {
   "codemirror_mode": {
    "name": "ipython",
    "version": 3
   },
   "file_extension": ".py",
   "mimetype": "text/x-python",
   "name": "python",
   "nbconvert_exporter": "python",
   "pygments_lexer": "ipython3",
   "version": "3.11.5"
  }
 },
 "nbformat": 4,
 "nbformat_minor": 2
}
