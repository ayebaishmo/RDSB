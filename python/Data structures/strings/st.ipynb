{
 "cells": [
  {
   "cell_type": "code",
   "execution_count": 2,
   "metadata": {},
   "outputs": [],
   "source": [
    "s = \"Ishmael\""
   ]
  },
  {
   "cell_type": "code",
   "execution_count": 9,
   "metadata": {},
   "outputs": [
    {
     "name": "stdout",
     "output_type": "stream",
     "text": [
      "I\n",
      "s\n",
      "l\n",
      "e\n"
     ]
    }
   ],
   "source": [
    "# Accseessing elements \n",
    "first_letter = s[0]\n",
    "second_letter = s[1]\n",
    "last_letter = s[-1]\n",
    "second_last = s[-2]\n",
    "print(first_letter)\n",
    "print(second_letter)\n",
    "print(last_letter)\n",
    "print(second_last)"
   ]
  },
  {
   "cell_type": "code",
   "execution_count": 8,
   "metadata": {},
   "outputs": [
    {
     "name": "stdout",
     "output_type": "stream",
     "text": [
      "Hey\n",
      "Ishmael how are You\n",
      "doing\n"
     ]
    }
   ],
   "source": [
    "# Multline sytring \n",
    "mult_s = \"\"\"Hey\n",
    "Ishmael how are You\n",
    "doing\"\"\"\n",
    "print(mult_s)"
   ]
  },
  {
   "cell_type": "code",
   "execution_count": 13,
   "metadata": {},
   "outputs": [
    {
     "name": "stdout",
     "output_type": "stream",
     "text": [
      "shm\n",
      "Ish\n",
      "mael\n"
     ]
    }
   ],
   "source": [
    "# slicing a string \n",
    "# retrives charsct from 1 to 3\n",
    "print(s[1:4])\n",
    "# retrives charsct from beggining to 2\n",
    "print(s[:3])\n",
    "# retrives charsct from 3 to end\n",
    "print(s[3:])"
   ]
  },
  {
   "cell_type": "code",
   "execution_count": null,
   "metadata": {},
   "outputs": [
    {
     "name": "stdout",
     "output_type": "stream",
     "text": [
      "pshmael\n"
     ]
    }
   ],
   "source": [
    "# strings are iimutable \n",
    "# we have to use conct and slicing or formarting to create a new song \n",
    "# updating a string \n",
    "s = \"p\" + s[1:]\n",
    "print(s)"
   ]
  },
  {
   "cell_type": "code",
   "execution_count": 17,
   "metadata": {},
   "outputs": [
    {
     "data": {
      "text/plain": [
       "'hello geeks of geekss'"
      ]
     },
     "execution_count": 17,
     "metadata": {},
     "output_type": "execute_result"
    }
   ],
   "source": [
    "# replace string \n",
    "s = \"hello geeks\"\n",
    "\n",
    "s2 = s.replace(\"geek\", \"geeks of geeks\")\n",
    "s2"
   ]
  },
  {
   "cell_type": "code",
   "execution_count": 19,
   "metadata": {},
   "outputs": [
    {
     "data": {
      "text/plain": [
       "11"
      ]
     },
     "execution_count": 19,
     "metadata": {},
     "output_type": "execute_result"
    }
   ],
   "source": [
    "# length of string \n",
    "len(s)"
   ]
  },
  {
   "cell_type": "code",
   "execution_count": 20,
   "metadata": {},
   "outputs": [
    {
     "data": {
      "text/plain": [
       "'HELLO GEEKS'"
      ]
     },
     "execution_count": 20,
     "metadata": {},
     "output_type": "execute_result"
    }
   ],
   "source": [
    "# string methods \n",
    "s.upper()"
   ]
  },
  {
   "cell_type": "code",
   "execution_count": 21,
   "metadata": {},
   "outputs": [
    {
     "data": {
      "text/plain": [
       "'hello geeks'"
      ]
     },
     "execution_count": 21,
     "metadata": {},
     "output_type": "execute_result"
    }
   ],
   "source": [
    "s.lower()"
   ]
  },
  {
   "cell_type": "code",
   "execution_count": 27,
   "metadata": {},
   "outputs": [
    {
     "name": "stdout",
     "output_type": "stream",
     "text": [
      "Ishmael\n"
     ]
    }
   ],
   "source": [
    "# to remove space \n",
    "s = \"      Ishmael      \"\n",
    "print(s.strip())\n"
   ]
  },
  {
   "cell_type": "code",
   "execution_count": 30,
   "metadata": {},
   "outputs": [
    {
     "data": {
      "text/plain": [
       "'POLlap'"
      ]
     },
     "execution_count": 30,
     "metadata": {},
     "output_type": "execute_result"
    }
   ],
   "source": [
    "# concatinating string \n",
    "s = \"POL\"\n",
    "n = \"lap\"\n",
    "con = s + n\n",
    "con"
   ]
  },
  {
   "cell_type": "code",
   "execution_count": 32,
   "metadata": {},
   "outputs": [
    {
     "name": "stdout",
     "output_type": "stream",
     "text": [
      "Ishmael is a Data scientist at Absa Bank of Uganda\n"
     ]
    }
   ],
   "source": [
    "# Include variable is string \n",
    "s = \"Data scientist\"\n",
    "n = \"Ishmael\" \n",
    "\n",
    "print(f\"{n} is a {s} at Absa Bank of Uganda\")"
   ]
  },
  {
   "cell_type": "code",
   "execution_count": null,
   "metadata": {},
   "outputs": [],
   "source": []
  }
 ],
 "metadata": {
  "kernelspec": {
   "display_name": "RDSB-5U8ITK5B",
   "language": "python",
   "name": "python3"
  },
  "language_info": {
   "codemirror_mode": {
    "name": "ipython",
    "version": 3
   },
   "file_extension": ".py",
   "mimetype": "text/x-python",
   "name": "python",
   "nbconvert_exporter": "python",
   "pygments_lexer": "ipython3",
   "version": "3.11.5"
  }
 },
 "nbformat": 4,
 "nbformat_minor": 2
}
