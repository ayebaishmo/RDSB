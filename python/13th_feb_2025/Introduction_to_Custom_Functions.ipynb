{
  "cells": [
    {
      "cell_type": "markdown",
      "metadata": {
        "id": "TaZ1zWiOfufI"
      },
      "source": [
        "##Learning Objectives\n",
        "1. Write and call custom Python functions.\n",
        "2. Explain the anatomy of functions, including arguments and the return.\n",
        "3. Complete simple programmatic tasks with the use of custom functions."
      ]
    },
    {
      "cell_type": "markdown",
      "metadata": {
        "id": "AeVVgboIgDPz"
      },
      "source": [
        "##Intro to Custom Functions\n",
        "So far in this course, we have been using built-in Python functions. These are functions that are included with Python. In this lesson, you will learn to write your very own custom functions!"
      ]
    },
    {
      "cell_type": "markdown",
      "metadata": {
        "id": "IveKRryxgMnf"
      },
      "source": [
        "**Key Terms**\n",
        "\n",
        "1. custom function\n",
        "2. define\n",
        "3. call\n",
        "4. argument\n",
        "5. return\n",
        "6. positional argument\n",
        "7. keyword argument\n",
        "8. scope\n"
      ]
    },
    {
      "cell_type": "markdown",
      "metadata": {
        "id": "ATYew1hZjuFV"
      },
      "source": [
        "**Functions**\n",
        "\n",
        "A function is a block of code that can be activated (called) to complete a task. It can be a single step or many steps. and functions are useful when handling a repetitive or specific task. You have already used several built-in functions this week."
      ]
    },
    {
      "cell_type": "markdown",
      "metadata": {
        "id": "XYapDtRPj4ZP"
      },
      "source": [
        "**Why Write Custom Functions?**\n",
        "\n",
        "Writing custom functions can make your code more efficient. As you start writing more complex code, you will want to be able to call upon repetitive tasks without having to rewrite every step of the process again and again. The use of custom functions will make your code clean and professional.\n",
        "\n",
        "As with anything, focus on understanding the basic anatomy of the function. If you start with easier tasks, you will be able to build up your function-writing skills throughout the program."
      ]
    },
    {
      "cell_type": "markdown",
      "metadata": {
        "id": "QruvnItekDhu"
      },
      "source": [
        "**Custom Functions**\n",
        "\n",
        "You will need to consider several components of a function, including\n",
        "\n",
        "1. What do you want your function to do?\n",
        "2. What information will your function need to complete its task?\n",
        "3. What will you name your function?"
      ]
    },
    {
      "cell_type": "markdown",
      "metadata": {
        "id": "hTZINXKJkNOh"
      },
      "source": [
        "For example, maybe we want to write a custom function that will subtract one number from another. To do this, we will need to provide those numbers to the function as arguments. We can call this function return_difference (it is helpful to name your function according to what it is going to do!). Whenever we want to complete this operation in the future, we can use this function instead of writing out the code again. (This becomes more valuable as our code gets more complex)."
      ]
    },
    {
      "cell_type": "markdown",
      "metadata": {
        "id": "DBkfFhIAkQTO"
      },
      "source": [
        "**Defining a Function**\n",
        "\n",
        "To define a function, we always start with the keyword \"def\" followed by the function name. All functions are followed by parenthesis() which contain the required arguments. The number of arguments can vary, but our example has two."
      ]
    },
    {
      "cell_type": "code",
      "execution_count": 1,
      "metadata": {
        "id": "-zLMXlvBj3-o"
      },
      "outputs": [],
      "source": [
        "# define a custom function to subtract one value from another\n",
        "def return_difference(a, b):\n",
        "  return a - b"
      ]
    },
    {
      "cell_type": "markdown",
      "metadata": {
        "id": "5eH85hPnkfr0"
      },
      "source": [
        "When you run the above code, you do not get any output. You have only defined the function at this point. You haven't called the function yet. Let's enter values as our arguments for a and b and then call our function!"
      ]
    },
    {
      "cell_type": "code",
      "execution_count": 2,
      "metadata": {
        "colab": {
          "base_uri": "https://localhost:8080/"
        },
        "id": "eYNfGZzNfyWD",
        "outputId": "0e79e98b-85bb-46b9-a3ac-db02ce6f05ad"
      },
      "outputs": [
        {
          "data": {
            "text/plain": [
              "5"
            ]
          },
          "execution_count": 2,
          "metadata": {},
          "output_type": "execute_result"
        }
      ],
      "source": [
        "# call our custom function\n",
        "return_difference(8, 3)"
      ]
    },
    {
      "cell_type": "markdown",
      "metadata": {
        "id": "CxSWpCAAklI4"
      },
      "source": [
        "**Positional arguments**\n",
        "\n",
        "Our function was defined with two positional arguments which we happened to call \"a\" and \"b\". We could use any names for these arguments. The function recognizes these arguments based on their position when the function is called.\n",
        "\n",
        "We can also use variables when we call our function. These variables do NOT need to be the same name as the argument names used when we defined the function. In our example below we put cars as the first positional argument, followed by trucks."
      ]
    },
    {
      "cell_type": "code",
      "execution_count": 3,
      "metadata": {
        "colab": {
          "base_uri": "https://localhost:8080/"
        },
        "id": "_paTWNVVkhuQ",
        "outputId": "2e7f66c7-30ef-4643-a36e-03c39255a488"
      },
      "outputs": [
        {
          "data": {
            "text/plain": [
              "20"
            ]
          },
          "execution_count": 3,
          "metadata": {},
          "output_type": "execute_result"
        }
      ],
      "source": [
        "# Define variables\n",
        "cars = 30\n",
        "trucks = 10\n",
        "return_difference(cars, trucks)"
      ]
    },
    {
      "cell_type": "markdown",
      "metadata": {
        "id": "3UOB7yBlk0Ti"
      },
      "source": [
        "What do you think the output would be if we switched the order of our arguments when we called the function? Give it a try:"
      ]
    },
    {
      "cell_type": "code",
      "execution_count": 4,
      "metadata": {
        "id": "8Y9AKQCKkwNO"
      },
      "outputs": [
        {
          "data": {
            "text/plain": [
              "-20"
            ]
          },
          "execution_count": 4,
          "metadata": {},
          "output_type": "execute_result"
        }
      ],
      "source": [
        "return_difference(trucks, cars)"
      ]
    },
    {
      "cell_type": "markdown",
      "metadata": {
        "id": "jr_0XxEnk3tn"
      },
      "source": [
        "Note that with positional arguments, the order or position is important!"
      ]
    },
    {
      "cell_type": "markdown",
      "metadata": {
        "id": "nDhTliTKk7gL"
      },
      "source": [
        "**Return**\n",
        "\n",
        "When we \"return\" a result, that result can be stored in a variable and manipulated outside of the function's scope.\n",
        "\n",
        "Notice here that we are going to declare a variable c that points to our function's return:"
      ]
    },
    {
      "cell_type": "markdown",
      "metadata": {
        "id": "3U_hIW0VlJCD"
      },
      "source": [
        "Let's define another function and for the sake of demonstration, let's see what happens when we omit the return statement.\n",
        "\n",
        "This time, we want our function to convert Fahrenheit to Celsius. We also want to round our Celsius temperature so it only has two decimal places."
      ]
    },
    {
      "cell_type": "code",
      "execution_count": 9,
      "metadata": {
        "id": "ahsyA2e6k4hB"
      },
      "outputs": [],
      "source": [
        "#Custom function to calculate celsius from fahrenheit\n",
        "\n",
        "def covert_f_to_c(f_temp):\n",
        "    c_temp = (f_temp - 32) * (5/9)"
      ]
    },
    {
      "cell_type": "code",
      "execution_count": 10,
      "metadata": {
        "id": "xLUNqKoIlMxd"
      },
      "outputs": [],
      "source": [
        "# Test the function with no return statement\n",
        "covert_f_to_c(90)"
      ]
    },
    {
      "cell_type": "markdown",
      "metadata": {
        "id": "YD3QOWkuldUz"
      },
      "source": [
        "Notice that there is simply no output. You do not get an error statement, but you just don't get any results.\n",
        "\n",
        "Note that we need to use a return statement at the end of our function, followed by the variable(s) that we want to use outside of the function. If we do not add a return statement, the variable that contains our converted temperature (c_temp) will be deleted once the function has finished, and we will not be able to retrieve our converted temperature.\n",
        "\n",
        "Let's include the return statement:"
      ]
    },
    {
      "cell_type": "code",
      "execution_count": 11,
      "metadata": {
        "id": "XUxgZZf4laZQ"
      },
      "outputs": [],
      "source": [
        "# Custom function to calculate celsius from fahrenheit with return statement\n",
        "\n",
        "def return_difference(f_temp):\n",
        "    c_temp = (f_temp - 32) * (5/9)\n",
        "    return round(c_temp, 2)"
      ]
    },
    {
      "cell_type": "code",
      "execution_count": 12,
      "metadata": {
        "id": "Nyg4Il7-lghA"
      },
      "outputs": [
        {
          "data": {
            "text/plain": [
              "32.22"
            ]
          },
          "execution_count": 12,
          "metadata": {},
          "output_type": "execute_result"
        }
      ],
      "source": [
        "# Test the function with the return statement\n",
        "return_difference(90)"
      ]
    },
    {
      "cell_type": "markdown",
      "metadata": {
        "id": "qHMLzO4Xlpry"
      },
      "source": [
        "    **Scope**\n",
        "\n",
        "    The concept of a function having its own internal variable names that are separate from the notebook is called \"scope.\"\n",
        "\n",
        "    What happens if we try to print the value for a variable that was defined only within the function?"
      ]
    },
    {
      "cell_type": "code",
      "execution_count": 17,
      "metadata": {
        "id": "iCaqkzwXllzB"
      },
      "outputs": [
        {
          "name": "stdout",
          "output_type": "stream",
          "text": [
            "10\n"
          ]
        }
      ],
      "source": [
        "# Try to print variable from within function\n",
        "\n",
        "def add():\n",
        "    c = 10\n",
        "    print(c)\n",
        "\n",
        "add()"
      ]
    },
    {
      "cell_type": "markdown",
      "metadata": {
        "id": "_JGJTrg-lvU7"
      },
      "source": [
        "Even with the return statement, we can't access a variable from within the function without saving the output of the function in our notebook.\n",
        "\n",
        "To save the information in a variable for use outside the function, declare a variable that points to the output of the function."
      ]
    },
    {
      "cell_type": "code",
      "execution_count": 18,
      "metadata": {
        "id": "yWu_68vclswg"
      },
      "outputs": [
        {
          "data": {
            "text/plain": [
              "10"
            ]
          },
          "execution_count": 18,
          "metadata": {},
          "output_type": "execute_result"
        }
      ],
      "source": [
        "# Store results of a function in a variable\n",
        "def add():\n",
        "    c = 10\n",
        "    return c\n",
        "\n",
        "new = add()\n",
        "new"
      ]
    },
    {
      "cell_type": "markdown",
      "metadata": {
        "id": "mayEt7qbl2mR"
      },
      "source": [
        "Now that we have stored the output in a variable, we can call that variable when needed such as in a print statement:"
      ]
    },
    {
      "cell_type": "code",
      "execution_count": 19,
      "metadata": {
        "id": "EEVvhodQlypd"
      },
      "outputs": [
        {
          "name": "stdout",
          "output_type": "stream",
          "text": [
            "10\n"
          ]
        }
      ],
      "source": [
        "print(new)"
      ]
    },
    {
      "cell_type": "markdown",
      "metadata": {
        "id": "DMHOIX6Ql8zN"
      },
      "source": [
        "**Flexible Functions with conditional statements**\n",
        "\n",
        "When defining a function, we can also include additional arguments to add flexibility to our function. Here we will make a new function that can be used to print either the minimum OR maximum temperature.\n",
        "\n",
        "First, we will define a list of temperatures to use as a test for our function."
      ]
    },
    {
      "cell_type": "code",
      "execution_count": 34,
      "metadata": {},
      "outputs": [],
      "source": [
        "del max"
      ]
    },
    {
      "cell_type": "code",
      "execution_count": 35,
      "metadata": {
        "id": "tV5igSUBl4it"
      },
      "outputs": [
        {
          "data": {
            "text/plain": [
              "60"
            ]
          },
          "execution_count": 35,
          "metadata": {},
          "output_type": "execute_result"
        }
      ],
      "source": [
        "# define a list of temperatures\n",
        "week_1 = [45, 55, 49, 60, 52, 55, 58]\n",
        "def max_min(temp_list, temp_type=\"min\"):\n",
        "    if temp_type == \"min\":\n",
        "        return(min(temp_list))\n",
        "    elif temp_type == \"max\":\n",
        "        return(max(temp_list))\n",
        "    else:\n",
        "        return(\"None\")\n",
        "    \n",
        "max_min(week_1, \"max\")\n"
      ]
    },
    {
      "cell_type": "markdown",
      "metadata": {
        "id": "KO0ipdihmKQt"
      },
      "source": [
        "Now let's define a function called \"extremes\". In the first version of the function, we will just have it print both the minimum and maximum values. Here we start with just printing the minimum value."
      ]
    },
    {
      "cell_type": "code",
      "execution_count": 36,
      "metadata": {
        "id": "Ir-CxNwrmBd0"
      },
      "outputs": [],
      "source": [
        "# Define a function to print the minimum temperature\n",
        "def extremes(temps):\n",
        "  min_temp = min(temps)\n",
        "  print(f'The minimum temperature was {min_temp}.')"
      ]
    },
    {
      "cell_type": "markdown",
      "metadata": {
        "id": "RyZOm00pmdK1"
      },
      "source": [
        "Now let's test our function on our list of temperatures called week_1"
      ]
    },
    {
      "cell_type": "code",
      "execution_count": 37,
      "metadata": {
        "colab": {
          "base_uri": "https://localhost:8080/"
        },
        "id": "QhVzek-TmVb1",
        "outputId": "b78cffe5-bb64-4ada-9705-d43849ce3854"
      },
      "outputs": [
        {
          "name": "stdout",
          "output_type": "stream",
          "text": [
            "The minimum temperature was 45.\n"
          ]
        }
      ],
      "source": [
        "# Test our function\n",
        "extremes(week_1)"
      ]
    },
    {
      "cell_type": "markdown",
      "metadata": {
        "id": "92b5ZVGAmi2N"
      },
      "source": [
        "Now let's add the code to also print the maximum temperature."
      ]
    },
    {
      "cell_type": "code",
      "execution_count": 38,
      "metadata": {
        "id": "buC1KLuQmfg_"
      },
      "outputs": [],
      "source": [
        "# Define a function to print the minimum temperature\n",
        "def extremes(temps):\n",
        "  min_temp = min(temps)\n",
        "  print(f'The minimum temperature was {min_temp}.')\n",
        "  max_temp = max(temps)\n",
        "  print(f'The maximum temperature was {max_temp}.')\n"
      ]
    },
    {
      "cell_type": "markdown",
      "metadata": {
        "id": "3C8RryOPmnIo"
      },
      "source": [
        "Let's test again:"
      ]
    },
    {
      "cell_type": "code",
      "execution_count": 39,
      "metadata": {
        "colab": {
          "base_uri": "https://localhost:8080/"
        },
        "id": "Yox4ujxJmk2N",
        "outputId": "16ad99ad-1375-4bfd-9e9f-778772c4d040"
      },
      "outputs": [
        {
          "name": "stdout",
          "output_type": "stream",
          "text": [
            "The minimum temperature was 45.\n",
            "The maximum temperature was 60.\n"
          ]
        }
      ],
      "source": [
        "# Test our function\n",
        "extremes(week_1)"
      ]
    },
    {
      "cell_type": "markdown",
      "metadata": {
        "id": "Q2S5gTrqmsH5"
      },
      "source": [
        "Ok, great! At this point, we have the foundation for the function, but now we want to add the flexibility to choose whether we get the minimum or the maximum.\n",
        "\n",
        "We will add a second argument to the function and then use conditional statements (if statements) within the function to follow based on the information provided. In this case, we will name the second argument \"direction.\" We will give two options here, either 'maximum' or 'minimum'."
      ]
    },
    {
      "cell_type": "code",
      "execution_count": 40,
      "metadata": {
        "id": "bRlexCl7mpHy"
      },
      "outputs": [],
      "source": [
        "# Add an rgument to the function to choose the minimum or the maximum\n",
        "\n",
        "def max_min(temp_list, direction = \"minmum\"):\n",
        "    if direction == \"minmum\":\n",
        "        return min(temp_list)\n",
        "    elif direction == \"maximum\":\n",
        "        return max(temp_list)\n",
        "    else:\n",
        "        return \"Invalid\""
      ]
    },
    {
      "cell_type": "markdown",
      "metadata": {
        "id": "KptC6Xtim2l8"
      },
      "source": [
        "Now the result of our function will depend on whether we call it using the 'maximum' or 'minimum' for the direction argument."
      ]
    },
    {
      "cell_type": "code",
      "execution_count": 43,
      "metadata": {
        "id": "qKn1eQbmm0Cz"
      },
      "outputs": [
        {
          "data": {
            "text/plain": [
              "60"
            ]
          },
          "execution_count": 43,
          "metadata": {},
          "output_type": "execute_result"
        }
      ],
      "source": [
        "# Call the function using the 'maximum' argument\n",
        "max_min(week_1, \"maximum\")"
      ]
    },
    {
      "cell_type": "markdown",
      "metadata": {
        "id": "BSIXm1Tmm7Iw"
      },
      "source": [
        "Great, now let's test our other option. This time we add clarity by including the argument name when we call our function (direction = 'minimum'.) Including the argument name here is optional, but can make the code easier to follow if there are many arguments."
      ]
    },
    {
      "cell_type": "code",
      "execution_count": 44,
      "metadata": {
        "colab": {
          "base_uri": "https://localhost:8080/"
        },
        "id": "gUozgYr_m4xz",
        "outputId": "48fcc862-8236-4a55-ae34-fb3450fd5e30"
      },
      "outputs": [
        {
          "data": {
            "text/plain": [
              "45"
            ]
          },
          "execution_count": 44,
          "metadata": {},
          "output_type": "execute_result"
        }
      ],
      "source": [
        "# Call the function using the 'minimum' argument\n",
        "max_min(week_1, \"minmum\")"
      ]
    },
    {
      "cell_type": "markdown",
      "metadata": {
        "id": "L6zMd96TnBrk"
      },
      "source": [
        "Ok, it looks like we now have a flexible function!\n",
        "\n",
        "Let's see what happens if we try entering something other than \"minimum\" or \"maximum\" for the second argument:"
      ]
    },
    {
      "cell_type": "code",
      "execution_count": 45,
      "metadata": {
        "colab": {
          "base_uri": "https://localhost:8080/"
        },
        "id": "xwuN8u6cm9PO",
        "outputId": "52ad8e17-0978-4af2-930c-ddd91768436b"
      },
      "outputs": [
        {
          "data": {
            "text/plain": [
              "'Invalid'"
            ]
          },
          "execution_count": 45,
          "metadata": {},
          "output_type": "execute_result"
        }
      ],
      "source": [
        "# Call the function with a different argument\n",
        "max_min(week_1, \"lo\")\n"
      ]
    },
    {
      "cell_type": "markdown",
      "metadata": {
        "id": "xMDFn-7-nHYY"
      },
      "source": [
        "What happens if we only call this function with one argument?"
      ]
    },
    {
      "cell_type": "code",
      "execution_count": 47,
      "metadata": {
        "id": "1fIzDmkEnE8a"
      },
      "outputs": [
        {
          "data": {
            "text/plain": [
              "45"
            ]
          },
          "execution_count": 47,
          "metadata": {},
          "output_type": "execute_result"
        }
      ],
      "source": [
        "# Call the function with only the first argument\n",
        "max_min(week_1)\n"
      ]
    },
    {
      "cell_type": "markdown",
      "metadata": {
        "id": "SBsE-igInL4e"
      },
      "source": [
        "As you can see, both positional arguments are required when calling this function. In this case, the error message is surprisingly clear indicating \"extremes() missing 1 required positional argument: 'direction'\"."
      ]
    },
    {
      "cell_type": "markdown",
      "metadata": {
        "id": "dqp4dV9ynPIx"
      },
      "source": [
        "**Keyword Argument**\n",
        "\n",
        "An alternative approach to adding a positional argument is adding a keyword argument instead. Unlike a positional argument,\n",
        "\n",
        "1. A keyword argument has a default value.\n",
        "2. A keyword argument is not required when called.\n",
        "\n",
        "We will demonstrate a keyword argument by setting 'minimum' as our default option. In the definition of the function we have added\n",
        "\n",
        "direction = 'minimum'"
      ]
    },
    {
      "cell_type": "code",
      "execution_count": 48,
      "metadata": {
        "id": "L8F4X4CUnJOd"
      },
      "outputs": [],
      "source": [
        "# Make direction a keyword argument with default value of \"minimum\"\n",
        "def extremes(temps, direction = 'minimum'):\n",
        "  if direction == 'minimum':\n",
        "    min_temp = min(temps)\n",
        "    print(f'The minimum temperature was {min_temp}.')\n",
        "  elif direction == 'maximum':\n",
        "    max_temp = max(temps)\n",
        "    print(f'The maximum temperature was {max_temp}.')\n",
        "  else:\n",
        "    print('The second argument defaults to \"minimum\" or can be \"maximum\".')"
      ]
    },
    {
      "cell_type": "markdown",
      "metadata": {
        "id": "JsuAKjxNncCs"
      },
      "source": [
        "Now, let's test our function:"
      ]
    },
    {
      "cell_type": "code",
      "execution_count": 49,
      "metadata": {
        "colab": {
          "base_uri": "https://localhost:8080/"
        },
        "id": "lXTTBrrZnYwn",
        "outputId": "6692c340-e6db-4430-a4a8-60112b1989a0"
      },
      "outputs": [
        {
          "name": "stdout",
          "output_type": "stream",
          "text": [
            "The minimum temperature was 45.\n"
          ]
        }
      ],
      "source": [
        "# Test by specifying 'minimum'\n",
        "extremes(week_1, direction = 'minimum')"
      ]
    },
    {
      "cell_type": "code",
      "execution_count": 50,
      "metadata": {
        "colab": {
          "base_uri": "https://localhost:8080/"
        },
        "id": "99uBPL4ungEQ",
        "outputId": "915782da-96e1-4c46-c5a4-d9a9272916fc"
      },
      "outputs": [
        {
          "name": "stdout",
          "output_type": "stream",
          "text": [
            "The maximum temperature was 60.\n"
          ]
        }
      ],
      "source": [
        "# Test by specifying 'maximum'\n",
        "extremes(week_1, direction = 'maximum')"
      ]
    },
    {
      "cell_type": "markdown",
      "metadata": {
        "id": "4C4tFgmknxt6"
      },
      "source": [
        "So far, our function works just as it did before. We will now demonstrate what happens when we omit the second argument:"
      ]
    },
    {
      "cell_type": "code",
      "execution_count": 51,
      "metadata": {
        "colab": {
          "base_uri": "https://localhost:8080/"
        },
        "id": "Y84_ku8-ni9A",
        "outputId": "a7c8193c-a132-4f37-ded4-0f0a13259878"
      },
      "outputs": [
        {
          "name": "stdout",
          "output_type": "stream",
          "text": [
            "The minimum temperature was 45.\n"
          ]
        }
      ],
      "source": [
        "# Test default by omitting second argument\n",
        "extremes(week_1)"
      ]
    },
    {
      "cell_type": "markdown",
      "metadata": {
        "id": "7N3aYKS1n8X0"
      },
      "source": [
        "Here we get the result of the default being \"minimum\" without having to specify it when we call the function. Recall, that this would have caused an error when the second argument was positional and no default was set."
      ]
    },
    {
      "cell_type": "markdown",
      "metadata": {
        "id": "cgKm93SuoAgD"
      },
      "source": [
        "**Summary**\n",
        "\n",
        "Writing custom functions is a valuable skill to increase the efficiency and professionalism of your code. In this lesson, you learned the terminology associated with a function and learned to write simple functions. You also learned how to add flexibility to a function by using additional arguments with conditional statements. You learned how to include a keyword argument to set a default value for an argument. We will continue to build on these concepts in the next lesson.\n",
        "\n"
      ]
    },
    {
      "cell_type": "markdown",
      "metadata": {
        "id": "iSgat6hyoFKY"
      },
      "source": [
        "**Tips for Success**\n",
        "\n",
        "When writing complex functions, start simple, and test each step as you go!"
      ]
    },
    {
      "cell_type": "markdown",
      "metadata": {
        "id": "jP7IC0PUoKKX"
      },
      "source": [
        "**Additional Resources**\n",
        "\n",
        "1. [Python Cheat Sheet: Python Functions](https://www.pythoncheatsheet.org/cheatsheet/functions)\n",
        "2. [W3Schools: Python Functions](https://www.w3schools.com/python/python_functions.asp)"
      ]
    }
  ],
  "metadata": {
    "colab": {
      "provenance": []
    },
    "kernelspec": {
      "display_name": "RDSB-5U8ITK5B",
      "language": "python",
      "name": "python3"
    },
    "language_info": {
      "codemirror_mode": {
        "name": "ipython",
        "version": 3
      },
      "file_extension": ".py",
      "mimetype": "text/x-python",
      "name": "python",
      "nbconvert_exporter": "python",
      "pygments_lexer": "ipython3",
      "version": "3.11.5"
    }
  },
  "nbformat": 4,
  "nbformat_minor": 0
}
