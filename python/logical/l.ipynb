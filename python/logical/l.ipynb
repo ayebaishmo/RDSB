{
 "cells": [
  {
   "cell_type": "code",
   "execution_count": 13,
   "metadata": {},
   "outputs": [
    {
     "name": "stdout",
     "output_type": "stream",
     "text": [
      "These are the negative, [-1, -1, -9], and these the positive, [1, 5, 7]\n"
     ]
    }
   ],
   "source": [
    "# Check if number is negative or positive \n",
    "def positive_or_negative(my_list):\n",
    "    negative = []\n",
    "    positive = []\n",
    "    for number in my_list:\n",
    "        if  number > 0:\n",
    "            positive.append(number)\n",
    "        elif number < 0:\n",
    "            negative.append(number)\n",
    "        else:\n",
    "            print(\"The number is neither a negative nor positive\")\n",
    "    return(f\"These are the negative, {negative}, and these the positive, {positive}\")\n",
    "\n",
    "numbers = [1, -1, 5, -1, 7, -9]\n",
    "print(positive_or_negative(numbers))"
   ]
  },
  {
   "cell_type": "code",
   "execution_count": 24,
   "metadata": {},
   "outputs": [
    {
     "name": "stdout",
     "output_type": "stream",
     "text": [
      "1 * 5 = 5\n",
      "2 * 5 = 10\n",
      "3 * 5 = 15\n",
      "4 * 5 = 20\n",
      "5 * 5 = 25\n",
      "6 * 5 = 30\n",
      "7 * 5 = 35\n",
      "8 * 5 = 40\n",
      "9 * 5 = 45\n",
      "10 * 5 = 50\n"
     ]
    }
   ],
   "source": [
    "def multiplcation_table(n):\n",
    "    result = []\n",
    "    for x in range(1, 11):\n",
    "        p = x * n\n",
    "        result.append(f\"{x} * {n} = {p}\")\n",
    "    return \"\\n\".join(result)\n",
    "print(multiplcation_table(5))"
   ]
  },
  {
   "cell_type": "code",
   "execution_count": null,
   "metadata": {},
   "outputs": [],
   "source": []
  }
 ],
 "metadata": {
  "kernelspec": {
   "display_name": "RDSB-5U8ITK5B",
   "language": "python",
   "name": "python3"
  },
  "language_info": {
   "codemirror_mode": {
    "name": "ipython",
    "version": 3
   },
   "file_extension": ".py",
   "mimetype": "text/x-python",
   "name": "python",
   "nbconvert_exporter": "python",
   "pygments_lexer": "ipython3",
   "version": "3.11.5"
  }
 },
 "nbformat": 4,
 "nbformat_minor": 2
}
