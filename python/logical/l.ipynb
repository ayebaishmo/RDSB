{
 "cells": [
  {
   "cell_type": "code",
   "execution_count": 1,
   "metadata": {},
   "outputs": [
    {
     "name": "stdout",
     "output_type": "stream",
     "text": [
      "These are the negative, [-1, -1, -9], and these the positive, [1, 5, 7]\n"
     ]
    }
   ],
   "source": [
    "# Check if number is negative or positive \n",
    "def positive_or_negative(my_list):\n",
    "    negative = []\n",
    "    positive = []\n",
    "    for number in my_list:\n",
    "        if  number > 0:\n",
    "            positive.append(number)\n",
    "        elif number < 0:\n",
    "            negative.append(number)\n",
    "        else:\n",
    "            print(\"The number is neither a negative nor positive\")\n",
    "    return(f\"These are the negative, {negative}, and these the positive, {positive}\")\n",
    "\n",
    "numbers = [1, -1, 5, -1, 7, -9]\n",
    "print(positive_or_negative(numbers))"
   ]
  },
  {
   "cell_type": "code",
   "execution_count": 2,
   "metadata": {},
   "outputs": [
    {
     "name": "stdout",
     "output_type": "stream",
     "text": [
      "1 * 5 = 5\n",
      "2 * 5 = 10\n",
      "3 * 5 = 15\n",
      "4 * 5 = 20\n",
      "5 * 5 = 25\n",
      "6 * 5 = 30\n",
      "7 * 5 = 35\n",
      "8 * 5 = 40\n",
      "9 * 5 = 45\n",
      "10 * 5 = 50\n"
     ]
    }
   ],
   "source": [
    "def multiplcation_table(n):\n",
    "    result = []\n",
    "    for x in range(1, 11):\n",
    "        p = x * n\n",
    "        result.append(f\"{x} * {n} = {p}\")\n",
    "    return \"\\n\".join(result)\n",
    "print(multiplcation_table(5))"
   ]
  },
  {
   "cell_type": "code",
   "execution_count": 3,
   "metadata": {},
   "outputs": [
    {
     "data": {
      "text/plain": [
       "6"
      ]
     },
     "execution_count": 3,
     "metadata": {},
     "output_type": "execute_result"
    }
   ],
   "source": [
    "n = 3\n",
    "sum = n * (n+1) // 2\n",
    "sum"
   ]
  },
  {
   "cell_type": "code",
   "execution_count": 4,
   "metadata": {},
   "outputs": [
    {
     "name": "stdout",
     "output_type": "stream",
     "text": [
      "9 8\n"
     ]
    }
   ],
   "source": [
    "# swap two numbers \n",
    "x = 9 \n",
    "y = 8\n",
    "\n",
    "temp = x\n",
    "x = y\n",
    "x = temp\n",
    "\n",
    "print(x, y)"
   ]
  },
  {
   "cell_type": "code",
   "execution_count": 5,
   "metadata": {},
   "outputs": [
    {
     "name": "stdout",
     "output_type": "stream",
     "text": [
      "12\n"
     ]
    }
   ],
   "source": [
    "# Given two integers n and m (m != 0). Find the number closest to n and divisible by m. If there is more than one such number, then output the one having maximum absolute value.\\\n",
    "n = 13\n",
    "m = 4\n",
    "\n",
    "lower = (n // m) * m\n",
    "upper =  lower * m\n",
    "\n",
    "if abs(n - lower) > abs(n - upper):\n",
    "    print(upper)\n",
    "else:\n",
    "    print(lower)\n",
    "\n"
   ]
  },
  {
   "cell_type": "code",
   "execution_count": 17,
   "metadata": {},
   "outputs": [
    {
     "name": "stdout",
     "output_type": "stream",
     "text": [
      "21\n"
     ]
    }
   ],
   "source": [
    "# sunm of numbers\n",
    "n = 687\n",
    "sum = 0\n",
    "\n",
    "\n",
    "for x in str(n):\n",
    "    sum = sum + int(x)\n",
    "print(sum)"
   ]
  },
  {
   "cell_type": "code",
   "execution_count": 21,
   "metadata": {},
   "outputs": [
    {
     "name": "stdout",
     "output_type": "stream",
     "text": [
      "786\n"
     ]
    }
   ],
   "source": [
    "# reverseing a number \n",
    "number = str(n)\n",
    "s = list(number)\n",
    "s.reverse()\n",
    "print(''.join(s))"
   ]
  },
  {
   "cell_type": "code",
   "execution_count": 3,
   "metadata": {},
   "outputs": [
    {
     "data": {
      "text/plain": [
       "16"
      ]
     },
     "execution_count": 3,
     "metadata": {},
     "output_type": "execute_result"
    }
   ],
   "source": [
    "# power of number \n",
    "\n",
    "def power(number, power_number):\n",
    "    result = number ** power_number\n",
    "    return result\n",
    "\n",
    "power(2, 4)"
   ]
  },
  {
   "cell_type": "code",
   "execution_count": 7,
   "metadata": {},
   "outputs": [
    {
     "data": {
      "text/plain": [
       "5.0"
      ]
     },
     "execution_count": 7,
     "metadata": {},
     "output_type": "execute_result"
    }
   ],
   "source": [
    "# finding the distance between two points \n",
    "\n",
    "import math\n",
    "\n",
    "def distance(x, y, x_one, y_one):\n",
    "    result = math.sqrt((x_one - x)**2 + (y_one - y)**2)\n",
    "    return result\n",
    "\n",
    "distance(3, 4, 7, 7)"
   ]
  },
  {
   "cell_type": "code",
   "execution_count": null,
   "metadata": {},
   "outputs": [],
   "source": []
  }
 ],
 "metadata": {
  "kernelspec": {
   "display_name": "RDSB-5U8ITK5B",
   "language": "python",
   "name": "python3"
  },
  "language_info": {
   "codemirror_mode": {
    "name": "ipython",
    "version": 3
   },
   "file_extension": ".py",
   "mimetype": "text/x-python",
   "name": "python",
   "nbconvert_exporter": "python",
   "pygments_lexer": "ipython3",
   "version": "3.11.5"
  }
 },
 "nbformat": 4,
 "nbformat_minor": 2
}
