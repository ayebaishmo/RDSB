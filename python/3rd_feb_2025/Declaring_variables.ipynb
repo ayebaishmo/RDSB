{
  "cells": [
    {
      "cell_type": "code",
      "execution_count": null,
      "metadata": {
        "id": "63i3_0GjEby0"
      },
      "outputs": [],
      "source": []
    },
    {
      "cell_type": "markdown",
      "metadata": {
        "id": "0WgCGj_ZEhle"
      },
      "source": [
        "#Declaring Variables\n",
        "\n",
        "##Learning Objectives\n",
        "\n",
        "1.   Save an object with a variable.\n",
        "2.  Use variables, functions, and objects to complete a task.\n",
        "3.  Recognize the difference between immutable and mutable objects.\n",
        "4. Check and change the data type of a variable."
      ]
    },
    {
      "cell_type": "markdown",
      "metadata": {
        "id": "3RbQ3U5FE27i"
      },
      "source": [
        "#Declaring Variables\n",
        "\n",
        "Previoulsy, we viewed the output of each calculation but did not store it. Sometimes, we may just want to view the output, and don't need to save anything. However, more often, we will also need a way for Python to \"remember\" or save our objects so that we can use them later!"
      ]
    },
    {
      "cell_type": "markdown",
      "metadata": {
        "id": "fWUIjur6FB8N"
      },
      "source": [
        "## Variables\n",
        "\n",
        "We lose our objects if we don’t save them by assigning them to a variable. A variable is a pointer to an object. The actual location of an object is in computer memory, and Python needs a way to find the object again if we want to use it later. We point a variable at an object with the equals sign (=). This is called \"declaring\" or \"assigning\" a variable.\n",
        "\n",
        "(It’s important to remember that a single equals (=) assigns a variable; it does NOT mean that two things are equal in value. When we need to indicate mathematical equality, we will need to use two equals (== ) to indicate two things have the same value.)\n",
        "\n",
        "If an object does not have a variable that points to it, Python will delete it from memory. It’s very important to save your objects with variables if you want to use them later!\n",
        "\n",
        "To help demonstrate how this works, we will also need to be familiar with the print() function.\n",
        "\n",
        "print() is a function that simply displays whatever is passed to it. However, it does not return anything, so its output cannot be passed to another function. (This will make more sense as you continue through the course)."
      ]
    },
    {
      "cell_type": "markdown",
      "metadata": {
        "id": "UqA-XuyGFOKN"
      },
      "source": [
        "#Declaring a Variable\n",
        "\n",
        "We can save a value in a variable and use print() to look at the value that the variable currently points to.\n",
        "\n",
        "This is called declaring a variable.\n",
        "\n",
        "While we often think of variables as letters such as \"x\" or \"y\", we can name our variables as words or even phrases! Making your variable names make sense will be helpful as you and others try to follow your code. For example, you could name a variable as max_value or lowest_cost. Note that we commonly use the underscore for spaces within the name.\n",
        "\n",
        "Also, note that variable names are NOT strings and should NOT be surrounded by quotes!\n",
        "\n",
        "In the code below we will declare a variable, a and point it to the integer, 9."
      ]
    },
    {
      "cell_type": "code",
      "execution_count": 1,
      "metadata": {
        "colab": {
          "base_uri": "https://localhost:8080/"
        },
        "id": "ExrJkVGGEnjQ",
        "outputId": "cdb71ca1-1976-4789-eb0c-e96f2b441d66"
      },
      "outputs": [
        {
          "name": "stdout",
          "output_type": "stream",
          "text": [
            "9\n"
          ]
        }
      ],
      "source": [
        "# Run this cell to declare the variable and print what the variable 'a' points to.\n",
        "# Declare a variable, a, and point it to 9\n",
        "a = 9\n",
        "# Print the value that the variable a points to.\n",
        "print(a)"
      ]
    },
    {
      "cell_type": "markdown",
      "metadata": {
        "id": "PebaOhYWFZCs"
      },
      "source": [
        "Note that we asked Python to print a. Since a points to a 9, the print statement resulted in the output of 9.\n",
        "\n",
        "Declare a new variable, b and point it to the number 14."
      ]
    },
    {
      "cell_type": "code",
      "execution_count": 2,
      "metadata": {
        "colab": {
          "base_uri": "https://localhost:8080/"
        },
        "id": "-4DiU9qOFVPP",
        "outputId": "9ec93c09-cba8-4ad9-bf5f-bf05aa3d078d"
      },
      "outputs": [
        {
          "data": {
            "text/plain": [
              "14"
            ]
          },
          "execution_count": 2,
          "metadata": {},
          "output_type": "execute_result"
        }
      ],
      "source": [
        "# Declare a variable, b, and point it to the number 14\n",
        "b = 14\n",
        "b"
      ]
    },
    {
      "cell_type": "markdown",
      "metadata": {
        "id": "LxHBlnUNFfae"
      },
      "source": [
        "Now we are going to use the variables a and b that we declared in the previous cells. Make sure that you ran those code cells above or you will get an error.\n",
        "\n",
        "max(a, b) will return the maximum of the values that a and b point to. That returned value will then be stored when we declare the variable as \"max_value\"."
      ]
    },
    {
      "cell_type": "code",
      "execution_count": 3,
      "metadata": {
        "colab": {
          "base_uri": "https://localhost:8080/"
        },
        "id": "GuJCOhXWFbzw",
        "outputId": "24c4366d-4800-4555-b86e-093cfd33d971"
      },
      "outputs": [
        {
          "name": "stdout",
          "output_type": "stream",
          "text": [
            "14\n"
          ]
        }
      ],
      "source": [
        "# Run this cell to declare the variable max_value as the value that max(a,b) returns.\n",
        "# Remember that we declared variables a and b in previous cells.\n",
        "max_value = max(a, b)\n",
        "# Print the value that max_value points to.\n",
        "print(max_value)"
      ]
    },
    {
      "cell_type": "markdown",
      "metadata": {
        "id": "fKpjFROzFsmK"
      },
      "source": [
        "Try using the - operator to evaluate the difference between a and b. Declare this variable as difference. Be sure to print the result."
      ]
    },
    {
      "cell_type": "code",
      "execution_count": 4,
      "metadata": {
        "colab": {
          "base_uri": "https://localhost:8080/"
        },
        "id": "tg94kT3GFtNP",
        "outputId": "9d06219e-f8d4-43e3-dcf0-fc7e3392bcc1"
      },
      "outputs": [
        {
          "name": "stdout",
          "output_type": "stream",
          "text": [
            "-5\n"
          ]
        }
      ],
      "source": [
        "# Run this cell to see what the difference between b and a is.\n",
        "difference = a-b\n",
        "print(difference)"
      ]
    },
    {
      "cell_type": "code",
      "execution_count": 5,
      "metadata": {
        "colab": {
          "base_uri": "https://localhost:8080/"
        },
        "id": "Nr1jxgIzZs0i",
        "outputId": "2010796a-0ef5-4289-ad16-aff33c3ebdf2"
      },
      "outputs": [
        {
          "data": {
            "text/plain": [
              "23"
            ]
          },
          "execution_count": 5,
          "metadata": {},
          "output_type": "execute_result"
        }
      ],
      "source": [
        "add=a+b\n",
        "add"
      ]
    },
    {
      "cell_type": "markdown",
      "metadata": {
        "id": "ZJuzkQC-GJ8d"
      },
      "source": [
        "## Declaring Variable for Immutable Objects\n",
        "Some objects, like strings, have special functions just for them. These special functions are called methods and are called in a slightly different way.\n",
        "\n",
        "Strings are an example of an immutable object which means they cannot be changed in place. When a method is called on an immutable object, a new object is created. The only way to change them is to overwrite the variable with the new information.\n",
        "\n",
        "The code below will create 2 different strings. message will be declared to point to the string \"hello\" and >caps will be declared to point to the string \"HELLO\".\n",
        "\n",
        ".upper() is an example of a string method and it will use the string stored in message to create a new object with the same letters, but capitalized."
      ]
    },
    {
      "cell_type": "code",
      "execution_count": 18,
      "metadata": {
        "colab": {
          "base_uri": "https://localhost:8080/"
        },
        "id": "pylsl11MF21b",
        "outputId": "6d345ea2-c384-4400-9c61-078d326b778b"
      },
      "outputs": [
        {
          "name": "stdout",
          "output_type": "stream",
          "text": [
            "hello\n",
            "HELLO\n",
            "HELLO\n"
          ]
        }
      ],
      "source": [
        "# Does .upper() return a value or change a value in place?\n",
        "message = 'hello'\n",
        "caps = message.upper()\n",
        "print(message)\n",
        "print(caps)\n",
        "\n",
        "message = message.upper()\n",
        "print(message)"
      ]
    },
    {
      "cell_type": "code",
      "execution_count": 7,
      "metadata": {
        "colab": {
          "base_uri": "https://localhost:8080/",
          "height": 36
        },
        "id": "8lPTQE_gcD-9",
        "outputId": "6de2b518-b722-45d6-9cc9-3660583a339e"
      },
      "outputs": [
        {
          "data": {
            "text/plain": [
              "'HELLO'"
            ]
          },
          "execution_count": 7,
          "metadata": {},
          "output_type": "execute_result"
        }
      ],
      "source": [
        "message"
      ]
    },
    {
      "cell_type": "markdown",
      "metadata": {
        "id": "Me-oguyrGU0B"
      },
      "source": [
        ".upper() RETURNS a value, but since strings are immutable, it does NOT change a value in place. When we called message.upper(), the original message variable did not change. To save the new uppercase version, we set caps to point to the new uppercase string.\n",
        "\n",
        "What if we did not want to keep the original lowercase message in memory, and instead wanted to replace it with the uppercase version with the same name (message)?\n",
        "\n",
        "We would need to run the following:"
      ]
    },
    {
      "cell_type": "code",
      "execution_count": 20,
      "metadata": {
        "colab": {
          "base_uri": "https://localhost:8080/"
        },
        "id": "X7D4bonfGVJn",
        "outputId": "da5274b7-a9ea-4449-c179-b6f70e0a9254"
      },
      "outputs": [
        {
          "name": "stdout",
          "output_type": "stream",
          "text": [
            "hello\n",
            "HELLO\n"
          ]
        }
      ],
      "source": [
        "# How to overwrite an immutable object\n",
        "message = 'hello'\n",
        "print(message)\n",
        "message = message.upper()\n",
        "print(message)"
      ]
    },
    {
      "cell_type": "markdown",
      "metadata": {
        "id": "kOo-WrPvGbaf"
      },
      "source": [
        "Be careful when overwriting existing variables! You will lose the original information when you do this!"
      ]
    },
    {
      "cell_type": "markdown",
      "metadata": {
        "id": "ce07BGeAGfKt"
      },
      "source": [
        "# F-strings: Embedding a Variable Within a String\n",
        "F-strings allow you to insert a variable into your strings. This becomes very useful later when you start using loops and creating custom functions.\n",
        "\n",
        "We indicate an f-string by placing the letter f before our first quotation mark. Within our string, we indicate where we would like our values to appear by placing the variable name in curly braces {}. We will now demonstrate an f-string."
      ]
    },
    {
      "cell_type": "code",
      "execution_count": 17,
      "metadata": {
        "colab": {
          "base_uri": "https://localhost:8080/"
        },
        "id": "Jn--BpuCGb1J",
        "outputId": "dd6eeef9-9e58-4a47-c129-33e56eb0d716"
      },
      "outputs": [
        {
          "name": "stdout",
          "output_type": "stream",
          "text": [
            "The orignal cost was $300, but I purchased it on sale for $240.0.\n",
            "240.0\n",
            "Ishmo The orignal cost was $300, but I purchased it on sale for $240.0.\n",
            "The original cost was $300, but I purchased it on sale for $240.0\n"
          ]
        }
      ],
      "source": [
        "# Use an f-string to insert variable values\n",
        "regular_price = 300\n",
        "sale = .2\n",
        "sale_price = (1-sale)*regular_price\n",
        "statement = f'The orignal cost was ${regular_price}, but I purchased it on sale for ${sale_price}.'\n",
        "print(statement)\n",
        "print(sale_price)\n",
        "\n",
        "print(f'Ishmo {statement}')\n",
        "print(f'The original cost was ${regular_price}, but I purchased it on sale for ${sale_price}')  #{} ()\n",
        "\n",
        "\n",
        "#Best Employee of the month February in 2023\n",
        "#Employee Data: variable: Date[Month, Year]- var1: Month| var2: Year\n",
        "#Best Employee: variable:Metric (Revenue, Performance)  variable:Name of Employee\n",
        "\n",
        "#Rita was the best employee in the M&E department in the month of February 2023 with a revenue of ... and a performance score of 89%"
      ]
    },
    {
      "cell_type": "markdown",
      "metadata": {
        "id": "tDuG8YadHVCE"
      },
      "source": [
        "## Declaring Variables for Mutable Objects\n",
        "We will also explore mutable objects which can be changed in place. To demonstrate a mutable object, we will briefly introduce a new object type: lists. To specify a list, we use square brackets [ ]. Our demo list is going to be a list of strings, so we must include quotes for each item in our list."
      ]
    },
    {
      "cell_type": "code",
      "execution_count": 10,
      "metadata": {
        "colab": {
          "base_uri": "https://localhost:8080/"
        },
        "id": "mnzJhX6yHXUA",
        "outputId": "0caf0e1a-8580-49f5-d9a7-33f84e6cfa0e"
      },
      "outputs": [
        {
          "name": "stdout",
          "output_type": "stream",
          "text": [
            "['eggs', 'milk']\n"
          ]
        }
      ],
      "source": [
        "# Create a list object declared as the variable grocery\n",
        "grocery = ['eggs', 'milk']\n",
        "print(grocery)"
      ]
    },
    {
      "cell_type": "markdown",
      "metadata": {
        "id": "8r34K_SNHgRB"
      },
      "source": [
        "Now, let's say we want to add an item to the list. There is a list method called .append() that will add an item to the list. We must include the new item as the argument within the parenthesis of the .append() method. Let's add, \"cheese\" to our list."
      ]
    },
    {
      "cell_type": "code",
      "execution_count": 11,
      "metadata": {
        "colab": {
          "base_uri": "https://localhost:8080/"
        },
        "id": "F5vK6GymHbkI",
        "outputId": "10eff4a0-2151-4f83-fa62-606767b202a4"
      },
      "outputs": [
        {
          "name": "stdout",
          "output_type": "stream",
          "text": [
            "['eggs', 'milk', 'cheese']\n",
            "['eggs', 'milk', 'cheese', ['bread', 'corn']]\n"
          ]
        }
      ],
      "source": [
        "# add \"cheese\" to our list. Does this change the object in place?\n",
        "grocery.append('cheese')\n",
        "print(grocery)\n",
        "grocery.append(['bread','corn'])\n",
        "print(grocery)\n"
      ]
    },
    {
      "cell_type": "markdown",
      "metadata": {
        "id": "YYlqMDvUHosi"
      },
      "source": [
        "Notice the difference! Even without overwriting the grocery variable, we have made the change **in place** with this method. With mutable objects, such as lists, you must be aware that these changes will take effect **in place** We no longer have a list with just eggs and milk."
      ]
    },
    {
      "cell_type": "markdown",
      "metadata": {
        "id": "UWi7l_rwH3QL"
      },
      "source": [
        "## Checking the Data Type\n",
        "You should be aware of the data type of all of your variables. You can always double-check this by using type() and putting the variable in as the argument.\n",
        "\n",
        "Let's check the data type for these variables."
      ]
    },
    {
      "cell_type": "code",
      "execution_count": 12,
      "metadata": {
        "id": "RHl3yCBGHxzH"
      },
      "outputs": [],
      "source": [
        "# Define the variables\n",
        "regular_price = 300\n",
        "sale = .2\n",
        "sale_price = (1-sale)*regular_price\n",
        "\n"
      ]
    },
    {
      "cell_type": "code",
      "execution_count": 13,
      "metadata": {
        "id": "Cj6U26Imhft4"
      },
      "outputs": [],
      "source": [
        "v =7   #v is the sale price"
      ]
    },
    {
      "cell_type": "code",
      "execution_count": 14,
      "metadata": {
        "colab": {
          "base_uri": "https://localhost:8080/"
        },
        "id": "29ZBYv-YH66F",
        "outputId": "cff6381b-f350-4a4d-c9c8-2b5cfb270da2"
      },
      "outputs": [
        {
          "data": {
            "text/plain": [
              "float"
            ]
          },
          "execution_count": 14,
          "metadata": {},
          "output_type": "execute_result"
        }
      ],
      "source": [
        "# Check the data type of regular_price\n",
        "type(regular_price)\n",
        "type(sale_price)"
      ]
    },
    {
      "cell_type": "markdown",
      "metadata": {
        "id": "Q5zIuW8yIAuv"
      },
      "source": [
        "As we should expect, the data type here is int (integer).\n",
        "\n",
        "What do you think the data type of the sale variable is?"
      ]
    },
    {
      "cell_type": "markdown",
      "metadata": {
        "id": "bZME3JFxIE9D"
      },
      "source": [
        "##Changing Data Type\n",
        "Some data types can be changed to another data type. For example, you could change an integer to a float."
      ]
    },
    {
      "cell_type": "code",
      "execution_count": 15,
      "metadata": {
        "colab": {
          "base_uri": "https://localhost:8080/"
        },
        "id": "RGKxbgyvILoK",
        "outputId": "7b1bb50c-412b-4ee5-83f5-9d8433f51505"
      },
      "outputs": [
        {
          "data": {
            "text/plain": [
              "int"
            ]
          },
          "execution_count": 15,
          "metadata": {},
          "output_type": "execute_result"
        }
      ],
      "source": [
        "# Declare a whole number value (it will default to data type int)\n",
        "amount = 6\n",
        "type(amount)\n"
      ]
    },
    {
      "cell_type": "markdown",
      "metadata": {
        "id": "f88piImnISFo"
      },
      "source": [
        "Now, we can change this value to a float. We can either create a new variable for the float or overwrite (recast) the existing \"amount\" variable. In this case, we will demonstrate overwriting the existing variable."
      ]
    },
    {
      "cell_type": "code",
      "execution_count": null,
      "metadata": {
        "colab": {
          "base_uri": "https://localhost:8080/"
        },
        "id": "2pdfTbJ4H8mn",
        "outputId": "160c6550-fa55-4c52-875d-a7162368957d"
      },
      "outputs": [
        {
          "name": "stdout",
          "output_type": "stream",
          "text": [
            "6.0\n"
          ]
        },
        {
          "data": {
            "text/plain": [
              "float"
            ]
          },
          "execution_count": 39,
          "metadata": {},
          "output_type": "execute_result"
        }
      ],
      "source": [
        "# Recast the amount variable as a float\n",
        "amount = float(amount)\n",
        "print(amount)\n",
        "type(amount)\n"
      ]
    },
    {
      "cell_type": "markdown",
      "metadata": {
        "id": "DkFlfGKTXA6e"
      },
      "source": []
    },
    {
      "cell_type": "markdown",
      "metadata": {
        "id": "QYLboomNIcvX"
      },
      "source": [
        "##Summary\n",
        "In order to save our objects in Python, we must declare the object as a variable. We use a single equal sign to point our variable to the object. Variables point to objects, and any object without a variable will get deleted from memory. Some objects are immutable, and methods will not change these objects in place. In order to save any changes to these objects, we must create a new variable or intentionally overwrite the existing variable. Other objects are mutable, and methods can change the object in place. We can check the data types of our variables, and, in some cases, can change the data type."
      ]
    },
    {
      "cell_type": "code",
      "execution_count": null,
      "metadata": {
        "id": "_tR0neIlIUMq"
      },
      "outputs": [],
      "source": []
    }
  ],
  "metadata": {
    "colab": {
      "provenance": []
    },
    "kernelspec": {
      "display_name": "RDSB-5U8ITK5B",
      "language": "python",
      "name": "python3"
    },
    "language_info": {
      "codemirror_mode": {
        "name": "ipython",
        "version": 3
      },
      "file_extension": ".py",
      "mimetype": "text/x-python",
      "name": "python",
      "nbconvert_exporter": "python",
      "pygments_lexer": "ipython3",
      "version": "3.11.5"
    }
  },
  "nbformat": 4,
  "nbformat_minor": 0
}
