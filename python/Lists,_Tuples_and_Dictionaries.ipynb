{
  "nbformat": 4,
  "nbformat_minor": 0,
  "metadata": {
    "colab": {
      "provenance": []
    },
    "kernelspec": {
      "name": "python3",
      "display_name": "Python 3"
    },
    "language_info": {
      "name": "python"
    }
  },
  "cells": [
    {
      "cell_type": "markdown",
      "source": [
        "##Learning Objectives\n",
        "\n",
        "\n",
        "*   Explain the difference between lists, tuples, and dictionaries in Python.\n",
        "*   Choose the best type of collection for a given task."
      ],
      "metadata": {
        "id": "zYHwG5KxxrG9"
      }
    },
    {
      "cell_type": "markdown",
      "source": [
        "##Lists and Tuples\n",
        "You learned about primitive data types, such as ints, floats, strings, and bools. These make up the building blocks of data! This lesson will explore data types that contain multiple pieces of data.\n",
        "\n"
      ],
      "metadata": {
        "id": "khOnEV0ux2o-"
      }
    },
    {
      "cell_type": "markdown",
      "source": [
        "Key Terms\n",
        "1. Lists\n",
        "2. Tuples\n",
        "3. Mutable\n",
        "4. Immutable\n",
        "5. Indexing\n",
        "6. Zero-Index"
      ],
      "metadata": {
        "id": "8cr3joq_x9Sj"
      }
    },
    {
      "cell_type": "markdown",
      "source": [
        "##Collections Overview:\n",
        "\n",
        "Collections are storage for data. They are used to clump data together and organize them in different ways. Python has numerous ways to collect data, and in this course, you will learn many more that are not native to Python. Collecting and storing data is essential to data science.\n",
        "\n",
        "Most collections native to Python can store any kind of data type, including a mix of different types and even other collections! This lesson will explore:\n",
        "\n",
        "* Lists\n",
        "* Tuples\n",
        "Our next lesson will explore\n",
        "\n",
        "* Dictionaries"
      ],
      "metadata": {
        "id": "3H9Jux60yRnv"
      }
    },
    {
      "cell_type": "markdown",
      "source": [
        "## Lists\n",
        "Lists are one of the most common types of collections in Python. They are useful because they are ordered and keep their order unless changed explicitly. On the other hand, they can easily be altered in many ways.\n",
        "\n",
        "Lists are:\n",
        "\n",
        "1. Ordered\n",
        "2. Mutable (changeable)\n",
        "3. Able to hold anything\n",
        "We indicate a list object by surrounding our list of items with square brackets [].\n",
        "\n",
        "Each item in the list must be separated by a comma.\n",
        "\n",
        "Other collections can be converted to lists by using the list() function.\n",
        "\n",
        "A list can contain objects of the same type or different types.\n",
        "\n",
        "Check out our example below."
      ],
      "metadata": {
        "id": "Dj8kqKrvyqi5"
      }
    },
    {
      "cell_type": "code",
      "source": [
        "word_list = ['this', 'is', 'a', 'list', 'of', 'strings']\n",
        "random_list = [12, 'frog', ['this','is','a','list','in','a','list'], True, 3.14]\n",
        "print(word_list)\n",
        "print(random_list)"
      ],
      "metadata": {
        "colab": {
          "base_uri": "https://localhost:8080/"
        },
        "id": "sbz_B3Ayy1Ob",
        "outputId": "2353e44b-7392-4b09-8a10-a39018984ac6"
      },
      "execution_count": null,
      "outputs": [
        {
          "output_type": "stream",
          "name": "stdout",
          "text": [
            "['this', 'is', 'a', 'list', 'of', 'strings']\n",
            "[12, 'frog', ['this', 'is', 'a', 'list', 'in', 'a', 'list'], True, 3.14]\n"
          ]
        }
      ]
    },
    {
      "cell_type": "markdown",
      "source": [
        "Do you notice the word_list contains strings? (you can identify each string with the quotations!)\n",
        "\n",
        "Do you see the list within a list in the random_list? (you can identify the list by the square brackets!) What other types of objects are in the random_list?\n",
        "\n",
        "Lists are mutable, which means we can apply methods to the list and it will change it in place. You may recall from an earlier lesson, that this means we do NOT need to overwrite an existing list variable to make changes to it. Let's take a look at one example of a list method: .remove()\n",
        "\n",
        "What do you think will happen when we use the .remove() method?"
      ],
      "metadata": {
        "id": "KWbRtfBvzGoD"
      }
    },
    {
      "cell_type": "code",
      "source": [
        "# use .remove() on our word_list\n",
        "\n"
      ],
      "metadata": {
        "id": "4bg7qUmkzJpU"
      },
      "execution_count": null,
      "outputs": []
    },
    {
      "cell_type": "markdown",
      "source": [
        "Another common method used with list is .append() to add an item. The item will be added to the end of the list."
      ],
      "metadata": {
        "id": "uMOuh_sPzOL7"
      }
    },
    {
      "cell_type": "code",
      "source": [
        "# use .append() to add an item to the word_list\n",
        "\n"
      ],
      "metadata": {
        "id": "83Dfui_bzPQ1"
      },
      "execution_count": null,
      "outputs": []
    },
    {
      "cell_type": "markdown",
      "source": [
        "## Indexing a List\n",
        "Since lists are ordered, you can retrieve specific objects from within the list, also called 'indexing' using brackets next to the variable name and an integer corresponding to the ordered position.\n",
        "\n",
        "Python Uses Zero Indexing!: **Rather than starting the counting with 1, Python starts counting at 0!**\n",
        "\n",
        "Take a look at our random_list and the corresponding index value when zero-indexing is used:\n"
      ],
      "metadata": {
        "id": "a94hFXhtzSEr"
      }
    },
    {
      "cell_type": "code",
      "source": [
        "# Select the first item from the list\n",
        "\n"
      ],
      "metadata": {
        "id": "_ti20jWJzm2n"
      },
      "execution_count": null,
      "outputs": []
    },
    {
      "cell_type": "markdown",
      "source": [
        "What index would we need to print our list object within the list? Try it to check!"
      ],
      "metadata": {
        "id": "LSjkx2NszxKC"
      }
    },
    {
      "cell_type": "code",
      "source": [],
      "metadata": {
        "id": "zKv-_7hExxXb"
      },
      "execution_count": null,
      "outputs": []
    },
    {
      "cell_type": "markdown",
      "source": [
        "## Negative Indexing\n",
        "One more hint regarding indexing is the use of a - sign. What do you think will print if we ask for [-1]?"
      ],
      "metadata": {
        "id": "BsNGXAMEzylm"
      }
    },
    {
      "cell_type": "code",
      "source": [
        "# Negative indexing\n",
        "\n"
      ],
      "metadata": {
        "id": "kKr88pxTz93h"
      },
      "execution_count": null,
      "outputs": []
    },
    {
      "cell_type": "markdown",
      "source": [
        "Since the .append() method always adds items to the end of a list, using negative indexing (specifically [-1] ) is a quick way to find the most recently added item!"
      ],
      "metadata": {
        "id": "-aMrYBZ_0AXf"
      }
    },
    {
      "cell_type": "markdown",
      "source": [
        "##Combining Lists\n",
        "We learned that operators act and behave differently with different object types. We can use the + operator to combine two lists!"
      ],
      "metadata": {
        "id": "yOXzgW-I0IBi"
      }
    },
    {
      "cell_type": "code",
      "source": [
        "# Combine two lists using the + operator\n"
      ],
      "metadata": {
        "id": "5IQOwj9s0JWX"
      },
      "execution_count": null,
      "outputs": []
    },
    {
      "cell_type": "markdown",
      "source": [
        "As with all objects, there are many list methods! Click [here](https://www.w3schools.com/python/python_lists_methods.asp) to explore some additional list methods."
      ],
      "metadata": {
        "id": "5vgXLLTL0Vms"
      }
    },
    {
      "cell_type": "markdown",
      "source": [
        "## Pros:\n",
        "1. Lists are ordered and the order of a list can hold important information in addition to the data stored in it. Imagine a list of customer names kept in the order they asked for seating in a packed restaurant. If seating were \"first come, first served\", then the names of the customers represent one kind of data, and the order they will be seated is another kind.\n",
        "\n",
        "2. Lists are mutable, that is to say, they can be altered. Data can be added, removed, changed, or reordered within the list. Many Python methods (functions built into an object) exist to perform different operations on lists. In the example of our list of customers to be seated, we could remove each customer from the beginning of the list when they are seated and add new ones to the end as they arrive.\n",
        "\n",
        "##Cons:\n",
        "1. Lists are not computationally efficient. It takes much more time to access and change data in a list than in more efficient kinds of collections. This won’t make much difference when you are working with a small amount of data, like lists of customers or business contacts, or competition race times. However, when we start working with billions of data, using lists will cause a computer to slow to a crawl.\n",
        "\n",
        "2. Lists are not memory efficient. They take up more space in computer memory than many other kinds of collections, as Python must reserve some space to add more elements as necessary."
      ],
      "metadata": {
        "id": "nfsOMKd90uRq"
      }
    },
    {
      "cell_type": "markdown",
      "source": [
        "#Tuples\n",
        "Tuples are another kind of collection you will run into in Python. Tuples are similar to lists in some ways and different in others. They contain data and are ordered, and they can store any combination of other objects. The difference is that tuples can not be changed. They are immutable.\n",
        "\n",
        "Tuples are:\n",
        "\n",
        "1. Ordered\n",
        "2. Immutable\n",
        "3. Able to hold anything\n",
        "\n",
        "Tuples can be created using parentheses ( ) with items separated by commas. Other collections can be converted to a tuple using the tuple() function. Take a look at the random_tuple below. It contains variable names. What do you think will print below the code?"
      ],
      "metadata": {
        "id": "lJQ7hZEq1IgL"
      }
    },
    {
      "cell_type": "code",
      "source": [
        "# Demo of tuples of the same data type or mixed data types\n"
      ],
      "metadata": {
        "id": "0gkiky-j1WoT"
      },
      "execution_count": null,
      "outputs": []
    },
    {
      "cell_type": "markdown",
      "source": [
        "##Indexing a Tuple\n",
        "\n",
        "Indexing a tuple is the same as indexing a list! You can select a single item, but with both lists and tuples, you can also select a range of items within the collection. We do this by using a colon (:) between the start (included) and end (not included) of our desired range. Note that the end of the range is NOT included in the output. For example, the index [0:2] will include values at index 0 and 1, but NOT 2. Take a look at the code:"
      ],
      "metadata": {
        "id": "Gv86cGaO1byW"
      }
    },
    {
      "cell_type": "code",
      "source": [
        "# Indexing a range from a tuple\n"
      ],
      "metadata": {
        "id": "eRppAQ7F1hbZ"
      },
      "execution_count": null,
      "outputs": []
    },
    {
      "cell_type": "markdown",
      "source": [
        "Note that because tuples are immutable, we cannot append or remove items from them once it has been defined.\n",
        "\n",
        "**Pros**:\n",
        "1. Tuples are ordered. You can access the first, last, or any other element and they keep their order.\n",
        "\n",
        "2. Tuples cannot be changed once created. This may seem at first like a bad thing, but there are times you want to make sure that certain data is not being changed. Tuples are a way to protect a collection of data from being altered. Once you create your seating list, you would not be able to add new customers or remove them once they were seated.\n",
        "\n",
        "3. Tuples are slightly more computationally efficient than lists when accessing the data in them, but not a lot.\n",
        "\n",
        "**Cons:**\n",
        "1.Tuples are immutable. Yes, this is both a pro and a cons. You can copy a tuple, create a new tuple, or delete a tuple, but you can’t change one once created.\n",
        "2. Tuples are still less computationally efficient for accessing data than some other data types.\n"
      ],
      "metadata": {
        "id": "Sq-SOP2a1pal"
      }
    },
    {
      "cell_type": "markdown",
      "source": [
        "###Summary\n",
        "Collections in Python can hold Python objects. Each kind of collection has rules about what it can and can’t hold and how it holds it. Lists, tuples, sets, and dictionaries are some of the basic types of Python collections. Like other Python object types, they each have their own rules and ways of interacting with them. Lists are ordered and immutable. Tuples are ordered and immutable. They can contain mixtures of data types. Both lists and tuples can be indexed using a single value or a range of values."
      ],
      "metadata": {
        "id": "A49wqSxz2ODl"
      }
    },
    {
      "cell_type": "markdown",
      "source": [
        "##Dictionaries\n",
        "Dictionaries are one of the most common and powerful types of Python collections. However, they are a little more complicated than lists, tuples, or sets. Once you’ve mastered them, however, they are a Python Superpower!\n",
        "\n",
        "**Key Terms**\n",
        "* Dictionary\n",
        "* Key/Value Pair\n",
        "* Mutable\n",
        "\n",
        "**Dictionaries:**\n",
        "\n",
        "* Contain paired data (keys and values)\n",
        "* Keys are immutable, but values are mutable\n",
        "* Are not indexed based on position/order\n",
        "\n",
        "###Key: Value Pairs\n",
        "Dictionaries are unordered collections of data stored as key/value pairs. You can think of dictionaries as books with a table of contents. The table of contents is called the ‘keys’ and the chapters they refer to are called the ‘values’. Every item in the table of contents tells the location of a chapter, and every chapter is listed in the table of contents\n",
        "\n",
        "Every key in a dictionary is paired with a value. You can add and remove data from a dictionary but must do so for both the key and the value.\n",
        "\n",
        "If we wanted to use a dictionary for our restaurant example, we could use it to keep track of which table a customer has been seated at. The keys could be customer names, and the values could be the table number they are at. A server could very quickly see where to find each customer.\n",
        "\n",
        "###Immutable Keys and Mutable Values\n",
        "Keys must be immutable, but values can be mutable. A value can be anything, even another dictionary, but keys can only be immutable types. An integer, a string, or a tuple could be a key, but a list can not be a key.\n",
        "\n",
        "\n",
        "Dictionaries are denoted and created with curly braces containing key/value pairs like {key_1 : value_1, key_2: value_2}. The keys and values are separated by colons and the pairs are separated by commas. In some situations, you can convert a collection into a dictionary with .dict(), but only if key/value pairs are apparent, such as in a list of tuples.\n",
        "\n",
        "Let's create a dictionary! We will use states as our key and the capital city as our value for each pair:"
      ],
      "metadata": {
        "id": "q-O7f6Hy2ysq"
      }
    },
    {
      "cell_type": "code",
      "source": [
        "# Create a dictionary of states and capitals\n"
      ],
      "metadata": {
        "id": "Tz_m0PoX3v68"
      },
      "execution_count": null,
      "outputs": []
    },
    {
      "cell_type": "markdown",
      "source": [
        "You can look up the value associated with a particular key. For example, if we wanted to find the capital of Washington, we would use the following:"
      ],
      "metadata": {
        "id": "paTYVrv-7R8W"
      }
    },
    {
      "cell_type": "code",
      "source": [
        "# look up a value using the key\n"
      ],
      "metadata": {
        "id": "9JQC0_-q2xZY"
      },
      "execution_count": null,
      "outputs": []
    },
    {
      "cell_type": "markdown",
      "source": [
        "**Add Key/Value Pair to a Dictionary:**\n",
        "\n",
        "We can also add key/value pairs to an existing dictionary. Let's add Utah and its capital to our dictionary. (We will intentionally add 'Salt Lake' and omit 'City' here)"
      ],
      "metadata": {
        "id": "jf_xwgp77aMz"
      }
    },
    {
      "cell_type": "code",
      "source": [
        "# Add a new key/value pair\n"
      ],
      "metadata": {
        "id": "cJpklyhO7i9l"
      },
      "execution_count": null,
      "outputs": []
    },
    {
      "cell_type": "markdown",
      "source": [
        "Be careful when adding values to a dictionary! If you use a key that already exists, this process will overwrite the current value. Thus, we can also use the process to edit our values. For example, we want to correct 'Salt Lake' to 'Salt Lake City'. We make the change in the same way:"
      ],
      "metadata": {
        "id": "1LVTz9a97tZZ"
      }
    },
    {
      "cell_type": "code",
      "source": [
        "# Change the value associated with a key\n"
      ],
      "metadata": {
        "id": "a0RcDhLp7wFT"
      },
      "execution_count": null,
      "outputs": []
    },
    {
      "cell_type": "markdown",
      "source": [
        "Remove a Key/Value Pair With .pop():"
      ],
      "metadata": {
        "id": "-yGJlCF673Jt"
      }
    },
    {
      "cell_type": "code",
      "source": [
        "# removing a key value pair from the dict with .pop()\n"
      ],
      "metadata": {
        "id": "ufiuHosm74mx"
      },
      "execution_count": null,
      "outputs": []
    },
    {
      "cell_type": "markdown",
      "source": [
        "##Creating a Dictionary from Two Lists with .zip():\n",
        "Let's say we have two lists that we would like to match up to make a dictionary. We will create a list of states and corresponding capitals to demonstrate. You must be careful to make sure the list with the keys and the list with the values are the same length and in the proper order."
      ],
      "metadata": {
        "id": "rxiu542y8ELL"
      }
    },
    {
      "cell_type": "code",
      "source": [
        "# create list of states\n",
        "\n",
        "# create list of matching capitals\n"
      ],
      "metadata": {
        "id": "Jolo6B1Z76sw"
      },
      "execution_count": null,
      "outputs": []
    },
    {
      "cell_type": "code",
      "source": [],
      "metadata": {
        "id": "4ZPWO-xOcyPG"
      },
      "execution_count": null,
      "outputs": []
    },
    {
      "cell_type": "markdown",
      "source": [
        "Now we can use .zip() as a neat method for putting these two lists together as a dictionary."
      ],
      "metadata": {
        "id": "eZTOaCYr8QM4"
      }
    },
    {
      "cell_type": "code",
      "source": [
        "# combine the two lists into a dict\n"
      ],
      "metadata": {
        "id": "GJwOt42w8SNJ"
      },
      "execution_count": null,
      "outputs": []
    },
    {
      "cell_type": "markdown",
      "source": [
        "Now you can see that we have two separate dictionaries that contain states and capitals."
      ],
      "metadata": {
        "id": "UPGDpe6Y8aI6"
      }
    },
    {
      "cell_type": "markdown",
      "source": [
        "**Adding One Dictionary to Another With .update():**\n",
        "\n",
        "We can add one dictionary to another using the .update() method. Let's add the zip_dict to our existing states_caps dictionary:"
      ],
      "metadata": {
        "id": "est2f4BU8fbz"
      }
    },
    {
      "cell_type": "code",
      "source": [
        "# Add one dictionary to another"
      ],
      "metadata": {
        "id": "ZhlSyaKT8UAh"
      },
      "execution_count": null,
      "outputs": []
    },
    {
      "cell_type": "markdown",
      "source": [
        "Keep exploring dictionaries and their methods [here!](https://www.w3schools.com/python/python_ref_dictionary.asp)\n"
      ],
      "metadata": {
        "id": "x-UdT37m80YG"
      }
    },
    {
      "cell_type": "markdown",
      "source": [
        "##Summary\n",
        "This lesson added dictionaries to your toolbox of collection types in Python. Dictionaries are unordered, and data is stored as pairs of keys and values where each key points to a value like entries in a table of contents point to chapters in a boo"
      ],
      "metadata": {
        "id": "uceUy5X48t1e"
      }
    },
    {
      "cell_type": "code",
      "source": [],
      "metadata": {
        "id": "_36crt8T8u1S"
      },
      "execution_count": null,
      "outputs": []
    }
  ]
}