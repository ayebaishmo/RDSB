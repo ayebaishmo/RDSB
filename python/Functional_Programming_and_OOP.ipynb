{
  "nbformat": 4,
  "nbformat_minor": 0,
  "metadata": {
    "colab": {
      "provenance": []
    },
    "kernelspec": {
      "name": "python3",
      "display_name": "Python 3"
    },
    "language_info": {
      "name": "python"
    }
  },
  "cells": [
    {
      "cell_type": "markdown",
      "source": [
        "##Learning Objectives\n",
        "\n",
        "\n",
        "1.  Apply terminology associated with functional programming (functions).\n",
        "2.   Apply terminology associated with object-oriented programing (OOP).\n",
        "\n",
        "\n"
      ],
      "metadata": {
        "id": "5N0ImzCNp94J"
      }
    },
    {
      "cell_type": "markdown",
      "source": [
        "Now that you have practiced coding in Google Colab with some simple math and have explored how to declare variables, this lesson will explore more of the fundamental ways Python works."
      ],
      "metadata": {
        "id": "aglWZErlqOaV"
      }
    },
    {
      "cell_type": "markdown",
      "source": [
        "##Paradigms\n",
        "There are several overarching approaches to how a programming language addresses problems, and these are called \"paradigms.\" Each language applies some mixture of these paradigms. You should recognize that Python is generally considered an \"object-oriented programming\" (OOP) language. Even though this is its primary paradigm, Python is also able to support another paradigm, known as \"functional programming.\" We will explore these different approaches below, and we will use both seamlessly in our code throughout the course."
      ],
      "metadata": {
        "id": "oxoZl4MkqUZh"
      }
    },
    {
      "cell_type": "markdown",
      "source": [
        "## Functional Programming (Functions)\n",
        "In this section, you will be introduced to some very specific English language that is associated with functions! If you are brand new to programming, it may take a little time to get used to this technical way of speaking, but you will gain comfort with practice!\n",
        "\n",
        "Some terms you will encounter:\n",
        "\n",
        "1.   Input\n",
        "2.   Argument\n",
        "3.   Call\n",
        "4.   Evaluate\n",
        "5.   Return\n",
        "\n",
        "### What is a Function?\n",
        "\n",
        "Python comes with many functions included. A function is a tool that DOES something. Oftentimes, but not always, a function takes an \"input\" (also known as the \"argument(s)\") and \"returns\" something. A function performs its task when it is \"called\". You \"call\" a function by placing parentheses at the end of its name.\n",
        "\n",
        "For instance \"max\" is a basic function in Python.\n",
        "\n",
        "If you enter the following code\n",
        "\n",
        "max(a, b)\n",
        "\n",
        "Python will \"return\" whichever is larger (the maximum value of), a or b.\n",
        "\n",
        "Note that this function accepts a minimum of two \"arguments.\" It will error if you only provide one value! Some functions have a specific number of arguments, but in this case, the \"max\" function can take 2 or more arguments.\n",
        "\n",
        "Once the function is called with the appropriate number of arguments, Python evaluates the information. Essentially it reads it and does some task with it.\n",
        "\n",
        "When a function produces an output, we call this a return.\n",
        "\n",
        "If we want to perform the \"max\" function on 1 and 2, the input to our function is 1, 2. You could also say the arguments are 1 and 2.\n",
        "\n",
        "When Python evaluates max(1, 2) , it selects the larger of the values, and the function returns the output, 2."
      ],
      "metadata": {
        "id": "ktGH7SizqaID"
      }
    },
    {
      "cell_type": "markdown",
      "source": [
        "## Max Function:"
      ],
      "metadata": {
        "id": "wfr6fmEaq5gB"
      }
    },
    {
      "cell_type": "code",
      "source": [
        "# Run this cell to see what value the function returns\n"
      ],
      "metadata": {
        "id": "Rtfl-VEdqHm_"
      },
      "execution_count": null,
      "outputs": []
    },
    {
      "cell_type": "markdown",
      "source": [
        "1. The \"max\" function was called by placing parenthesis after it and running the cell.\n",
        "2. The **input** above was 5, 7.\n",
        "3. The **arguments** were 5 and 7.\n",
        "4. The \"max\" function **evaluated** the two values to determine which was greater.\n",
        "5. The function **returned** the value 7. (You should see the output under your code cell after you run it!)"
      ],
      "metadata": {
        "id": "KWh2Fkh2rEjT"
      }
    },
    {
      "cell_type": "markdown",
      "source": [
        "## Min Function:\n",
        "When Python evaluates min(), it will return the smallest number."
      ],
      "metadata": {
        "id": "3P6_qg1crYMi"
      }
    },
    {
      "cell_type": "code",
      "source": [
        "# Run this cell to return the minimum of 3 and 2.\n"
      ],
      "metadata": {
        "id": "m1ON-7cwrBFR"
      },
      "execution_count": null,
      "outputs": []
    },
    {
      "cell_type": "markdown",
      "source": [
        "Try practicing the technical terms with the code above!\n",
        "\n",
        "1.  What does it mean to **call** the \"min\" function?\n",
        "2.  How many **arguments** were included?\n",
        "3.  What was the **input**?\n",
        "4.  What did the function **evaluate**?\n",
        "5.  What did the function **return**?"
      ],
      "metadata": {
        "id": "xml0ze9provu"
      }
    },
    {
      "cell_type": "markdown",
      "source": [
        "## Nested Functions:\n",
        "We can combine functions by nesting them inside of each other. First Python will evaluate the inner functions, then, using what those return, it will evaluate the results using the outer function.\n",
        "\n",
        "Before you run the cell below, can you predict what the answer should be?"
      ],
      "metadata": {
        "id": "TCkHDO3QsBdG"
      }
    },
    {
      "cell_type": "code",
      "source": [
        "# Run this cell to return the maximum of the minimum of 10 and 3 and the minimum of 5 and 7\n",
        "\n"
      ],
      "metadata": {
        "id": "7-LG_FT-sHpT"
      },
      "execution_count": null,
      "outputs": []
    },
    {
      "cell_type": "markdown",
      "source": [
        "Did you predict correctly?\n",
        "\n",
        "Programming and data science, in general, can require a great deal of focus and attention to detail! As much as possible, try to predict what you expect the results of your code to be! Having an idea of what you expect will help you catch mistakes.\n",
        "\n",
        "Python can do amazing things, but it can only do what the human asks it to do! It is similar to a calculator. If you want to add 3 apples and 6 oranges, you, as the programmer need to know to use the + sign! If you use any other command, you will get an answer, but it will not be solving the problem!\n",
        "\n",
        "**When programming, just because your code runs error-free, it does not mean you have the correct code for what you are trying to accomplish!!**\n",
        "\n",
        "We have just introduced a few basic functions here, but there are many functions in basic python! There are also entire libraries of functions that we can add to basic python that will include even more functions. And, on top of all of those, we also can write custom functions to add efficiency to our code! We will continue to work with functions throughout the course"
      ],
      "metadata": {
        "id": "V2qEKADfsSU0"
      }
    },
    {
      "cell_type": "markdown",
      "source": [
        "## Object Oriented Programming\n",
        "While Python supports functional programming, it is naturally an object-oriented language. In Python, everything is treated as an **\"object.\"** Objects each have special rules and properties. They also often have special functions inside them that are special to that object. These special functions are called **\"methods.\"**\n",
        "\n",
        "Even functions are objects! Once again, there will be some technical language here that may take some time for you to digest!\n",
        "\n",
        "**Strings:**\n",
        "For instance, one kind of object we have already worked with is a **string**. Recall that a string is a piece of text. You can create a string by putting quotation marks around it. Either single or double quotes will work as long as you are consistent.\n",
        "\n",
        "‘Hello’ is a string.\n",
        "\n",
        "\"I am hungry.\" is a string.\n",
        "\n",
        "\"50+5\" is a string too! Why is this a string when it involves numbers and symbols? No matter what characters are present, if they are in quotes, Python will treat it as a string!\n",
        "\n",
        "A **method** for an object is called by typing a period (.) and then the name of the method followed by parentheses.\n",
        "\n",
        "One special method of strings is .lower(). This returns a new string that is the same as the original string but with all of the letters in lowercase. Note that this method does not require any additional input within the parenthesis, but the parentheses are still required to call the method! There will be cases where you will make specifications of the method within the parentheses. These are called \"arguments.\" Some methods do not take arguments. For those that do, if the parentheses are empty, the method will simply rely on the default arguments.\n",
        "\n",
        "The .lower() method does not take any arguments."
      ],
      "metadata": {
        "id": "FV8OxfHhsnI-"
      }
    },
    {
      "cell_type": "code",
      "source": [
        "# Run this cell to return a lower case string\n"
      ],
      "metadata": {
        "id": "__ZYwOdItHts"
      },
      "execution_count": null,
      "outputs": []
    },
    {
      "cell_type": "code",
      "source": [
        "# Run this cell to return an upper case string\n"
      ],
      "metadata": {
        "id": "O4g5JHSjrwAi"
      },
      "execution_count": null,
      "outputs": []
    },
    {
      "cell_type": "markdown",
      "source": [
        "###Method Arguments:\n",
        "\n",
        "Let's take a look at a string method that requires arguments. .replace() takes two arguments.\n",
        "\n",
        "First, you must include the original text you want to replace, and then you must include the new text."
      ],
      "metadata": {
        "id": "2HGPSP4ttRZq"
      }
    },
    {
      "cell_type": "code",
      "source": [
        "# replace h with j in the string\n"
      ],
      "metadata": {
        "id": "rn1Z1BxjtW_B"
      },
      "execution_count": null,
      "outputs": []
    },
    {
      "cell_type": "markdown",
      "source": [
        "As you can see, our code was successful. Imagine if you tried to run .replace() without including arguments; how would the method know what to do?\n",
        "\n",
        "There are many other string methods to explore! There are so many methods that it is NOT expected that anyone would memorize all of them! Instead, you will gain familiarity with searching the documentation.\n",
        "\n",
        "You should also start bookmarking some of your favorite sites as you dig deeper throughout the course. One place to learn more about string methods is [here](https://www.w3schools.com/python/python_ref_string.asp). You can click on each method to go even deeper and explore the arguments.\n",
        "\n",
        "Note, too, that strings are just ONE type of object! There are many other object types, each with its methods (and arguments!) that we will continue to explore throughout this program.\n",
        "\n",
        "To clarify: Objects have specific methods (these are functions specific to that object type)\n",
        "\n",
        "The object and method are separated by a period, which is referred to as \"dot notation.\" The method must be called by including () at the end of the method.\n",
        "\n",
        "Within the parenthesis:\n",
        "\n",
        "1. Some methods do not take arguments.\n",
        "2. Some methods take argument(s) but will use default argument(s) if not specified\n",
        "3. Some methods require arguments."
      ],
      "metadata": {
        "id": "WpdpSe9vtn0w"
      }
    },
    {
      "cell_type": "markdown",
      "source": [
        "## Summary\n",
        "This lesson introduces Python as an object-oriented programming language (OOP) that can also use functions. You explored a few basic functions. You then explored one type of object (strings) and a few methods associated with string objects. You had the chance to learn the key terminology associated with both paradigms (functions and objects). While this is just an overview, you also practiced some essential syntax such as when to use a dot, parenthesis, or quotation marks. Continue to pay attention to these special characters and their use as seemingly minor syntax differences can cause errors if you do not implement them correctly."
      ],
      "metadata": {
        "id": "PtChXc0Ft7rL"
      }
    },
    {
      "cell_type": "markdown",
      "source": [
        "## Additional Resources\n",
        "1. [Python Cheat Sheet: Function Arguments](https://www.pythoncheatsheet.org/cheatsheet/functions)\n",
        "2. [Python Cheat Sheet: List of Built-In Python Functions\n",
        "W3Schools: Python Classes](https://www.pythoncheatsheet.org/cheatsheet/built-in-functions)\n",
        "3. [W3Schools: Python Functions](https://www.w3schools.com/python/python_functions.asp) (Reference for vocabulary. You will learn how to create functions in upcoming lessons)."
      ],
      "metadata": {
        "id": "65Q-siTnwuol"
      }
    },
    {
      "cell_type": "code",
      "source": [],
      "metadata": {
        "id": "5UT1aSfStt_o"
      },
      "execution_count": null,
      "outputs": []
    }
  ]
}