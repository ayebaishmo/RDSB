{
  "cells": [
    {
      "cell_type": "code",
      "execution_count": null,
      "metadata": {
        "id": "SxmNG4fFBM9U"
      },
      "outputs": [],
      "source": []
    },
    {
      "cell_type": "markdown",
      "metadata": {
        "id": "mTDz69LSBTlz"
      },
      "source": [
        "# Primitive Data Types"
      ]
    },
    {
      "cell_type": "markdown",
      "metadata": {
        "id": "7GeRABj_BQbd"
      },
      "source": [
        "\n",
        "##Learning Objectives\n",
        "\n",
        "\n",
        "\n",
        "1.   Explain the difference between each primitive data type.\n",
        "2.   Identify and apply operators to various data types.\n",
        "3.   Check the data type with type()"
      ]
    },
    {
      "cell_type": "markdown",
      "metadata": {
        "id": "CgtURNKzBhAA"
      },
      "source": [
        "Primitive Data Types\n",
        "The four primitive types are:\n",
        "\n",
        "\n",
        "\n",
        "1.   Integers\n",
        "2.   Floats\n",
        "3.   Boleans\n",
        "4.   String\n",
        "\n",
        "Primitive types are data!"
      ]
    },
    {
      "cell_type": "markdown",
      "metadata": {
        "id": "U90OoHFKB1ZZ"
      },
      "source": [
        "1. Integers or Ints Are Whole Numbers.\n",
        "\n",
        "Integers (ints) are whole numbers, such as 0, 1, 2, 3 etc. They can also be negative whole numbers, such as -1, -2, -3, etc. We will be using Python 3, and in Python 3 there is functionally no maximum size for an integer, except the totality of your computer’s working memory. Integers use less memory than floats."
      ]
    },
    {
      "cell_type": "code",
      "execution_count": null,
      "metadata": {
        "id": "DlJQRVoaQn15"
      },
      "outputs": [],
      "source": []
    },
    {
      "cell_type": "markdown",
      "metadata": {
        "id": "SNq0O4htB7lQ"
      },
      "source": [
        "2. Floats Are Decimal Numbers.\n",
        "\n",
        "Floats are short for ‘floating point numbers’. These are numbers that have a decimal point. It’s called a floating point because it can move around the number as the value changes. For instance:\n",
        "\n",
        "12.34 * 10 = 123.4\n",
        "\n",
        "In the above example, multiplying by 10 caused the decimal point to ‘float’ to the right.\n",
        "\n",
        "When it comes to floats, you may wish to limit the precision of your answers. You can do this by using round(). Put the value or expression you wish to round as the first argument, and put the number of places after the decimal as the second argument."
      ]
    },
    {
      "cell_type": "code",
      "execution_count": null,
      "metadata": {
        "colab": {
          "base_uri": "https://localhost:8080/"
        },
        "id": "2px9Jx9_BX1S",
        "outputId": "4c5fb1de-5b21-433e-da30-4359b01bbf8b"
      },
      "outputs": [
        {
          "data": {
            "text/plain": [
              "3.33333"
            ]
          },
          "execution_count": 12,
          "metadata": {},
          "output_type": "execute_result"
        }
      ],
      "source": [
        "# round to keep 2 places after the decimal\n",
        "round(10/3, 5)"
      ]
    },
    {
      "cell_type": "code",
      "execution_count": 4,
      "metadata": {
        "colab": {
          "base_uri": "https://localhost:8080/"
        },
        "id": "KEyGMo6kPwBz",
        "outputId": "cabab7ca-2e15-483e-9182-1c71470c6d23"
      },
      "outputs": [
        {
          "data": {
            "text/plain": [
              "0.6666666666666666"
            ]
          },
          "execution_count": 4,
          "metadata": {},
          "output_type": "execute_result"
        }
      ],
      "source": [
        "x = 2/3\n",
        "x"
      ]
    },
    {
      "cell_type": "code",
      "execution_count": 9,
      "metadata": {},
      "outputs": [
        {
          "data": {
            "text/plain": [
              "0.67"
            ]
          },
          "execution_count": 9,
          "metadata": {},
          "output_type": "execute_result"
        }
      ],
      "source": [
        "round(x, 2)"
      ]
    },
    {
      "cell_type": "code",
      "execution_count": 10,
      "metadata": {
        "colab": {
          "base_uri": "https://localhost:8080/"
        },
        "id": "j26JFLm0QIqY",
        "outputId": "03fced7d-b4af-4a84-f56e-996fce558cd0"
      },
      "outputs": [
        {
          "data": {
            "text/plain": [
              "0.4"
            ]
          },
          "execution_count": 10,
          "metadata": {},
          "output_type": "execute_result"
        }
      ],
      "source": [
        "round(4/10)\n",
        "0.4"
      ]
    },
    {
      "cell_type": "markdown",
      "metadata": {
        "id": "Q_Zb4yxpCJF4"
      },
      "source": [
        "What happens if you do not include a second argument with round(); what is the default number of places after the decimal? Try it to check!"
      ]
    },
    {
      "cell_type": "markdown",
      "metadata": {
        "id": "Z41-AWGlQG3N"
      },
      "source": []
    },
    {
      "cell_type": "markdown",
      "metadata": {
        "id": "A_ynzXXQCMlX"
      },
      "source": [
        "3. Booleans or Bools are True or False.\n",
        "\n",
        "Booleans, more commonly called ‘Bools’ are True or False. These are often the result of a comparison between things, such as 12 == (3 * 4). Note that in Python comparison is denoted by two equal signs (==). This is like asking the question: are these things equivalent?"
      ]
    },
    {
      "cell_type": "code",
      "execution_count": 12,
      "metadata": {
        "colab": {
          "base_uri": "https://localhost:8080/"
        },
        "id": "GPrrLLvpCCOl",
        "outputId": "22dd3f90-b6f8-4feb-fa37-28e1f9b93afa"
      },
      "outputs": [
        {
          "data": {
            "text/plain": [
              "True"
            ]
          },
          "execution_count": 12,
          "metadata": {},
          "output_type": "execute_result"
        }
      ],
      "source": [
        "# We will define a bool\n",
        "#Use of an equals operator\n",
        "12 == (3*4)\n",
        "\n",
        "# There is difference between = assignment operator and == equals operator"
      ]
    },
    {
      "cell_type": "code",
      "execution_count": 13,
      "metadata": {},
      "outputs": [
        {
          "data": {
            "text/plain": [
              "12"
            ]
          },
          "execution_count": 13,
          "metadata": {},
          "output_type": "execute_result"
        }
      ],
      "source": [
        "\n",
        "a=(3*4)\n",
        "a"
      ]
    },
    {
      "cell_type": "markdown",
      "metadata": {
        "id": "Gdil1GxnCY9k"
      },
      "source": [
        "Since 12 is indeed mathematically equivalent to 3*4, the output is True.\n",
        "\n",
        "Let's try another example:"
      ]
    },
    {
      "cell_type": "code",
      "execution_count": 14,
      "metadata": {
        "colab": {
          "base_uri": "https://localhost:8080/"
        },
        "id": "zw7fDMXxCUyP",
        "outputId": "b5983c51-643b-4b6f-ef89-f4a0b2df87de"
      },
      "outputs": [
        {
          "name": "stdout",
          "output_type": "stream",
          "text": [
            "False\n",
            "True\n",
            "12\n"
          ]
        }
      ],
      "source": [
        "# We will define a bool\n",
        " #first line of code\n",
        "print(1==(1/2))\n",
        "print(12 <=(7*8)) #second line of code\n",
        "12 == (7*8)\n",
        "print(12)"
      ]
    },
    {
      "cell_type": "markdown",
      "metadata": {
        "id": "bD1XIzVdCdkR"
      },
      "source": [
        "Since 12 is not mathematically equivalent to 7*8, the output is False.\n",
        "\n",
        "Note that Boolean values, True or False, always start with a capital letter.\n",
        "\n",
        "Boolean Operators (returns a bool, True or False)\n",
        "\n",
        "In addition to the == operator, there are other Boolean operators you should be familiar with.\n",
        "\n",
        "When using a Boolean operator, the output will be either True or False. Predict the result of each and run in a code cell to confirm!\n",
        "\n",
        "\n",
        "1.   is equal to (==): 5 == 5\n",
        "2.   is not equal to (!=): 5 != 2\n",
        "3.   is greater than (>): 5 > 2\n",
        "4.   is greater than or equal to (>=): 5 >= 2\n",
        "5.   is less than (<): 2 < 5\n",
        "6.   is less than or equal to (<=): 2 <= 5\n",
        "\n"
      ]
    },
    {
      "cell_type": "code",
      "execution_count": 16,
      "metadata": {
        "colab": {
          "base_uri": "https://localhost:8080/"
        },
        "id": "0-GP9znDTZ8k",
        "outputId": "f75646e8-842e-4589-bbd9-8f77dac64d8c"
      },
      "outputs": [
        {
          "name": "stdout",
          "output_type": "stream",
          "text": [
            "True\n",
            "False\n"
          ]
        }
      ],
      "source": [
        "print(5 != 2)\n",
        "print(2 < 2)"
      ]
    },
    {
      "cell_type": "markdown",
      "metadata": {
        "id": "EDh3aghsDHe2"
      },
      "source": [
        "4. Strings Are Text.\n",
        "\n",
        "Strings can contain one or many more characters and are considered text. Remember, in Python, strings are denoted by quotation marks. ‘Hello’, ‘I am a string.’ and ‘I have 16 elephants in my garage’ are all strings.\n",
        "\n",
        "Even numbers are strings if they are inside quotation marks.\n",
        "\n",
        "“14” is a string\n",
        "\n",
        "14 is an integer\n",
        "\n",
        "You can use either single quotes (‘) or double quotes (“) to create strings in Python, as long as you use the same kind at both the beginning and end.\n",
        "\n",
        "New line\n",
        "You may wish to start a new line in a string. When typing in a document, you would do this by pressing the \"enter\" key, but in Python code, you can indicate the start of a new line by using \\n.\n",
        "\n",
        "In the code below we will start a new line after each word."
      ]
    },
    {
      "cell_type": "code",
      "execution_count": 18,
      "metadata": {
        "colab": {
          "base_uri": "https://localhost:8080/"
        },
        "id": "A09-uVfaCcyj",
        "outputId": "61e153fc-c505-42b3-a8ad-b21d0e9938ee"
      },
      "outputs": [
        {
          "name": "stdout",
          "output_type": "stream",
          "text": [
            "I \n",
            " am \n",
            " Ishmael \n",
            " and\n",
            " I\n",
            " am\n",
            " a\n",
            " data \n",
            " scientist\n"
          ]
        }
      ],
      "source": [
        "# Demo line breaks\n",
        "# use \\n\n",
        "print(\"I \\n am \\n Ishmael \\n and\\n I\\n am\\n a\\n data \\n scientist\")"
      ]
    },
    {
      "cell_type": "code",
      "execution_count": null,
      "metadata": {
        "colab": {
          "base_uri": "https://localhost:8080/"
        },
        "id": "guU68JJLU1S9",
        "outputId": "5af9bae9-ba1b-4601-90b7-ddd23ee4860b"
      },
      "outputs": [
        {
          "name": "stdout",
          "output_type": "stream",
          "text": [
            "14\n"
          ]
        }
      ],
      "source": [
        "print('14')"
      ]
    },
    {
      "cell_type": "code",
      "execution_count": null,
      "metadata": {
        "colab": {
          "base_uri": "https://localhost:8080/"
        },
        "id": "ZQ7eUXWeUZJC",
        "outputId": "d46cdf6f-13ea-4ed4-f64b-b87579b8b8df"
      },
      "outputs": [
        {
          "name": "stdout",
          "output_type": "stream",
          "text": [
            "I love coding!\n"
          ]
        }
      ],
      "source": [
        "print(\"I love coding!\")"
      ]
    },
    {
      "cell_type": "markdown",
      "metadata": {
        "id": "MLXiu_3gDXwQ"
      },
      "source": [
        "##Checking the Data Type\n",
        "You can check the data type by using the type() function."
      ]
    },
    {
      "cell_type": "code",
      "execution_count": null,
      "metadata": {
        "colab": {
          "base_uri": "https://localhost:8080/"
        },
        "id": "ksGc1qyqDUQL",
        "outputId": "725234c6-dbe5-458f-bec0-69cea3a3dc01"
      },
      "outputs": [
        {
          "data": {
            "text/plain": [
              "int"
            ]
          },
          "execution_count": 5,
          "metadata": {},
          "output_type": "execute_result"
        }
      ],
      "source": [
        "# check the data type\n",
        "type(6)"
      ]
    },
    {
      "cell_type": "markdown",
      "metadata": {
        "id": "PIl4oRcbDilR"
      },
      "source": [
        "As we should expect, the data type here is int (integer).\n",
        "\n",
        "Try another\n"
      ]
    },
    {
      "cell_type": "code",
      "execution_count": null,
      "metadata": {
        "colab": {
          "base_uri": "https://localhost:8080/"
        },
        "id": "WmotzOC0DcEY",
        "outputId": "e16e3b1e-1be3-487a-9298-b4b7f8809a1e"
      },
      "outputs": [
        {
          "data": {
            "text/plain": [
              "str"
            ]
          },
          "execution_count": 6,
          "metadata": {},
          "output_type": "execute_result"
        }
      ],
      "source": [
        "# check the data type\n",
        "type('Welcome to Data Science Fundamentals')"
      ]
    },
    {
      "cell_type": "code",
      "execution_count": null,
      "metadata": {
        "colab": {
          "base_uri": "https://localhost:8080/"
        },
        "id": "FjLlLKulVGfV",
        "outputId": "c58542d1-4898-4e00-bdda-e26ae098cd86"
      },
      "outputs": [
        {
          "data": {
            "text/plain": [
              "str"
            ]
          },
          "execution_count": 37,
          "metadata": {},
          "output_type": "execute_result"
        }
      ],
      "source": [
        "type('14')"
      ]
    },
    {
      "cell_type": "markdown",
      "metadata": {
        "id": "gY_JfroVDsym"
      },
      "source": [
        "#Calculations\n",
        "Performing calculations can result in a float datatype even if the resulting value is a whole number.\n",
        "\n",
        "If you multiply an integer by a float, the result will be a float even if the product is a whole number."
      ]
    },
    {
      "cell_type": "code",
      "execution_count": null,
      "metadata": {
        "colab": {
          "base_uri": "https://localhost:8080/"
        },
        "id": "onm6426PDoYP",
        "outputId": "051817c3-bc4c-4ee4-c0ea-10733b1bfe79"
      },
      "outputs": [
        {
          "data": {
            "text/plain": [
              "float"
            ]
          },
          "execution_count": 7,
          "metadata": {},
          "output_type": "execute_result"
        }
      ],
      "source": [
        "# check the type\n",
        "type(6*.5)"
      ]
    },
    {
      "cell_type": "markdown",
      "metadata": {
        "id": "uZsfBVKID02h"
      },
      "source": [
        "Even if the mathematical product is a whole number (3), you can see that a float multiplied by an integer will result in a float.\n",
        "\n",
        "If you divide two integers, the result will be a float even if its quotient is a whole number."
      ]
    },
    {
      "cell_type": "code",
      "execution_count": null,
      "metadata": {
        "colab": {
          "base_uri": "https://localhost:8080/"
        },
        "id": "SbB11eWPDxE_",
        "outputId": "a864cec8-af43-433f-e060-c466c3a4a80d"
      },
      "outputs": [
        {
          "data": {
            "text/plain": [
              "3.0"
            ]
          },
          "execution_count": 38,
          "metadata": {},
          "output_type": "execute_result"
        }
      ],
      "source": [
        "# check the type\n",
        "type(9/3)\n",
        "9/3"
      ]
    },
    {
      "cell_type": "code",
      "execution_count": 22,
      "metadata": {
        "colab": {
          "base_uri": "https://localhost:8080/"
        },
        "id": "dnIOZl7bVxa1",
        "outputId": "506981fa-c021-4329-882d-bbc53c4148cc"
      },
      "outputs": [
        {
          "name": "stdout",
          "output_type": "stream",
          "text": [
            "14\n"
          ]
        },
        {
          "data": {
            "text/plain": [
              "'14'"
            ]
          },
          "execution_count": 22,
          "metadata": {},
          "output_type": "execute_result"
        }
      ],
      "source": [
        "print(14)\n",
        "a=14\n",
        "y = '14'\n",
        "y"
      ]
    },
    {
      "cell_type": "code",
      "execution_count": null,
      "metadata": {
        "colab": {
          "base_uri": "https://localhost:8080/"
        },
        "id": "aIoQe0K3V7wo",
        "outputId": "673f4cc4-a611-4298-e586-17a2d17a1dd0"
      },
      "outputs": [
        {
          "name": "stdout",
          "output_type": "stream",
          "text": [
            "14\n",
            "<class 'int'>\n"
          ]
        },
        {
          "data": {
            "text/plain": [
              "str"
            ]
          },
          "execution_count": 45,
          "metadata": {},
          "output_type": "execute_result"
        }
      ],
      "source": [
        "print('14')\n",
        "print(type(a))\n",
        "type(y)"
      ]
    },
    {
      "cell_type": "markdown",
      "metadata": {
        "id": "5ZU36BdXD9j1"
      },
      "source": [
        "##Summary\n",
        "Python has four primitive types: integers, floats, strings, and bools.\n",
        "\n",
        "\n",
        "\n",
        "1.  Integers are whole numbers.\n",
        "2.  Floats are decimal numbers.\n",
        "3.  Bools are True or False.\n",
        "4.  Strings are text."
      ]
    },
    {
      "cell_type": "code",
      "execution_count": null,
      "metadata": {
        "id": "KCXo3yrHD4Lm"
      },
      "outputs": [],
      "source": []
    }
  ],
  "metadata": {
    "colab": {
      "provenance": []
    },
    "kernelspec": {
      "display_name": "RDSB-5U8ITK5B",
      "language": "python",
      "name": "python3"
    },
    "language_info": {
      "codemirror_mode": {
        "name": "ipython",
        "version": 3
      },
      "file_extension": ".py",
      "mimetype": "text/x-python",
      "name": "python",
      "nbconvert_exporter": "python",
      "pygments_lexer": "ipython3",
      "version": "3.11.5"
    }
  },
  "nbformat": 4,
  "nbformat_minor": 0
}
